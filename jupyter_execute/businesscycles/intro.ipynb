{
 "cells": [
  {
   "cell_type": "markdown",
   "metadata": {},
   "source": [
    "# Business Cycles Analytics\n",
    "\n",
    "From data collected from the [St. Louis Federal Reserve API](https://fred.stlouisfed.org/docs/api/fred/) and [Statistics Denmark API](https://www.dst.dk/da/Statistik/brug-statistikken/muligheder-i-statistikbanken/api), this is a JupyterBook of visualizations and time series analyses of key business cycle indicators.\n",
    "\n",
    "You should be able to see the book at:\n",
    "\n",
    "```\n",
    "https://ckrusemd.github.io/business-cycles-analytics/\n",
    "```"
   ]
  },
  {
   "cell_type": "code",
   "execution_count": 1,
   "metadata": {},
   "outputs": [
    {
     "name": "stdout",
     "output_type": "stream",
     "text": [
      "Report extracted on 12/04/2022 14:51:08.\n"
     ]
    }
   ],
   "source": [
    "from datetime import datetime\n",
    "import pytz\n",
    "tz = pytz.timezone('Europe/Copenhagen')\n",
    "print(\"Report extracted on \" + datetime.now(tz).strftime(\"%d/%m/%Y %H:%M:%S\") + \".\")"
   ]
  },
  {
   "cell_type": "code",
   "execution_count": 2,
   "metadata": {},
   "outputs": [
    {
     "name": "stdout",
     "output_type": "stream",
     "text": [
      "{'commit_hash': 'b5cd02544',\n",
      " 'commit_source': 'installation',\n",
      " 'default_encoding': 'utf-8',\n",
      " 'ipython_path': '/usr/local/lib/python3.8/dist-packages/IPython',\n",
      " 'ipython_version': '8.2.0',\n",
      " 'os_name': 'posix',\n",
      " 'platform': 'Linux-5.13.0-1021-azure-x86_64-with-glibc2.29',\n",
      " 'sys_executable': '/usr/bin/python3',\n",
      " 'sys_platform': 'linux',\n",
      " 'sys_version': '3.8.10 (default, Mar 15 2022, 12:22:08) \\n[GCC 9.4.0]'}\n"
     ]
    }
   ],
   "source": [
    "import IPython\n",
    "print( IPython.sys_info() )"
   ]
  }
 ],
 "metadata": {
  "kernelspec": {
   "display_name": "Python 3.8.5 64-bit",
   "name": "python3"
  },
  "language_info": {
   "codemirror_mode": {
    "name": "ipython",
    "version": 3
   },
   "file_extension": ".py",
   "mimetype": "text/x-python",
   "name": "python",
   "nbconvert_exporter": "python",
   "pygments_lexer": "ipython3",
   "version": "3.8.10"
  },
  "metadata": {
   "interpreter": {
    "hash": "4cd7ab41f5fca4b9b44701077e38c5ffd31fe66a6cab21e0214b68d958d0e462"
   }
  },
  "widgets": {
   "application/vnd.jupyter.widget-state+json": {
    "state": {},
    "version_major": 2,
    "version_minor": 0
   }
  }
 },
 "nbformat": 4,
 "nbformat_minor": 4
}