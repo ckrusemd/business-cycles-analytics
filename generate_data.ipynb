{
 "cells": [
  {
   "cell_type": "markdown",
   "metadata": {},
   "source": [
    "# Generate Notebooks and TOC yaml file\n",
    "\n",
    "1. Generates FRED template based on category_ids\n",
    "2. Generates Yahoo Currency and Metals template based on tickers"
   ]
  },
  {
   "cell_type": "markdown",
   "metadata": {},
   "source": [
    "## TOC yml file start"
   ]
  },
  {
   "cell_type": "code",
   "execution_count": 3,
   "metadata": {},
   "outputs": [],
   "source": [
    "text = \"format: jb-book\\nroot: businesscycles/intro\\nparts:\\n\""
   ]
  },
  {
   "cell_type": "markdown",
   "metadata": {},
   "source": [
    "# FRED"
   ]
  },
  {
   "cell_type": "code",
   "execution_count": 4,
   "metadata": {},
   "outputs": [
    {
     "name": "stdout",
     "output_type": "stream",
     "text": [
      "39f4f960ae8ea7fc0c370021ddf49544\n"
     ]
    }
   ],
   "source": [
    "from dotenv import load_dotenv\n",
    "import requests\n",
    "import pandas as pd\n",
    "import datetime\n",
    "from tqdm import tqdm\n",
    "import os\n",
    "load_dotenv()\n",
    "api_key = os.getenv(\"APIKEY\")\n",
    "print(api_key)"
   ]
  },
  {
   "cell_type": "markdown",
   "metadata": {},
   "source": [
    "## Favorites"
   ]
  },
  {
   "cell_type": "code",
   "execution_count": 5,
   "metadata": {},
   "outputs": [
    {
     "name": "stderr",
     "output_type": "stream",
     "text": [
      "100%|██████████| 17/17 [00:00<00:00, 99308.03it/s]\n"
     ]
    }
   ],
   "source": [
    "text = text + \"- caption: Favorites\\n  chapters:\\n\"\n",
    "for series_identifier in tqdm( ['T10YFF','T5YFF','T1YFF','T6MFF','T3MFF','DGS10','T10Y3M','T10Y2Y','T10YIE','T5YIE','MORTGAGE30US','DTWEXBGS','BOGMBASE','CPALTT01USM659N','GFDEGDQ188S','SP500','VIXCLS'] ):\n",
    "    text = text + \"  - file: businesscycles/fredapi/\" + series_identifier + \"\\n\""
   ]
  },
  {
   "cell_type": "markdown",
   "metadata": {},
   "source": [
    "## Functions"
   ]
  },
  {
   "cell_type": "code",
   "execution_count": 6,
   "metadata": {},
   "outputs": [],
   "source": [
    "def get_fred_category(category_id,api_key):\n",
    "    import requests\n",
    "    url = \"https://api.stlouisfed.org/fred/category?category_id=\" + str(category_id) + \"&api_key=\" + api_key + \"&file_type=json\"\n",
    "    result = requests.get(url).json()['categories'][0]\n",
    "    return(result)"
   ]
  },
  {
   "cell_type": "code",
   "execution_count": 7,
   "metadata": {},
   "outputs": [],
   "source": [
    "def get_fred_series_in_category(category_id, api_key):\n",
    "    import requests\n",
    "    url = \"https://api.stlouisfed.org/fred/category/series?category_id=\" + str(category_id) + \"&api_key=\" + api_key + \"&file_type=json&order_by=popularity&sort_order=desc&limit=5\"\n",
    "    prior_date = datetime.datetime.now() - datetime.timedelta(days=3*365)\n",
    "    df = pd.DataFrame(data = requests.get(url).json()['seriess'] )\n",
    "    df = df.query(\"last_updated >= '\" + str(prior_date) + \"'\")\n",
    "    result = { 'category_id' : category_id, 'data' : df.to_dict(orient=\"records\") }\n",
    "    return(result)"
   ]
  },
  {
   "cell_type": "code",
   "execution_count": 8,
   "metadata": {},
   "outputs": [],
   "source": [
    "def get_fred_data(series_id,api_key):\n",
    "    import requests\n",
    "    url = \"https://api.stlouisfed.org/fred/series/observations?series_id=\" + series_id + \"&api_key=\" + api_key + \"&file_type=json\"\n",
    "    df = pd.DataFrame(data = requests.get(url).json()['observations'] )\n",
    "    df = df.drop(['realtime_start','realtime_end'],axis=1)\n",
    "    df['value'] = pd.to_numeric(df[\"value\"], downcast=\"float\")\n",
    "    df = df.rename(columns={\"date\": \"ds\", \"value\": \"y\"})\n",
    "    return(df)\n"
   ]
  },
  {
   "cell_type": "code",
   "execution_count": 9,
   "metadata": {},
   "outputs": [],
   "source": [
    "def generate_notebook(symbol,name):\n",
    "    import nbformat as nbf\n",
    "    nb = nbf.v4.new_notebook()\n",
    "\n",
    "    # Title\n",
    "    text = \"\"\"# ({ticker}): {name}\"\"\".format(ticker = symbol, name = name)\n",
    "    # Code\n",
    "    code = \"\"\"\\\n",
    "    from functions import *\n",
    "    import os\n",
    "    from dotenv import load_dotenv\n",
    "    load_dotenv()\n",
    "    apikey = os.getenv(\"APIKEY\")\n",
    "    fred = Fred(api_key=apikey)\n",
    "    collect_tune_and_predict('{ticker}',fred,2*365)\"\"\".format(ticker = symbol)\n",
    "\n",
    "    # Cells\n",
    "    nb['cells'] = [nbf.v4.new_markdown_cell(text),\n",
    "                nbf.v4.new_code_cell(code)]\n",
    "\n",
    "    fname = 'businesscycles/fredapi/{ticker}.ipynb'.format(ticker = symbol)\n",
    "\n",
    "    with open(fname, 'w') as f:\n",
    "        nbf.write(nb, f)\n",
    "    return True"
   ]
  },
  {
   "cell_type": "markdown",
   "metadata": {},
   "source": [
    "## Pipeline"
   ]
  },
  {
   "cell_type": "code",
   "execution_count": 10,
   "metadata": {},
   "outputs": [],
   "source": [
    "category_ids = sorted( list( set( [116,33120,94,114,32348,33446,124,30,28,32242,123,32218,32255,93,101,32457,32440,32242,33119,32217,110,33446,9,32240,33913,33119,32457,32425,32255,281,32240,33963,33972,33978,33980,32351,33509,12,32305,32325,32250,33500,33001] ) ) )"
   ]
  },
  {
   "cell_type": "markdown",
   "metadata": {},
   "source": [
    "### Generate 1) Jupyter notebooks, 2) append to toc YMLs"
   ]
  },
  {
   "cell_type": "code",
   "execution_count": 11,
   "metadata": {
    "tags": []
   },
   "outputs": [],
   "source": [
    "# for category_id in tqdm( category_ids ):\n",
    "#     ## Category header\n",
    "#     category_name = get_fred_category(category_id,api_key)['name']\n",
    "#     ## Results\n",
    "#     category_result = get_fred_series_in_category(category_id,api_key)\n",
    "#     ## No discontinued\n",
    "#     for series in reversed( range(len(category_result['data']))):\n",
    "#         if \"DISCONTINUED\" in category_result['data'][series]['title']:\n",
    "#             del category_result['data'][series]\n",
    "#     ## Text\n",
    "#     if len(category_result['data'])==0:\n",
    "#         continue\n",
    "#     else:\n",
    "#         text = text + \"- caption: \" + category_name + \" (\" + str(category_id) + \")\\n  chapters:\\n\"\n",
    "#         for series in category_result['data']:\n",
    "#             generate_notebook(symbol = series['id'], name = series['title'] ) # generate ipynb files\n",
    "#             text = text + \"  - file: businesscycles/fredapi/{ticker}\\n\".format(ticker=series['id'])"
   ]
  },
  {
   "cell_type": "markdown",
   "metadata": {},
   "source": [
    "# DST"
   ]
  },
  {
   "cell_type": "code",
   "execution_count": 12,
   "metadata": {},
   "outputs": [],
   "source": [
    "series_dst = ['BYGV88','EJ14']"
   ]
  },
  {
   "cell_type": "code",
   "execution_count": 13,
   "metadata": {},
   "outputs": [],
   "source": [
    "text = text + \"- caption: DST\\n  chapters:\\n\"\n",
    "for dst in series_dst:\n",
    "  text = text + \"  - file: businesscycles/dst/{ticker}.\\n\".format(ticker=dst)"
   ]
  },
  {
   "cell_type": "markdown",
   "metadata": {},
   "source": [
    "# Yahoo"
   ]
  },
  {
   "cell_type": "code",
   "execution_count": 14,
   "metadata": {},
   "outputs": [],
   "source": [
    "tickers_metal = ['ALI','GC','HG','PA','PL','SI','CL','HO','NG','ZC','ZO','ZR','ZL','GF','HE','LE','CC','KC','CT','OJ','SB']\n",
    "tickers_currencies = ['CHFDKK','GBPDKK','NOKDKK','SEKDKK','USDDKK','AUDDKK','NZDDKK','JPYDKK','CADDKK','HUFDKK','CNYDKK','HKDDKK','SGDDKK','INRDKK','MXNDKK','IDRDKK','RUBDKK','ZARDKK','MYRDKK','THBDKK']"
   ]
  },
  {
   "cell_type": "markdown",
   "metadata": {},
   "source": [
    "## Metals"
   ]
  },
  {
   "cell_type": "code",
   "execution_count": 15,
   "metadata": {},
   "outputs": [],
   "source": [
    "text = text + \"- caption: Yahoo Metals\\n  chapters:\\n\"\n",
    "for metal in tickers_metal:\n",
    "  text = text + \"  - file: businesscycles/yahoo_metals/{ticker}\\n\".format(ticker=metal)"
   ]
  },
  {
   "cell_type": "markdown",
   "metadata": {},
   "source": [
    "## Currencies"
   ]
  },
  {
   "cell_type": "code",
   "execution_count": 16,
   "metadata": {},
   "outputs": [],
   "source": [
    "text = text + \"- caption: Yahoo Currency\\n  chapters:\\n\"\n",
    "for metal in tickers_currencies:\n",
    "    text = text + \"  - file: businesscycles/yahoo_currencies/{ticker}\\n\".format(ticker=metal)"
   ]
  },
  {
   "cell_type": "markdown",
   "metadata": {},
   "source": [
    "## Write TOC file"
   ]
  },
  {
   "cell_type": "code",
   "execution_count": 17,
   "metadata": {},
   "outputs": [],
   "source": [
    "# export to YML\n",
    "with open(\"_toc.yml\", 'r+') as f:\n",
    "    f.seek(0)\n",
    "    f.write(text)\n",
    "    f.truncate()"
   ]
  }
 ],
 "metadata": {
  "interpreter": {
   "hash": "916dbcbb3f70747c44a77c7bcd40155683ae19c65e1c03b4aa3499c5328201f1"
  },
  "kernelspec": {
   "display_name": "Python 3.9.5 64-bit",
   "language": "python",
   "name": "python3"
  },
  "language_info": {
   "codemirror_mode": {
    "name": "ipython",
    "version": 3
   },
   "file_extension": ".py",
   "mimetype": "text/x-python",
   "name": "python",
   "nbconvert_exporter": "python",
   "pygments_lexer": "ipython3",
   "version": "3.9.7"
  },
  "metadata": {
   "interpreter": {
    "hash": "916dbcbb3f70747c44a77c7bcd40155683ae19c65e1c03b4aa3499c5328201f1"
   }
  },
  "orig_nbformat": 2
 },
 "nbformat": 4,
 "nbformat_minor": 2
}
