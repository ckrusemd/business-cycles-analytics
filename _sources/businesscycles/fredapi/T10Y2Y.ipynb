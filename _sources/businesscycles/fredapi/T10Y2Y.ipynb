{
 "cells": [
  {
   "cell_type": "markdown",
   "id": "75bc155d",
   "metadata": {},
   "source": [
    "# (T10Y2Y): 10-Year Treasury Constant Maturity Minus 2-Year Treasury Constant Maturity"
   ]
  },
  {
   "cell_type": "code",
   "execution_count": null,
   "id": "cfee24d9",
   "metadata": {},
   "outputs": [],
   "source": [
    "    from functions import *\n",
    "    import os\n",
    "    from dotenv import load_dotenv\n",
    "    load_dotenv()\n",
    "    apikey = os.getenv(\"APIKEY\")\n",
    "    fred = Fred(api_key=apikey)\n",
    "    collect_tune_and_predict('T10Y2Y',fred,2*365)"
   ]
  }
 ],
 "metadata": {},
 "nbformat": 4,
 "nbformat_minor": 5
}
