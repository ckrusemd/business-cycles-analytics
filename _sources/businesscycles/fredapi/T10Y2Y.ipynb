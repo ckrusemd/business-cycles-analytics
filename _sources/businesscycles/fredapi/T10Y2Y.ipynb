{
 "cells": [
  {
   "cell_type": "markdown",
   "id": "fbe5c1f0",
   "metadata": {},
   "source": [
    "# (T10Y2Y): 10-Year Treasury Constant Maturity Minus 2-Year Treasury Constant Maturity"
   ]
  },
  {
   "cell_type": "code",
   "execution_count": null,
   "id": "6066b114",
   "metadata": {},
   "outputs": [],
   "source": [
    "    from functions import *\n",
    "    import os\n",
    "    from dotenv import load_dotenv\n",
    "    load_dotenv()\n",
    "    apikey = os.getenv(\"APIKEY\")\n",
    "    fred = Fred(api_key=apikey)\n",
    "    collect_tune_and_predict('T10Y2Y',fred,2*365)"
   ]
  }
 ],
 "metadata": {},
 "nbformat": 4,
 "nbformat_minor": 5
}
