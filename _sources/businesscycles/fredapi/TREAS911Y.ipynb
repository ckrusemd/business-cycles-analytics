{
 "cells": [
  {
   "cell_type": "markdown",
   "id": "253100cc",
   "metadata": {},
   "source": [
    "# (TREAS911Y): Assets: Securities Held Outright: U.S. Treasury Securities: Maturing in 91 Days to 1 Year: Wednesday Level"
   ]
  },
  {
   "cell_type": "code",
   "execution_count": null,
   "id": "ad6abb59",
   "metadata": {},
   "outputs": [],
   "source": [
    "    from functions import *\n",
    "    import os\n",
    "    from dotenv import load_dotenv\n",
    "    load_dotenv()\n",
    "    apikey = os.getenv(\"APIKEY\")\n",
    "    fred = Fred(api_key=apikey)\n",
    "    collect_tune_and_predict('TREAS911Y',fred,2*365)"
   ]
  }
 ],
 "metadata": {},
 "nbformat": 4,
 "nbformat_minor": 5
}
