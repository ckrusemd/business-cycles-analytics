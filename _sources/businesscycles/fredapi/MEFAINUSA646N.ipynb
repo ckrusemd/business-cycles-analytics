{
 "cells": [
  {
   "cell_type": "markdown",
   "id": "da5149bf",
   "metadata": {},
   "source": [
    "# (MEFAINUSA646N): Median Family Income in the United States"
   ]
  },
  {
   "cell_type": "code",
   "execution_count": null,
   "id": "631853c4",
   "metadata": {},
   "outputs": [],
   "source": [
    "    from functions import *\n",
    "    import os\n",
    "    from dotenv import load_dotenv\n",
    "    load_dotenv()\n",
    "    apikey = os.getenv(\"APIKEY\")\n",
    "    fred = Fred(api_key=apikey)\n",
    "    collect_tune_and_predict('MEFAINUSA646N',fred,2*365)"
   ]
  }
 ],
 "metadata": {},
 "nbformat": 4,
 "nbformat_minor": 5
}
