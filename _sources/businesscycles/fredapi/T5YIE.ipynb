{
 "cells": [
  {
   "cell_type": "markdown",
   "id": "8a16db20",
   "metadata": {},
   "source": [
    "# (T5YIE): 5-Year Breakeven Inflation Rate"
   ]
  },
  {
   "cell_type": "code",
   "execution_count": null,
   "id": "3bbd76e4",
   "metadata": {},
   "outputs": [],
   "source": [
    "    from functions import *\n",
    "    import os\n",
    "    from dotenv import load_dotenv\n",
    "    load_dotenv()\n",
    "    apikey = os.getenv(\"APIKEY\")\n",
    "    fred = Fred(api_key=apikey)\n",
    "    collect_tune_and_predict('T5YIE',fred,2*365)"
   ]
  }
 ],
 "metadata": {},
 "nbformat": 4,
 "nbformat_minor": 5
}
