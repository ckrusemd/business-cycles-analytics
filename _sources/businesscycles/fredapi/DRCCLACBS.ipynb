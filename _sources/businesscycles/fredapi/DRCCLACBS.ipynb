{
 "cells": [
  {
   "cell_type": "markdown",
   "id": "89745912",
   "metadata": {},
   "source": [
    "# (DRCCLACBS): Delinquency Rate on Credit Card Loans, All Commercial Banks"
   ]
  },
  {
   "cell_type": "code",
   "execution_count": null,
   "id": "3ccadbd5",
   "metadata": {},
   "outputs": [],
   "source": [
    "    from functions import *\n",
    "    import os\n",
    "    from dotenv import load_dotenv\n",
    "    load_dotenv()\n",
    "    apikey = os.getenv(\"APIKEY\")\n",
    "    fred = Fred(api_key=apikey)\n",
    "    collect_tune_and_predict('DRCCLACBS',fred,2*365)"
   ]
  }
 ],
 "metadata": {},
 "nbformat": 4,
 "nbformat_minor": 5
}
