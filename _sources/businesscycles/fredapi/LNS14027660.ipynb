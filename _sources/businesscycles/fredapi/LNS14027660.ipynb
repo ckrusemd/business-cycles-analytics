{
 "cells": [
  {
   "cell_type": "markdown",
   "id": "552ca6bd",
   "metadata": {},
   "source": [
    "# (LNS14027660): Unemployment Rate - High School Graduates, No College, 25 Yrs. & Over"
   ]
  },
  {
   "cell_type": "code",
   "execution_count": null,
   "id": "802c80dc",
   "metadata": {},
   "outputs": [],
   "source": [
    "    from functions import *\n",
    "    import os\n",
    "    from dotenv import load_dotenv\n",
    "    load_dotenv()\n",
    "    apikey = os.getenv(\"APIKEY\")\n",
    "    fred = Fred(api_key=apikey)\n",
    "    collect_tune_and_predict('LNS14027660',fred,2*365)"
   ]
  }
 ],
 "metadata": {},
 "nbformat": 4,
 "nbformat_minor": 5
}
