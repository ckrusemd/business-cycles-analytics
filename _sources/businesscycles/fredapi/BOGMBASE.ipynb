{
 "cells": [
  {
   "cell_type": "markdown",
   "id": "13e53ec8",
   "metadata": {},
   "source": [
    "# (BOGMBASE): Monetary Base; Total"
   ]
  },
  {
   "cell_type": "code",
   "execution_count": null,
   "id": "405681d2",
   "metadata": {},
   "outputs": [],
   "source": [
    "    from functions import *\n",
    "    import os\n",
    "    from dotenv import load_dotenv\n",
    "    load_dotenv()\n",
    "    apikey = os.getenv(\"APIKEY\")\n",
    "    fred = Fred(api_key=apikey)\n",
    "    collect_tune_and_predict('BOGMBASE',fred,2*365)"
   ]
  }
 ],
 "metadata": {},
 "nbformat": 4,
 "nbformat_minor": 5
}
