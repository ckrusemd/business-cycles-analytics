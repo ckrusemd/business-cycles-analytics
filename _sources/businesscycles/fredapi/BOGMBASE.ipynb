{
 "cells": [
  {
   "cell_type": "markdown",
   "id": "06b80add",
   "metadata": {},
   "source": [
    "# (BOGMBASE): Monetary Base; Total"
   ]
  },
  {
   "cell_type": "code",
   "execution_count": null,
   "id": "98a83b10",
   "metadata": {},
   "outputs": [],
   "source": [
    "    from functions import *\n",
    "    import os\n",
    "    from dotenv import load_dotenv\n",
    "    load_dotenv()\n",
    "    apikey = os.getenv(\"APIKEY\")\n",
    "    fred = Fred(api_key=apikey)\n",
    "    collect_tune_and_predict('BOGMBASE',fred,2*365)"
   ]
  }
 ],
 "metadata": {},
 "nbformat": 4,
 "nbformat_minor": 5
}
