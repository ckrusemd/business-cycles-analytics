{
 "cells": [
  {
   "cell_type": "markdown",
   "id": "4eb6fca4",
   "metadata": {},
   "source": [
    "# (IPULN5311L201000000): Hours Worked for Real Estate and Rental and Leasing: Lessors of Real Estate (NAICS 5311) in the United States"
   ]
  },
  {
   "cell_type": "code",
   "execution_count": null,
   "id": "b447964e",
   "metadata": {},
   "outputs": [],
   "source": [
    "    from functions import *\n",
    "    import os\n",
    "    from dotenv import load_dotenv\n",
    "    load_dotenv()\n",
    "    apikey = os.getenv(\"APIKEY\")\n",
    "    fred = Fred(api_key=apikey)\n",
    "    collect_tune_and_predict('IPULN5311L201000000',fred,2*365)"
   ]
  }
 ],
 "metadata": {},
 "nbformat": 4,
 "nbformat_minor": 5
}
