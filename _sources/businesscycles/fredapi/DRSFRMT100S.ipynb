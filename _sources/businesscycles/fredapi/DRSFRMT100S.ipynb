{
 "cells": [
  {
   "cell_type": "markdown",
   "id": "aa721f45",
   "metadata": {},
   "source": [
    "# (DRSFRMT100S): Delinquency Rate on Single-Family Residential Mortgages, Booked in Domestic Offices, Top 100 Banks Ranked by Assets"
   ]
  },
  {
   "cell_type": "code",
   "execution_count": null,
   "id": "4475c6f9",
   "metadata": {},
   "outputs": [],
   "source": [
    "    from functions import *\n",
    "    import os\n",
    "    from dotenv import load_dotenv\n",
    "    load_dotenv()\n",
    "    apikey = os.getenv(\"APIKEY\")\n",
    "    fred = Fred(api_key=apikey)\n",
    "    collect_tune_and_predict('DRSFRMT100S',fred,2*365)"
   ]
  }
 ],
 "metadata": {},
 "nbformat": 4,
 "nbformat_minor": 5
}
