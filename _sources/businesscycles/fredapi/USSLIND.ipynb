{
 "cells": [
  {
   "cell_type": "markdown",
   "id": "3b38fce1",
   "metadata": {},
   "source": [
    "# (USSLIND): Leading Index for the United States"
   ]
  },
  {
   "cell_type": "code",
   "execution_count": null,
   "id": "96026158",
   "metadata": {},
   "outputs": [],
   "source": [
    "    from functions import *\n",
    "    import os\n",
    "    from dotenv import load_dotenv\n",
    "    load_dotenv()\n",
    "    apikey = os.getenv(\"APIKEY\")\n",
    "    fred = Fred(api_key=apikey)\n",
    "    collect_tune_and_predict('USSLIND',fred,2*365)"
   ]
  }
 ],
 "metadata": {},
 "nbformat": 4,
 "nbformat_minor": 5
}
