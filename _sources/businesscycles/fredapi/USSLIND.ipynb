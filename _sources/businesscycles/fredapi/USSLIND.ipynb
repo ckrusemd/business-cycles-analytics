{
 "cells": [
  {
   "cell_type": "markdown",
   "id": "d4ca1569",
   "metadata": {},
   "source": [
    "# (USSLIND): Leading Index for the United States"
   ]
  },
  {
   "cell_type": "code",
   "execution_count": null,
   "id": "3b3a5a0f",
   "metadata": {},
   "outputs": [],
   "source": [
    "    from functions import *\n",
    "    import os\n",
    "    from dotenv import load_dotenv\n",
    "    load_dotenv()\n",
    "    apikey = os.getenv(\"APIKEY\")\n",
    "    fred = Fred(api_key=apikey)\n",
    "    collect_tune_and_predict('USSLIND',fred,2*365)"
   ]
  }
 ],
 "metadata": {},
 "nbformat": 4,
 "nbformat_minor": 5
}
