{
 "cells": [
  {
   "cell_type": "markdown",
   "id": "7fd6cd1f",
   "metadata": {},
   "source": [
    "# (FEDDT): Assets: Securities Held Outright: Federal Agency Debt Securities: All: Wednesday Level"
   ]
  },
  {
   "cell_type": "code",
   "execution_count": null,
   "id": "54387782",
   "metadata": {},
   "outputs": [],
   "source": [
    "    from functions import *\n",
    "    import os\n",
    "    from dotenv import load_dotenv\n",
    "    load_dotenv()\n",
    "    apikey = os.getenv(\"APIKEY\")\n",
    "    fred = Fred(api_key=apikey)\n",
    "    collect_tune_and_predict('FEDDT',fred,2*365)"
   ]
  }
 ],
 "metadata": {},
 "nbformat": 4,
 "nbformat_minor": 5
}
