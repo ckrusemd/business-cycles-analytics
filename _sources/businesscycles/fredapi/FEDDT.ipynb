{
 "cells": [
  {
   "cell_type": "markdown",
   "id": "1fac7b0d",
   "metadata": {},
   "source": [
    "# (FEDDT): Assets: Securities Held Outright: Federal Agency Debt Securities: All: Wednesday Level"
   ]
  },
  {
   "cell_type": "code",
   "execution_count": null,
   "id": "9d9f092b",
   "metadata": {},
   "outputs": [],
   "source": [
    "    from functions import *\n",
    "    import os\n",
    "    from dotenv import load_dotenv\n",
    "    load_dotenv()\n",
    "    apikey = os.getenv(\"APIKEY\")\n",
    "    fred = Fred(api_key=apikey)\n",
    "    collect_tune_and_predict('FEDDT',fred,2*365)"
   ]
  }
 ],
 "metadata": {},
 "nbformat": 4,
 "nbformat_minor": 5
}
