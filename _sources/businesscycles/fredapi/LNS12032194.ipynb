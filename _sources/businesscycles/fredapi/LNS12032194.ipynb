{
 "cells": [
  {
   "cell_type": "markdown",
   "id": "40256683",
   "metadata": {},
   "source": [
    "# (LNS12032194): Employment Level - Part-Time for Economic Reasons, All Industries"
   ]
  },
  {
   "cell_type": "code",
   "execution_count": null,
   "id": "8f2fde8d",
   "metadata": {},
   "outputs": [],
   "source": [
    "    from functions import *\n",
    "    import os\n",
    "    from dotenv import load_dotenv\n",
    "    load_dotenv()\n",
    "    apikey = os.getenv(\"APIKEY\")\n",
    "    fred = Fred(api_key=apikey)\n",
    "    collect_tune_and_predict('LNS12032194',fred,2*365)"
   ]
  }
 ],
 "metadata": {},
 "nbformat": 4,
 "nbformat_minor": 5
}
