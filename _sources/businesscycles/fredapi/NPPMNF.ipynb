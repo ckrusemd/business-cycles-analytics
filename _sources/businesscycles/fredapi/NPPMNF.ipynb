{
 "cells": [
  {
   "cell_type": "markdown",
   "id": "56d9e137",
   "metadata": {},
   "source": [
    "# (NPPMNF): Nonfarm Private Manufacturing Payroll Employment"
   ]
  },
  {
   "cell_type": "code",
   "execution_count": null,
   "id": "5c7bd62a",
   "metadata": {},
   "outputs": [],
   "source": [
    "    from functions import *\n",
    "    import os\n",
    "    from dotenv import load_dotenv\n",
    "    load_dotenv()\n",
    "    apikey = os.getenv(\"APIKEY\")\n",
    "    fred = Fred(api_key=apikey)\n",
    "    collect_tune_and_predict('NPPMNF',fred,2*365)"
   ]
  }
 ],
 "metadata": {},
 "nbformat": 4,
 "nbformat_minor": 5
}
