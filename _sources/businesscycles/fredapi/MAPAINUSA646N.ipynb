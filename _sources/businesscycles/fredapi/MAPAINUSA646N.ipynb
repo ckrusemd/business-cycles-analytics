{
 "cells": [
  {
   "cell_type": "markdown",
   "id": "4c41e03b",
   "metadata": {},
   "source": [
    "# (MAPAINUSA646N): Mean Personal Income in the United States"
   ]
  },
  {
   "cell_type": "code",
   "execution_count": null,
   "id": "d6f812d0",
   "metadata": {},
   "outputs": [],
   "source": [
    "    from functions import *\n",
    "    import os\n",
    "    from dotenv import load_dotenv\n",
    "    load_dotenv()\n",
    "    apikey = os.getenv(\"APIKEY\")\n",
    "    fred = Fred(api_key=apikey)\n",
    "    collect_tune_and_predict('MAPAINUSA646N',fred,2*365)"
   ]
  }
 ],
 "metadata": {},
 "nbformat": 4,
 "nbformat_minor": 5
}
