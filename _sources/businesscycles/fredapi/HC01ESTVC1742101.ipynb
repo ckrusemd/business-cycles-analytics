{
 "cells": [
  {
   "cell_type": "markdown",
   "id": "1b275cb9",
   "metadata": {},
   "source": [
    "# (HC01ESTVC1742101): Bachelor's Degree or Higher (5-year estimate) in Philadelphia County/city, PA"
   ]
  },
  {
   "cell_type": "code",
   "execution_count": null,
   "id": "514c7871",
   "metadata": {},
   "outputs": [],
   "source": [
    "    from functions import *\n",
    "    import os\n",
    "    from dotenv import load_dotenv\n",
    "    load_dotenv()\n",
    "    apikey = os.getenv(\"APIKEY\")\n",
    "    fred = Fred(api_key=apikey)\n",
    "    collect_tune_and_predict('HC01ESTVC1742101',fred,2*365)"
   ]
  }
 ],
 "metadata": {},
 "nbformat": 4,
 "nbformat_minor": 5
}
