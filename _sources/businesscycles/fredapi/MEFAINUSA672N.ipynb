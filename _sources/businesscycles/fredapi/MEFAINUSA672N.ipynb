{
 "cells": [
  {
   "cell_type": "markdown",
   "id": "11690d57",
   "metadata": {},
   "source": [
    "# (MEFAINUSA672N): Real Median Family Income in the United States"
   ]
  },
  {
   "cell_type": "code",
   "execution_count": null,
   "id": "2a1d3650",
   "metadata": {},
   "outputs": [],
   "source": [
    "    from functions import *\n",
    "    import os\n",
    "    from dotenv import load_dotenv\n",
    "    load_dotenv()\n",
    "    apikey = os.getenv(\"APIKEY\")\n",
    "    fred = Fred(api_key=apikey)\n",
    "    collect_tune_and_predict('MEFAINUSA672N',fred,2*365)"
   ]
  }
 ],
 "metadata": {},
 "nbformat": 4,
 "nbformat_minor": 5
}
