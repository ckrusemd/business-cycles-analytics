{
 "cells": [
  {
   "cell_type": "markdown",
   "id": "a88c9f64",
   "metadata": {},
   "source": [
    "# (MEHOINUSA672N): Real Median Household Income in the United States"
   ]
  },
  {
   "cell_type": "code",
   "execution_count": null,
   "id": "903cea20",
   "metadata": {},
   "outputs": [],
   "source": [
    "    from functions import *\n",
    "    import os\n",
    "    from dotenv import load_dotenv\n",
    "    load_dotenv()\n",
    "    apikey = os.getenv(\"APIKEY\")\n",
    "    fred = Fred(api_key=apikey)\n",
    "    collect_tune_and_predict('MEHOINUSA672N',fred,2*365)"
   ]
  }
 ],
 "metadata": {},
 "nbformat": 4,
 "nbformat_minor": 5
}
