{
 "cells": [
  {
   "cell_type": "markdown",
   "id": "3660068e",
   "metadata": {},
   "source": [
    "# (CES9000000010): Women Employees, Government"
   ]
  },
  {
   "cell_type": "code",
   "execution_count": null,
   "id": "e6279ef3",
   "metadata": {},
   "outputs": [],
   "source": [
    "    from functions import *\n",
    "    import os\n",
    "    from dotenv import load_dotenv\n",
    "    load_dotenv()\n",
    "    apikey = os.getenv(\"APIKEY\")\n",
    "    fred = Fred(api_key=apikey)\n",
    "    collect_tune_and_predict('CES9000000010',fred,2*365)"
   ]
  }
 ],
 "metadata": {},
 "nbformat": 4,
 "nbformat_minor": 5
}
