{
 "cells": [
  {
   "cell_type": "markdown",
   "id": "d7e8e3c2",
   "metadata": {},
   "source": [
    "# (DJCA): Dow Jones Composite Average"
   ]
  },
  {
   "cell_type": "code",
   "execution_count": null,
   "id": "de554ffd",
   "metadata": {},
   "outputs": [],
   "source": [
    "    from functions import *\n",
    "    import os\n",
    "    from dotenv import load_dotenv\n",
    "    load_dotenv()\n",
    "    apikey = os.getenv(\"APIKEY\")\n",
    "    fred = Fred(api_key=apikey)\n",
    "    collect_tune_and_predict('DJCA',fred,2*365)"
   ]
  }
 ],
 "metadata": {},
 "nbformat": 4,
 "nbformat_minor": 5
}
