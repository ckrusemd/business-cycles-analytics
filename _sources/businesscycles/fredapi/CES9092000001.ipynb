{
 "cells": [
  {
   "cell_type": "markdown",
   "id": "1afd8418",
   "metadata": {},
   "source": [
    "# (CES9092000001): All Employees, State Government"
   ]
  },
  {
   "cell_type": "code",
   "execution_count": null,
   "id": "d4c6d70f",
   "metadata": {},
   "outputs": [],
   "source": [
    "    from functions import *\n",
    "    import os\n",
    "    from dotenv import load_dotenv\n",
    "    load_dotenv()\n",
    "    apikey = os.getenv(\"APIKEY\")\n",
    "    fred = Fred(api_key=apikey)\n",
    "    collect_tune_and_predict('CES9092000001',fred,2*365)"
   ]
  }
 ],
 "metadata": {},
 "nbformat": 4,
 "nbformat_minor": 5
}
