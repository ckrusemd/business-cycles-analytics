{
 "cells": [
  {
   "cell_type": "markdown",
   "id": "1c7b257d",
   "metadata": {},
   "source": [
    "# (MZM): MZM Money Stock (DISCONTINUED)"
   ]
  },
  {
   "cell_type": "code",
   "execution_count": null,
   "id": "e44f4086",
   "metadata": {},
   "outputs": [],
   "source": [
    "    from functions import *\n",
    "    import os\n",
    "    from dotenv import load_dotenv\n",
    "    load_dotenv()\n",
    "    apikey = os.getenv(\"APIKEY\")\n",
    "    fred = Fred(api_key=apikey)\n",
    "    collect_tune_and_predict('MZM',fred,2*365)"
   ]
  }
 ],
 "metadata": {},
 "nbformat": 4,
 "nbformat_minor": 5
}
