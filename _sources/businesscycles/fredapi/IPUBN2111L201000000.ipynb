{
 "cells": [
  {
   "cell_type": "markdown",
   "id": "63563025",
   "metadata": {},
   "source": [
    "# (IPUBN2111L201000000): Hours Worked for Mining: Oil and Gas Extraction (NAICS 2111) in the United States"
   ]
  },
  {
   "cell_type": "code",
   "execution_count": null,
   "id": "47325ac1",
   "metadata": {},
   "outputs": [],
   "source": [
    "    from functions import *\n",
    "    import os\n",
    "    from dotenv import load_dotenv\n",
    "    load_dotenv()\n",
    "    apikey = os.getenv(\"APIKEY\")\n",
    "    fred = Fred(api_key=apikey)\n",
    "    collect_tune_and_predict('IPUBN2111L201000000',fred,2*365)"
   ]
  }
 ],
 "metadata": {},
 "nbformat": 4,
 "nbformat_minor": 5
}
