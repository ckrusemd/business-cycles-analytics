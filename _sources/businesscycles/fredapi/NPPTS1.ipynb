{
 "cells": [
  {
   "cell_type": "markdown",
   "id": "b5496dbb",
   "metadata": {},
   "source": [
    "# (NPPTS1): Nonfarm Private Small Payroll Employment (1 - 19)"
   ]
  },
  {
   "cell_type": "code",
   "execution_count": null,
   "id": "987ec36a",
   "metadata": {},
   "outputs": [],
   "source": [
    "    from functions import *\n",
    "    import os\n",
    "    from dotenv import load_dotenv\n",
    "    load_dotenv()\n",
    "    apikey = os.getenv(\"APIKEY\")\n",
    "    fred = Fred(api_key=apikey)\n",
    "    collect_tune_and_predict('NPPTS1',fred,2*365)"
   ]
  }
 ],
 "metadata": {},
 "nbformat": 4,
 "nbformat_minor": 5
}
