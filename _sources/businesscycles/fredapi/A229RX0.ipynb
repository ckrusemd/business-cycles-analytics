{
 "cells": [
  {
   "cell_type": "markdown",
   "id": "d3633167",
   "metadata": {},
   "source": [
    "# (A229RX0): Real Disposable Personal Income: Per Capita"
   ]
  },
  {
   "cell_type": "code",
   "execution_count": null,
   "id": "c49f12bc",
   "metadata": {},
   "outputs": [],
   "source": [
    "    from functions import *\n",
    "    import os\n",
    "    from dotenv import load_dotenv\n",
    "    load_dotenv()\n",
    "    apikey = os.getenv(\"APIKEY\")\n",
    "    fred = Fred(api_key=apikey)\n",
    "    collect_tune_and_predict('A229RX0',fred,2*365)"
   ]
  }
 ],
 "metadata": {},
 "nbformat": 4,
 "nbformat_minor": 5
}
