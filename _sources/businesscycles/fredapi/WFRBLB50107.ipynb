{
 "cells": [
  {
   "cell_type": "markdown",
   "id": "338aa44d",
   "metadata": {},
   "source": [
    "# (WFRBLB50107): Total Net Worth Held by the Bottom 50% (1st to 50th Wealth Percentiles)"
   ]
  },
  {
   "cell_type": "code",
   "execution_count": null,
   "id": "c88a78ba",
   "metadata": {},
   "outputs": [],
   "source": [
    "    from functions import *\n",
    "    import os\n",
    "    from dotenv import load_dotenv\n",
    "    load_dotenv()\n",
    "    apikey = os.getenv(\"APIKEY\")\n",
    "    fred = Fred(api_key=apikey)\n",
    "    collect_tune_and_predict('WFRBLB50107',fred,2*365)"
   ]
  }
 ],
 "metadata": {},
 "nbformat": 4,
 "nbformat_minor": 5
}
