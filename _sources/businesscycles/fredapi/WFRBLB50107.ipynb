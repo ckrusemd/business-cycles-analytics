{
 "cells": [
  {
   "cell_type": "markdown",
   "id": "685d18b7",
   "metadata": {},
   "source": [
    "# (WFRBLB50107): Total Net Worth Held by the Bottom 50% (1st to 50th Wealth Percentiles)"
   ]
  },
  {
   "cell_type": "code",
   "execution_count": null,
   "id": "e4d82119",
   "metadata": {},
   "outputs": [],
   "source": [
    "    from functions import *\n",
    "    import os\n",
    "    from dotenv import load_dotenv\n",
    "    load_dotenv()\n",
    "    apikey = os.getenv(\"APIKEY\")\n",
    "    fred = Fred(api_key=apikey)\n",
    "    collect_tune_and_predict('WFRBLB50107',fred,2*365)"
   ]
  }
 ],
 "metadata": {},
 "nbformat": 4,
 "nbformat_minor": 5
}
