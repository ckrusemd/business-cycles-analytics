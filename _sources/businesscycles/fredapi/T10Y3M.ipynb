{
 "cells": [
  {
   "cell_type": "markdown",
   "id": "a0cd3b0b",
   "metadata": {},
   "source": [
    "# (T10Y3M): 10-Year Treasury Constant Maturity Minus 3-Month Treasury Constant Maturity"
   ]
  },
  {
   "cell_type": "code",
   "execution_count": null,
   "id": "6ebf662c",
   "metadata": {},
   "outputs": [],
   "source": [
    "    from functions import *\n",
    "    import os\n",
    "    from dotenv import load_dotenv\n",
    "    load_dotenv()\n",
    "    apikey = os.getenv(\"APIKEY\")\n",
    "    fred = Fred(api_key=apikey)\n",
    "    collect_tune_and_predict('T10Y3M',fred,2*365)"
   ]
  }
 ],
 "metadata": {},
 "nbformat": 4,
 "nbformat_minor": 5
}
