{
 "cells": [
  {
   "cell_type": "markdown",
   "id": "4f7164dc",
   "metadata": {},
   "source": [
    "# (ULCNFB): Nonfarm Business Sector: Unit Labor Cost"
   ]
  },
  {
   "cell_type": "code",
   "execution_count": null,
   "id": "61ce5049",
   "metadata": {},
   "outputs": [],
   "source": [
    "    from functions import *\n",
    "    import os\n",
    "    from dotenv import load_dotenv\n",
    "    load_dotenv()\n",
    "    apikey = os.getenv(\"APIKEY\")\n",
    "    fred = Fred(api_key=apikey)\n",
    "    collect_tune_and_predict('ULCNFB',fred,2*365)"
   ]
  }
 ],
 "metadata": {},
 "nbformat": 4,
 "nbformat_minor": 5
}
