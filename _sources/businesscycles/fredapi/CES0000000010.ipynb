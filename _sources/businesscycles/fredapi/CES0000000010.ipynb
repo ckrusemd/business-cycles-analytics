{
 "cells": [
  {
   "cell_type": "markdown",
   "id": "4134afd4",
   "metadata": {},
   "source": [
    "# (CES0000000010): Women Employees, Total Nonfarm"
   ]
  },
  {
   "cell_type": "code",
   "execution_count": null,
   "id": "c3176688",
   "metadata": {},
   "outputs": [],
   "source": [
    "    from functions import *\n",
    "    import os\n",
    "    from dotenv import load_dotenv\n",
    "    load_dotenv()\n",
    "    apikey = os.getenv(\"APIKEY\")\n",
    "    fred = Fred(api_key=apikey)\n",
    "    collect_tune_and_predict('CES0000000010',fred,2*365)"
   ]
  }
 ],
 "metadata": {},
 "nbformat": 4,
 "nbformat_minor": 5
}
