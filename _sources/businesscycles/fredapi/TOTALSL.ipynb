{
 "cells": [
  {
   "cell_type": "markdown",
   "id": "f7b51dba",
   "metadata": {},
   "source": [
    "# (TOTALSL): Total Consumer Credit Owned and Securitized, Outstanding"
   ]
  },
  {
   "cell_type": "code",
   "execution_count": null,
   "id": "8259772d",
   "metadata": {},
   "outputs": [],
   "source": [
    "    from functions import *\n",
    "    import os\n",
    "    from dotenv import load_dotenv\n",
    "    load_dotenv()\n",
    "    apikey = os.getenv(\"APIKEY\")\n",
    "    fred = Fred(api_key=apikey)\n",
    "    collect_tune_and_predict('TOTALSL',fred,2*365)"
   ]
  }
 ],
 "metadata": {},
 "nbformat": 4,
 "nbformat_minor": 5
}
