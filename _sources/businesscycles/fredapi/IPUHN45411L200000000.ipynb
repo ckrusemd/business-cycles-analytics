{
 "cells": [
  {
   "cell_type": "markdown",
   "id": "05983c19",
   "metadata": {},
   "source": [
    "# (IPUHN45411L200000000): Hours Worked for Retail Trade: Electronic Shopping and Mail-Order Houses (NAICS 45411) in the United States"
   ]
  },
  {
   "cell_type": "code",
   "execution_count": null,
   "id": "bc8a11fe",
   "metadata": {},
   "outputs": [],
   "source": [
    "    from functions import *\n",
    "    import os\n",
    "    from dotenv import load_dotenv\n",
    "    load_dotenv()\n",
    "    apikey = os.getenv(\"APIKEY\")\n",
    "    fred = Fred(api_key=apikey)\n",
    "    collect_tune_and_predict('IPUHN45411L200000000',fred,2*365)"
   ]
  }
 ],
 "metadata": {},
 "nbformat": 4,
 "nbformat_minor": 5
}
