{
 "cells": [
  {
   "cell_type": "markdown",
   "id": "f1778e29",
   "metadata": {},
   "source": [
    "# (LNS15000000): Not in Labor Force"
   ]
  },
  {
   "cell_type": "code",
   "execution_count": null,
   "id": "45c07b8e",
   "metadata": {},
   "outputs": [],
   "source": [
    "    from functions import *\n",
    "    import os\n",
    "    from dotenv import load_dotenv\n",
    "    load_dotenv()\n",
    "    apikey = os.getenv(\"APIKEY\")\n",
    "    fred = Fred(api_key=apikey)\n",
    "    collect_tune_and_predict('LNS15000000',fred,2*365)"
   ]
  }
 ],
 "metadata": {},
 "nbformat": 4,
 "nbformat_minor": 5
}
