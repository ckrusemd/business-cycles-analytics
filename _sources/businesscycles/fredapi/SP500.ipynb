{
 "cells": [
  {
   "cell_type": "markdown",
   "id": "3576db79",
   "metadata": {},
   "source": [
    "# (SP500): S&P 500"
   ]
  },
  {
   "cell_type": "code",
   "execution_count": null,
   "id": "1672997a",
   "metadata": {},
   "outputs": [],
   "source": [
    "    from functions import *\n",
    "    import os\n",
    "    from dotenv import load_dotenv\n",
    "    load_dotenv()\n",
    "    apikey = os.getenv(\"APIKEY\")\n",
    "    fred = Fred(api_key=apikey)\n",
    "    collect_tune_and_predict('SP500',fred,2*365)"
   ]
  }
 ],
 "metadata": {},
 "nbformat": 4,
 "nbformat_minor": 5
}
