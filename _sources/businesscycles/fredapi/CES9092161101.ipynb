{
 "cells": [
  {
   "cell_type": "markdown",
   "id": "01a4df43",
   "metadata": {},
   "source": [
    "# (CES9092161101): All Employees, State Government Education"
   ]
  },
  {
   "cell_type": "code",
   "execution_count": null,
   "id": "45a34963",
   "metadata": {},
   "outputs": [],
   "source": [
    "    from functions import *\n",
    "    import os\n",
    "    from dotenv import load_dotenv\n",
    "    load_dotenv()\n",
    "    apikey = os.getenv(\"APIKEY\")\n",
    "    fred = Fred(api_key=apikey)\n",
    "    collect_tune_and_predict('CES9092161101',fred,2*365)"
   ]
  }
 ],
 "metadata": {},
 "nbformat": 4,
 "nbformat_minor": 5
}
