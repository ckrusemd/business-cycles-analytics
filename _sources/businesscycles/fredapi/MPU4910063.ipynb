{
 "cells": [
  {
   "cell_type": "markdown",
   "id": "06f35373",
   "metadata": {},
   "source": [
    "# (MPU4910063): Private Nonfarm Business Sector: Labor Productivity"
   ]
  },
  {
   "cell_type": "code",
   "execution_count": null,
   "id": "ebf4c6ed",
   "metadata": {},
   "outputs": [],
   "source": [
    "    from functions import *\n",
    "    import os\n",
    "    from dotenv import load_dotenv\n",
    "    load_dotenv()\n",
    "    apikey = os.getenv(\"APIKEY\")\n",
    "    fred = Fred(api_key=apikey)\n",
    "    collect_tune_and_predict('MPU4910063',fred,2*365)"
   ]
  }
 ],
 "metadata": {},
 "nbformat": 4,
 "nbformat_minor": 5
}
