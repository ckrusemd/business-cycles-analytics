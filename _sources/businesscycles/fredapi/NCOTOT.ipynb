{
 "cells": [
  {
   "cell_type": "markdown",
   "id": "6cf3b94b",
   "metadata": {},
   "source": [
    "# (NCOTOT): Total Net Loan Charge-offs to Total Loans for Banks (DISCONTINUED)"
   ]
  },
  {
   "cell_type": "code",
   "execution_count": null,
   "id": "43beb5cd",
   "metadata": {},
   "outputs": [],
   "source": [
    "    from functions import *\n",
    "    import os\n",
    "    from dotenv import load_dotenv\n",
    "    load_dotenv()\n",
    "    apikey = os.getenv(\"APIKEY\")\n",
    "    fred = Fred(api_key=apikey)\n",
    "    collect_tune_and_predict('NCOTOT',fred,2*365)"
   ]
  }
 ],
 "metadata": {},
 "nbformat": 4,
 "nbformat_minor": 5
}
