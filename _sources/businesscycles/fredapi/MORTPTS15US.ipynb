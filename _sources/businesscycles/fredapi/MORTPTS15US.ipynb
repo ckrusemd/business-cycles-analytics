{
 "cells": [
  {
   "cell_type": "markdown",
   "id": "fdd4615c",
   "metadata": {},
   "source": [
    "# (MORTPTS15US): Origination Fees and Discount Points for 15-Year Fixed Rate Mortgage in the United States"
   ]
  },
  {
   "cell_type": "code",
   "execution_count": null,
   "id": "21f299ca",
   "metadata": {},
   "outputs": [],
   "source": [
    "    from functions import *\n",
    "    import os\n",
    "    from dotenv import load_dotenv\n",
    "    load_dotenv()\n",
    "    apikey = os.getenv(\"APIKEY\")\n",
    "    fred = Fred(api_key=apikey)\n",
    "    collect_tune_and_predict('MORTPTS15US',fred,2*365)"
   ]
  }
 ],
 "metadata": {},
 "nbformat": 4,
 "nbformat_minor": 5
}
