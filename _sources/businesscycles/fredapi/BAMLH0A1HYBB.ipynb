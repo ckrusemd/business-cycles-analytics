{
 "cells": [
  {
   "cell_type": "markdown",
   "id": "b9d07114",
   "metadata": {},
   "source": [
    "# (BAMLH0A1HYBB): ICE BofA BB US High Yield Index Option-Adjusted Spread"
   ]
  },
  {
   "cell_type": "code",
   "execution_count": null,
   "id": "b0c6c58e",
   "metadata": {},
   "outputs": [],
   "source": [
    "    from functions import *\n",
    "    import os\n",
    "    from dotenv import load_dotenv\n",
    "    load_dotenv()\n",
    "    apikey = os.getenv(\"APIKEY\")\n",
    "    fred = Fred(api_key=apikey)\n",
    "    collect_tune_and_predict('BAMLH0A1HYBB',fred,2*365)"
   ]
  }
 ],
 "metadata": {},
 "nbformat": 4,
 "nbformat_minor": 5
}
