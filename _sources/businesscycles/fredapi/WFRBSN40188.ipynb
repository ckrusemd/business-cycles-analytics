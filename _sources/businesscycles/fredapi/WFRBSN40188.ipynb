{
 "cells": [
  {
   "cell_type": "markdown",
   "id": "a94bf63f",
   "metadata": {},
   "source": [
    "# (WFRBSN40188): Share of Total Net Worth Held by the 50th to 90th Wealth Percentiles"
   ]
  },
  {
   "cell_type": "code",
   "execution_count": null,
   "id": "6f47c3de",
   "metadata": {},
   "outputs": [],
   "source": [
    "    from functions import *\n",
    "    import os\n",
    "    from dotenv import load_dotenv\n",
    "    load_dotenv()\n",
    "    apikey = os.getenv(\"APIKEY\")\n",
    "    fred = Fred(api_key=apikey)\n",
    "    collect_tune_and_predict('WFRBSN40188',fred,2*365)"
   ]
  }
 ],
 "metadata": {},
 "nbformat": 4,
 "nbformat_minor": 5
}
