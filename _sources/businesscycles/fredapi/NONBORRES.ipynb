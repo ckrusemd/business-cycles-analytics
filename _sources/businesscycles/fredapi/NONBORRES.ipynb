{
 "cells": [
  {
   "cell_type": "markdown",
   "id": "52d0e8db",
   "metadata": {},
   "source": [
    "# (NONBORRES): Reserves of Depository Institutions, Nonborrowed"
   ]
  },
  {
   "cell_type": "code",
   "execution_count": null,
   "id": "ebef9cca",
   "metadata": {},
   "outputs": [],
   "source": [
    "    from functions import *\n",
    "    import os\n",
    "    from dotenv import load_dotenv\n",
    "    load_dotenv()\n",
    "    apikey = os.getenv(\"APIKEY\")\n",
    "    fred = Fred(api_key=apikey)\n",
    "    collect_tune_and_predict('NONBORRES',fred,2*365)"
   ]
  }
 ],
 "metadata": {},
 "nbformat": 4,
 "nbformat_minor": 5
}
