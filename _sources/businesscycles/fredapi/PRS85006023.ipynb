{
 "cells": [
  {
   "cell_type": "markdown",
   "id": "dcb74b77",
   "metadata": {},
   "source": [
    "# (PRS85006023): Nonfarm Business Sector: Average Weekly Hours"
   ]
  },
  {
   "cell_type": "code",
   "execution_count": null,
   "id": "56158253",
   "metadata": {},
   "outputs": [],
   "source": [
    "    from functions import *\n",
    "    import os\n",
    "    from dotenv import load_dotenv\n",
    "    load_dotenv()\n",
    "    apikey = os.getenv(\"APIKEY\")\n",
    "    fred = Fred(api_key=apikey)\n",
    "    collect_tune_and_predict('PRS85006023',fred,2*365)"
   ]
  }
 ],
 "metadata": {},
 "nbformat": 4,
 "nbformat_minor": 5
}
