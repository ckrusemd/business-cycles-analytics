{
 "cells": [
  {
   "cell_type": "markdown",
   "id": "c19d2bac",
   "metadata": {},
   "source": [
    "# (OBMMIFHA30YF): 30-Year Fixed Rate FHA Mortgage Index"
   ]
  },
  {
   "cell_type": "code",
   "execution_count": null,
   "id": "7d8adbcf",
   "metadata": {},
   "outputs": [],
   "source": [
    "    from functions import *\n",
    "    import os\n",
    "    from dotenv import load_dotenv\n",
    "    load_dotenv()\n",
    "    apikey = os.getenv(\"APIKEY\")\n",
    "    fred = Fred(api_key=apikey)\n",
    "    collect_tune_and_predict('OBMMIFHA30YF',fred,2*365)"
   ]
  }
 ],
 "metadata": {},
 "nbformat": 4,
 "nbformat_minor": 5
}
