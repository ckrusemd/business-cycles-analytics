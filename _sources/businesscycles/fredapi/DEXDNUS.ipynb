{
 "cells": [
  {
   "cell_type": "markdown",
   "id": "e2bf482b",
   "metadata": {},
   "source": [
    "# (DEXDNUS): Denmark / U.S. Foreign Exchange Rate"
   ]
  },
  {
   "cell_type": "code",
   "execution_count": null,
   "id": "b8849792",
   "metadata": {},
   "outputs": [],
   "source": [
    "    from functions import *\n",
    "    import os\n",
    "    from dotenv import load_dotenv\n",
    "    load_dotenv()\n",
    "    apikey = os.getenv(\"APIKEY\")\n",
    "    fred = Fred(api_key=apikey)\n",
    "    collect_tune_and_predict('DEXDNUS',fred,2*365)"
   ]
  }
 ],
 "metadata": {},
 "nbformat": 4,
 "nbformat_minor": 5
}
