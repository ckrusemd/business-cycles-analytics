{
 "cells": [
  {
   "cell_type": "markdown",
   "id": "c77d1a29",
   "metadata": {},
   "source": [
    "# (VXAZNCLS): CBOE Equity VIX on Amazon"
   ]
  },
  {
   "cell_type": "code",
   "execution_count": null,
   "id": "6da213b3",
   "metadata": {},
   "outputs": [],
   "source": [
    "    from functions import *\n",
    "    import os\n",
    "    from dotenv import load_dotenv\n",
    "    load_dotenv()\n",
    "    apikey = os.getenv(\"APIKEY\")\n",
    "    fred = Fred(api_key=apikey)\n",
    "    collect_tune_and_predict('VXAZNCLS',fred,2*365)"
   ]
  }
 ],
 "metadata": {},
 "nbformat": 4,
 "nbformat_minor": 5
}
