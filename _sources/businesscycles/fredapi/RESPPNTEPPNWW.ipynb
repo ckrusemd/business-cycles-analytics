{
 "cells": [
  {
   "cell_type": "markdown",
   "id": "bea121e6",
   "metadata": {},
   "source": [
    "# (RESPPNTEPPNWW): Collateralization of Currency: Holdings Against Federal Reserve Notes: Collateral Held Against Federal Reserve Notes: U.S. Treasury, Agency Debt, and Mortgage-Backed Securities Pledged: Wednesday Level"
   ]
  },
  {
   "cell_type": "code",
   "execution_count": null,
   "id": "42a4aed1",
   "metadata": {},
   "outputs": [],
   "source": [
    "    from functions import *\n",
    "    import os\n",
    "    from dotenv import load_dotenv\n",
    "    load_dotenv()\n",
    "    apikey = os.getenv(\"APIKEY\")\n",
    "    fred = Fred(api_key=apikey)\n",
    "    collect_tune_and_predict('RESPPNTEPPNWW',fred,2*365)"
   ]
  }
 ],
 "metadata": {},
 "nbformat": 4,
 "nbformat_minor": 5
}
