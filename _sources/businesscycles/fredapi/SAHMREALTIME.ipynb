{
 "cells": [
  {
   "cell_type": "markdown",
   "id": "b482131d",
   "metadata": {},
   "source": [
    "# (SAHMREALTIME): Real-time Sahm Rule Recession Indicator"
   ]
  },
  {
   "cell_type": "code",
   "execution_count": null,
   "id": "272e795b",
   "metadata": {},
   "outputs": [],
   "source": [
    "    from functions import *\n",
    "    import os\n",
    "    from dotenv import load_dotenv\n",
    "    load_dotenv()\n",
    "    apikey = os.getenv(\"APIKEY\")\n",
    "    fred = Fred(api_key=apikey)\n",
    "    collect_tune_and_predict('SAHMREALTIME',fred,2*365)"
   ]
  }
 ],
 "metadata": {},
 "nbformat": 4,
 "nbformat_minor": 5
}
