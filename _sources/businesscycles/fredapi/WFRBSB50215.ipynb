{
 "cells": [
  {
   "cell_type": "markdown",
   "id": "a31097d3",
   "metadata": {},
   "source": [
    "# (WFRBSB50215): Share of Total Net Worth Held by the Bottom 50% (1st to 50th Wealth Percentiles)"
   ]
  },
  {
   "cell_type": "code",
   "execution_count": null,
   "id": "0a46a7de",
   "metadata": {},
   "outputs": [],
   "source": [
    "    from functions import *\n",
    "    import os\n",
    "    from dotenv import load_dotenv\n",
    "    load_dotenv()\n",
    "    apikey = os.getenv(\"APIKEY\")\n",
    "    fred = Fred(api_key=apikey)\n",
    "    collect_tune_and_predict('WFRBSB50215',fred,2*365)"
   ]
  }
 ],
 "metadata": {},
 "nbformat": 4,
 "nbformat_minor": 5
}
