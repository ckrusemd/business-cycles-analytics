{
 "cells": [
  {
   "cell_type": "markdown",
   "id": "9f5f1ab3",
   "metadata": {},
   "source": [
    "# (PIORECRUSDM): Global price of Iron Ore"
   ]
  },
  {
   "cell_type": "code",
   "execution_count": null,
   "id": "98f549d5",
   "metadata": {},
   "outputs": [],
   "source": [
    "    from functions import *\n",
    "    import os\n",
    "    from dotenv import load_dotenv\n",
    "    load_dotenv()\n",
    "    apikey = os.getenv(\"APIKEY\")\n",
    "    fred = Fred(api_key=apikey)\n",
    "    collect_tune_and_predict('PIORECRUSDM',fred,2*365)"
   ]
  }
 ],
 "metadata": {},
 "nbformat": 4,
 "nbformat_minor": 5
}
