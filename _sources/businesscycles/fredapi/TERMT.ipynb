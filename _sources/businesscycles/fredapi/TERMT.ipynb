{
 "cells": [
  {
   "cell_type": "markdown",
   "id": "b53dd62c",
   "metadata": {},
   "source": [
    "# (TERMT): Liabilities and Capital: Liabilities: Deposits with F.R. Banks, Other Than Reserve Balances: Term Deposits Held by Depository Institutions: Wednesday Level"
   ]
  },
  {
   "cell_type": "code",
   "execution_count": null,
   "id": "2a294f48",
   "metadata": {},
   "outputs": [],
   "source": [
    "    from functions import *\n",
    "    import os\n",
    "    from dotenv import load_dotenv\n",
    "    load_dotenv()\n",
    "    apikey = os.getenv(\"APIKEY\")\n",
    "    fred = Fred(api_key=apikey)\n",
    "    collect_tune_and_predict('TERMT',fred,2*365)"
   ]
  }
 ],
 "metadata": {},
 "nbformat": 4,
 "nbformat_minor": 5
}
