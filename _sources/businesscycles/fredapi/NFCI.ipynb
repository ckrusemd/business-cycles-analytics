{
 "cells": [
  {
   "cell_type": "markdown",
   "id": "8230866c",
   "metadata": {},
   "source": [
    "# (NFCI): Chicago Fed National Financial Conditions Index"
   ]
  },
  {
   "cell_type": "code",
   "execution_count": null,
   "id": "cc1ff58d",
   "metadata": {},
   "outputs": [],
   "source": [
    "    from functions import *\n",
    "    import os\n",
    "    from dotenv import load_dotenv\n",
    "    load_dotenv()\n",
    "    apikey = os.getenv(\"APIKEY\")\n",
    "    fred = Fred(api_key=apikey)\n",
    "    collect_tune_and_predict('NFCI',fred,2*365)"
   ]
  }
 ],
 "metadata": {},
 "nbformat": 4,
 "nbformat_minor": 5
}
