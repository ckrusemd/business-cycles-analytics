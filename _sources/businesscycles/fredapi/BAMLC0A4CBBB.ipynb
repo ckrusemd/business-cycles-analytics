{
 "cells": [
  {
   "cell_type": "markdown",
   "id": "ad419023",
   "metadata": {},
   "source": [
    "# (BAMLC0A4CBBB): ICE BofA BBB US Corporate Index Option-Adjusted Spread"
   ]
  },
  {
   "cell_type": "code",
   "execution_count": null,
   "id": "b32a1405",
   "metadata": {},
   "outputs": [],
   "source": [
    "    from functions import *\n",
    "    import os\n",
    "    from dotenv import load_dotenv\n",
    "    load_dotenv()\n",
    "    apikey = os.getenv(\"APIKEY\")\n",
    "    fred = Fred(api_key=apikey)\n",
    "    collect_tune_and_predict('BAMLC0A4CBBB',fred,2*365)"
   ]
  }
 ],
 "metadata": {},
 "nbformat": 4,
 "nbformat_minor": 5
}
