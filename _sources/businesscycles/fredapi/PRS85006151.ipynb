{
 "cells": [
  {
   "cell_type": "markdown",
   "id": "b5bac864",
   "metadata": {},
   "source": [
    "# (PRS85006151): Nonfarm Business Sector: Real Compensation Per Hour"
   ]
  },
  {
   "cell_type": "code",
   "execution_count": null,
   "id": "9360458b",
   "metadata": {},
   "outputs": [],
   "source": [
    "    from functions import *\n",
    "    import os\n",
    "    from dotenv import load_dotenv\n",
    "    load_dotenv()\n",
    "    apikey = os.getenv(\"APIKEY\")\n",
    "    fred = Fred(api_key=apikey)\n",
    "    collect_tune_and_predict('PRS85006151',fred,2*365)"
   ]
  }
 ],
 "metadata": {},
 "nbformat": 4,
 "nbformat_minor": 5
}
