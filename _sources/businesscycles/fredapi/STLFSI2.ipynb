{
 "cells": [
  {
   "cell_type": "markdown",
   "id": "89652ca5",
   "metadata": {},
   "source": [
    "# (STLFSI2): St. Louis Fed Financial Stress Index"
   ]
  },
  {
   "cell_type": "code",
   "execution_count": null,
   "id": "2e246d83",
   "metadata": {},
   "outputs": [],
   "source": [
    "    from functions import *\n",
    "    import os\n",
    "    from dotenv import load_dotenv\n",
    "    load_dotenv()\n",
    "    apikey = os.getenv(\"APIKEY\")\n",
    "    fred = Fred(api_key=apikey)\n",
    "    collect_tune_and_predict('STLFSI2',fred,2*365)"
   ]
  }
 ],
 "metadata": {},
 "nbformat": 4,
 "nbformat_minor": 5
}
