{
 "cells": [
  {
   "cell_type": "markdown",
   "id": "b93b8093",
   "metadata": {},
   "source": [
    "# (VXOCLS): CBOE S&P 100 Volatility Index: VXO"
   ]
  },
  {
   "cell_type": "code",
   "execution_count": null,
   "id": "c522c30f",
   "metadata": {},
   "outputs": [],
   "source": [
    "    from functions import *\n",
    "    import os\n",
    "    from dotenv import load_dotenv\n",
    "    load_dotenv()\n",
    "    apikey = os.getenv(\"APIKEY\")\n",
    "    fred = Fred(api_key=apikey)\n",
    "    collect_tune_and_predict('VXOCLS',fred,2*365)"
   ]
  }
 ],
 "metadata": {},
 "nbformat": 4,
 "nbformat_minor": 5
}
