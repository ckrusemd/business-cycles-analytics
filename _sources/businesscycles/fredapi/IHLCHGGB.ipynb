{
 "cells": [
  {
   "cell_type": "markdown",
   "id": "91aebe0b",
   "metadata": {},
   "source": [
    "# (IHLCHGGB): Job Postings on Indeed in the United Kingdom"
   ]
  },
  {
   "cell_type": "code",
   "execution_count": null,
   "id": "4af42640",
   "metadata": {},
   "outputs": [],
   "source": [
    "    from functions import *\n",
    "    import os\n",
    "    from dotenv import load_dotenv\n",
    "    load_dotenv()\n",
    "    apikey = os.getenv(\"APIKEY\")\n",
    "    fred = Fred(api_key=apikey)\n",
    "    collect_tune_and_predict('IHLCHGGB',fred,2*365)"
   ]
  }
 ],
 "metadata": {},
 "nbformat": 4,
 "nbformat_minor": 5
}
