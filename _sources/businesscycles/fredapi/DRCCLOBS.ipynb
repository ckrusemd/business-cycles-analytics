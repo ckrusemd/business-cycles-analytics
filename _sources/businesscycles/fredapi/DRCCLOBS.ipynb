{
 "cells": [
  {
   "cell_type": "markdown",
   "id": "0d02f125",
   "metadata": {},
   "source": [
    "# (DRCCLOBS): Delinquency Rate on Credit Card Loans, Banks Not Among the 100 Largest in Size (By Assets)"
   ]
  },
  {
   "cell_type": "code",
   "execution_count": null,
   "id": "97043334",
   "metadata": {},
   "outputs": [],
   "source": [
    "    from functions import *\n",
    "    import os\n",
    "    from dotenv import load_dotenv\n",
    "    load_dotenv()\n",
    "    apikey = os.getenv(\"APIKEY\")\n",
    "    fred = Fred(api_key=apikey)\n",
    "    collect_tune_and_predict('DRCCLOBS',fred,2*365)"
   ]
  }
 ],
 "metadata": {},
 "nbformat": 4,
 "nbformat_minor": 5
}
