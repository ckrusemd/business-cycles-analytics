{
 "cells": [
  {
   "cell_type": "markdown",
   "id": "2ccb2833",
   "metadata": {},
   "source": [
    "# (TREAS10Y): Assets: Securities Held Outright: U.S. Treasury Securities: Maturing in Over 10 Years: Wednesday Level"
   ]
  },
  {
   "cell_type": "code",
   "execution_count": null,
   "id": "8e1cb1b5",
   "metadata": {},
   "outputs": [],
   "source": [
    "    from functions import *\n",
    "    import os\n",
    "    from dotenv import load_dotenv\n",
    "    load_dotenv()\n",
    "    apikey = os.getenv(\"APIKEY\")\n",
    "    fred = Fred(api_key=apikey)\n",
    "    collect_tune_and_predict('TREAS10Y',fred,2*365)"
   ]
  }
 ],
 "metadata": {},
 "nbformat": 4,
 "nbformat_minor": 5
}
