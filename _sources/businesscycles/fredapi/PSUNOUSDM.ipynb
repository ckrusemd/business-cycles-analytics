{
 "cells": [
  {
   "cell_type": "markdown",
   "id": "efed4890",
   "metadata": {},
   "source": [
    "# (PSUNOUSDM): Global price of Sunflower Oil"
   ]
  },
  {
   "cell_type": "code",
   "execution_count": null,
   "id": "5b929b1d",
   "metadata": {},
   "outputs": [],
   "source": [
    "    from functions import *\n",
    "    import os\n",
    "    from dotenv import load_dotenv\n",
    "    load_dotenv()\n",
    "    apikey = os.getenv(\"APIKEY\")\n",
    "    fred = Fred(api_key=apikey)\n",
    "    collect_tune_and_predict('PSUNOUSDM',fred,2*365)"
   ]
  }
 ],
 "metadata": {},
 "nbformat": 4,
 "nbformat_minor": 5
}
