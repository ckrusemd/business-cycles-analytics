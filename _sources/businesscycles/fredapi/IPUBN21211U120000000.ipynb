{
 "cells": [
  {
   "cell_type": "markdown",
   "id": "ad9ad3d1",
   "metadata": {},
   "source": [
    "# (IPUBN21211U120000000): Hourly Compensation for Mining: Coal Mining (NAICS 21211) in the United States"
   ]
  },
  {
   "cell_type": "code",
   "execution_count": null,
   "id": "163e9282",
   "metadata": {},
   "outputs": [],
   "source": [
    "    from functions import *\n",
    "    import os\n",
    "    from dotenv import load_dotenv\n",
    "    load_dotenv()\n",
    "    apikey = os.getenv(\"APIKEY\")\n",
    "    fred = Fred(api_key=apikey)\n",
    "    collect_tune_and_predict('IPUBN21211U120000000',fred,2*365)"
   ]
  }
 ],
 "metadata": {},
 "nbformat": 4,
 "nbformat_minor": 5
}
