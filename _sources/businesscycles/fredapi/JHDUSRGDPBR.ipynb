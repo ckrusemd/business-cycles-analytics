{
 "cells": [
  {
   "cell_type": "markdown",
   "id": "8b1e8aab",
   "metadata": {},
   "source": [
    "# (JHDUSRGDPBR): Dates of U.S. recessions as inferred by GDP-based recession indicator"
   ]
  },
  {
   "cell_type": "code",
   "execution_count": null,
   "id": "ad9d45a5",
   "metadata": {},
   "outputs": [],
   "source": [
    "    from functions import *\n",
    "    import os\n",
    "    from dotenv import load_dotenv\n",
    "    load_dotenv()\n",
    "    apikey = os.getenv(\"APIKEY\")\n",
    "    fred = Fred(api_key=apikey)\n",
    "    collect_tune_and_predict('JHDUSRGDPBR',fred,2*365)"
   ]
  }
 ],
 "metadata": {},
 "nbformat": 4,
 "nbformat_minor": 5
}
