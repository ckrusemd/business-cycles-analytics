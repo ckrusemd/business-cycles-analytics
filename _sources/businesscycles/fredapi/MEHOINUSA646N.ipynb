{
 "cells": [
  {
   "cell_type": "markdown",
   "id": "6de02388",
   "metadata": {},
   "source": [
    "# (MEHOINUSA646N): Median Household Income in the United States"
   ]
  },
  {
   "cell_type": "code",
   "execution_count": null,
   "id": "ec69d2bd",
   "metadata": {},
   "outputs": [],
   "source": [
    "    from functions import *\n",
    "    import os\n",
    "    from dotenv import load_dotenv\n",
    "    load_dotenv()\n",
    "    apikey = os.getenv(\"APIKEY\")\n",
    "    fred = Fred(api_key=apikey)\n",
    "    collect_tune_and_predict('MEHOINUSA646N',fred,2*365)"
   ]
  }
 ],
 "metadata": {},
 "nbformat": 4,
 "nbformat_minor": 5
}
