{
 "cells": [
  {
   "cell_type": "markdown",
   "id": "00047aa7",
   "metadata": {},
   "source": [
    "# (MEHOINUSA646N): Median Household Income in the United States"
   ]
  },
  {
   "cell_type": "code",
   "execution_count": null,
   "id": "c7b5e7e5",
   "metadata": {},
   "outputs": [],
   "source": [
    "    from functions import *\n",
    "    import os\n",
    "    from dotenv import load_dotenv\n",
    "    load_dotenv()\n",
    "    apikey = os.getenv(\"APIKEY\")\n",
    "    fred = Fred(api_key=apikey)\n",
    "    collect_tune_and_predict('MEHOINUSA646N',fred,2*365)"
   ]
  }
 ],
 "metadata": {},
 "nbformat": 4,
 "nbformat_minor": 5
}
