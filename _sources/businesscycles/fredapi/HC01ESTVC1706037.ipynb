{
 "cells": [
  {
   "cell_type": "markdown",
   "id": "2ff3c198",
   "metadata": {},
   "source": [
    "# (HC01ESTVC1706037): Bachelor's Degree or Higher (5-year estimate) in Los Angeles County, CA"
   ]
  },
  {
   "cell_type": "code",
   "execution_count": null,
   "id": "dff16377",
   "metadata": {},
   "outputs": [],
   "source": [
    "    from functions import *\n",
    "    import os\n",
    "    from dotenv import load_dotenv\n",
    "    load_dotenv()\n",
    "    apikey = os.getenv(\"APIKEY\")\n",
    "    fred = Fred(api_key=apikey)\n",
    "    collect_tune_and_predict('HC01ESTVC1706037',fred,2*365)"
   ]
  }
 ],
 "metadata": {},
 "nbformat": 4,
 "nbformat_minor": 5
}
