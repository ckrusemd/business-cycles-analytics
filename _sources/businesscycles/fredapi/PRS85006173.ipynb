{
 "cells": [
  {
   "cell_type": "markdown",
   "id": "143ad0bf",
   "metadata": {},
   "source": [
    "# (PRS85006173): Nonfarm Business Sector: Labor Share"
   ]
  },
  {
   "cell_type": "code",
   "execution_count": null,
   "id": "2493a4b5",
   "metadata": {},
   "outputs": [],
   "source": [
    "    from functions import *\n",
    "    import os\n",
    "    from dotenv import load_dotenv\n",
    "    load_dotenv()\n",
    "    apikey = os.getenv(\"APIKEY\")\n",
    "    fred = Fred(api_key=apikey)\n",
    "    collect_tune_and_predict('PRS85006173',fred,2*365)"
   ]
  }
 ],
 "metadata": {},
 "nbformat": 4,
 "nbformat_minor": 5
}
