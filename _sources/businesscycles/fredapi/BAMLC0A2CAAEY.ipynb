{
 "cells": [
  {
   "cell_type": "markdown",
   "id": "fcf6fc09",
   "metadata": {},
   "source": [
    "# (BAMLC0A2CAAEY): ICE BofA AA US Corporate Index Effective Yield"
   ]
  },
  {
   "cell_type": "code",
   "execution_count": null,
   "id": "8832902e",
   "metadata": {},
   "outputs": [],
   "source": [
    "    from functions import *\n",
    "    import os\n",
    "    from dotenv import load_dotenv\n",
    "    load_dotenv()\n",
    "    apikey = os.getenv(\"APIKEY\")\n",
    "    fred = Fred(api_key=apikey)\n",
    "    collect_tune_and_predict('BAMLC0A2CAAEY',fred,2*365)"
   ]
  }
 ],
 "metadata": {},
 "nbformat": 4,
 "nbformat_minor": 5
}
