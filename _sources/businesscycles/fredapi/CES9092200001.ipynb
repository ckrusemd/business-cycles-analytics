{
 "cells": [
  {
   "cell_type": "markdown",
   "id": "7ff5589a",
   "metadata": {},
   "source": [
    "# (CES9092200001): All Employees, State Government, Excluding Education"
   ]
  },
  {
   "cell_type": "code",
   "execution_count": null,
   "id": "93474a60",
   "metadata": {},
   "outputs": [],
   "source": [
    "    from functions import *\n",
    "    import os\n",
    "    from dotenv import load_dotenv\n",
    "    load_dotenv()\n",
    "    apikey = os.getenv(\"APIKEY\")\n",
    "    fred = Fred(api_key=apikey)\n",
    "    collect_tune_and_predict('CES9092200001',fred,2*365)"
   ]
  }
 ],
 "metadata": {},
 "nbformat": 4,
 "nbformat_minor": 5
}
