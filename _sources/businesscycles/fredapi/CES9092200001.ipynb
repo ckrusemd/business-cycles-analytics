{
 "cells": [
  {
   "cell_type": "markdown",
   "id": "31349124",
   "metadata": {},
   "source": [
    "# (CES9092200001): All Employees, State Government, Excluding Education"
   ]
  },
  {
   "cell_type": "code",
   "execution_count": null,
   "id": "8df7e0fd",
   "metadata": {},
   "outputs": [],
   "source": [
    "    from functions import *\n",
    "    import os\n",
    "    from dotenv import load_dotenv\n",
    "    load_dotenv()\n",
    "    apikey = os.getenv(\"APIKEY\")\n",
    "    fred = Fred(api_key=apikey)\n",
    "    collect_tune_and_predict('CES9092200001',fred,2*365)"
   ]
  }
 ],
 "metadata": {},
 "nbformat": 4,
 "nbformat_minor": 5
}
