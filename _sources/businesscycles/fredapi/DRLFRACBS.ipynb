{
 "cells": [
  {
   "cell_type": "markdown",
   "id": "b75f2c4f",
   "metadata": {},
   "source": [
    "# (DRLFRACBS): Delinquency Rate on Lease Financing Receivables, All Commercial Banks"
   ]
  },
  {
   "cell_type": "code",
   "execution_count": null,
   "id": "c5db8db1",
   "metadata": {},
   "outputs": [],
   "source": [
    "    from functions import *\n",
    "    import os\n",
    "    from dotenv import load_dotenv\n",
    "    load_dotenv()\n",
    "    apikey = os.getenv(\"APIKEY\")\n",
    "    fred = Fred(api_key=apikey)\n",
    "    collect_tune_and_predict('DRLFRACBS',fred,2*365)"
   ]
  }
 ],
 "metadata": {},
 "nbformat": 4,
 "nbformat_minor": 5
}
