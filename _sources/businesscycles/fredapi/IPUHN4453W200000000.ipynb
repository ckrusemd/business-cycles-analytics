{
 "cells": [
  {
   "cell_type": "markdown",
   "id": "ea57e569",
   "metadata": {},
   "source": [
    "# (IPUHN4453W200000000): Employment for Retail Trade: Beer, Wine, and Liquor Stores (NAICS 4453) in the United States"
   ]
  },
  {
   "cell_type": "code",
   "execution_count": null,
   "id": "998f360b",
   "metadata": {},
   "outputs": [],
   "source": [
    "    from functions import *\n",
    "    import os\n",
    "    from dotenv import load_dotenv\n",
    "    load_dotenv()\n",
    "    apikey = os.getenv(\"APIKEY\")\n",
    "    fred = Fred(api_key=apikey)\n",
    "    collect_tune_and_predict('IPUHN4453W200000000',fred,2*365)"
   ]
  }
 ],
 "metadata": {},
 "nbformat": 4,
 "nbformat_minor": 5
}
