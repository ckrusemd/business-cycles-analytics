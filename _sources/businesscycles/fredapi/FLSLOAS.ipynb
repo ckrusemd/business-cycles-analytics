{
 "cells": [
  {
   "cell_type": "markdown",
   "id": "9ddc0c9f",
   "metadata": {},
   "source": [
    "# (FLSLOAS): Student Loans Owned and Securitized, Flow"
   ]
  },
  {
   "cell_type": "code",
   "execution_count": null,
   "id": "eddf4233",
   "metadata": {},
   "outputs": [],
   "source": [
    "    from functions import *\n",
    "    import os\n",
    "    from dotenv import load_dotenv\n",
    "    load_dotenv()\n",
    "    apikey = os.getenv(\"APIKEY\")\n",
    "    fred = Fred(api_key=apikey)\n",
    "    collect_tune_and_predict('FLSLOAS',fred,2*365)"
   ]
  }
 ],
 "metadata": {},
 "nbformat": 4,
 "nbformat_minor": 5
}
