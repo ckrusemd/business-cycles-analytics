{
 "cells": [
  {
   "cell_type": "markdown",
   "id": "92a3143c",
   "metadata": {},
   "source": [
    "# (TOTLQ): Hours of Wage and Salary Workers on Nonfarm Payrolls: Total"
   ]
  },
  {
   "cell_type": "code",
   "execution_count": null,
   "id": "567f119b",
   "metadata": {},
   "outputs": [],
   "source": [
    "    from functions import *\n",
    "    import os\n",
    "    from dotenv import load_dotenv\n",
    "    load_dotenv()\n",
    "    apikey = os.getenv(\"APIKEY\")\n",
    "    fred = Fred(api_key=apikey)\n",
    "    collect_tune_and_predict('TOTLQ',fred,2*365)"
   ]
  }
 ],
 "metadata": {},
 "nbformat": 4,
 "nbformat_minor": 5
}
