{
 "cells": [
  {
   "cell_type": "markdown",
   "id": "48b24c82",
   "metadata": {},
   "source": [
    "# (M2V): Velocity of M2 Money Stock"
   ]
  },
  {
   "cell_type": "code",
   "execution_count": null,
   "id": "6b8b7ce8",
   "metadata": {},
   "outputs": [],
   "source": [
    "    from functions import *\n",
    "    import os\n",
    "    from dotenv import load_dotenv\n",
    "    load_dotenv()\n",
    "    apikey = os.getenv(\"APIKEY\")\n",
    "    fred = Fred(api_key=apikey)\n",
    "    collect_tune_and_predict('M2V',fred,2*365)"
   ]
  }
 ],
 "metadata": {},
 "nbformat": 4,
 "nbformat_minor": 5
}
