{
 "cells": [
  {
   "cell_type": "markdown",
   "id": "1c3e7fc6",
   "metadata": {},
   "source": [
    "# (IHLCHG35620): Job Postings on Indeed in New York-Newark-Jersey City, NY-NJ-PA (MSA)"
   ]
  },
  {
   "cell_type": "code",
   "execution_count": null,
   "id": "5e933b61",
   "metadata": {},
   "outputs": [],
   "source": [
    "    from functions import *\n",
    "    import os\n",
    "    from dotenv import load_dotenv\n",
    "    load_dotenv()\n",
    "    apikey = os.getenv(\"APIKEY\")\n",
    "    fred = Fred(api_key=apikey)\n",
    "    collect_tune_and_predict('IHLCHG35620',fred,2*365)"
   ]
  }
 ],
 "metadata": {},
 "nbformat": 4,
 "nbformat_minor": 5
}
