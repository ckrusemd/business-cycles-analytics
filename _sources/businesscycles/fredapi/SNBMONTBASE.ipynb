{
 "cells": [
  {
   "cell_type": "markdown",
   "id": "45aa15d9",
   "metadata": {},
   "source": [
    "# (SNBMONTBASE): Swiss Monetary Base Aggregate"
   ]
  },
  {
   "cell_type": "code",
   "execution_count": null,
   "id": "cbb205ff",
   "metadata": {},
   "outputs": [],
   "source": [
    "    from functions import *\n",
    "    import os\n",
    "    from dotenv import load_dotenv\n",
    "    load_dotenv()\n",
    "    apikey = os.getenv(\"APIKEY\")\n",
    "    fred = Fred(api_key=apikey)\n",
    "    collect_tune_and_predict('SNBMONTBASE',fred,2*365)"
   ]
  }
 ],
 "metadata": {},
 "nbformat": 4,
 "nbformat_minor": 5
}
