{
 "cells": [
  {
   "cell_type": "markdown",
   "id": "06aa46e2",
   "metadata": {},
   "source": [
    "# (NPPTS): Nonfarm Private Small Payroll Employment (1 - 49)"
   ]
  },
  {
   "cell_type": "code",
   "execution_count": null,
   "id": "a58abc31",
   "metadata": {},
   "outputs": [],
   "source": [
    "    from functions import *\n",
    "    import os\n",
    "    from dotenv import load_dotenv\n",
    "    load_dotenv()\n",
    "    apikey = os.getenv(\"APIKEY\")\n",
    "    fred = Fred(api_key=apikey)\n",
    "    collect_tune_and_predict('NPPTS',fred,2*365)"
   ]
  }
 ],
 "metadata": {},
 "nbformat": 4,
 "nbformat_minor": 5
}
