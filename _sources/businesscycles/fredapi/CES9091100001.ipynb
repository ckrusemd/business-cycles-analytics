{
 "cells": [
  {
   "cell_type": "markdown",
   "id": "e76e8a05",
   "metadata": {},
   "source": [
    "# (CES9091100001): All Employees, Federal, Except U.S. Postal Service"
   ]
  },
  {
   "cell_type": "code",
   "execution_count": null,
   "id": "c5d071d4",
   "metadata": {},
   "outputs": [],
   "source": [
    "    from functions import *\n",
    "    import os\n",
    "    from dotenv import load_dotenv\n",
    "    load_dotenv()\n",
    "    apikey = os.getenv(\"APIKEY\")\n",
    "    fred = Fred(api_key=apikey)\n",
    "    collect_tune_and_predict('CES9091100001',fred,2*365)"
   ]
  }
 ],
 "metadata": {},
 "nbformat": 4,
 "nbformat_minor": 5
}
