{
 "cells": [
  {
   "cell_type": "markdown",
   "id": "5bec9650",
   "metadata": {},
   "source": [
    "# (NASDAQCOM): NASDAQ Composite Index"
   ]
  },
  {
   "cell_type": "code",
   "execution_count": null,
   "id": "62760404",
   "metadata": {},
   "outputs": [],
   "source": [
    "    from functions import *\n",
    "    import os\n",
    "    from dotenv import load_dotenv\n",
    "    load_dotenv()\n",
    "    apikey = os.getenv(\"APIKEY\")\n",
    "    fred = Fred(api_key=apikey)\n",
    "    collect_tune_and_predict('NASDAQCOM',fred,2*365)"
   ]
  }
 ],
 "metadata": {},
 "nbformat": 4,
 "nbformat_minor": 5
}
