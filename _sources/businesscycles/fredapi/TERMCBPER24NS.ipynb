{
 "cells": [
  {
   "cell_type": "markdown",
   "id": "90ef4c1e",
   "metadata": {},
   "source": [
    "# (TERMCBPER24NS): Finance Rate on Personal Loans at Commercial Banks, 24 Month Loan"
   ]
  },
  {
   "cell_type": "code",
   "execution_count": null,
   "id": "56670c62",
   "metadata": {},
   "outputs": [],
   "source": [
    "    from functions import *\n",
    "    import os\n",
    "    from dotenv import load_dotenv\n",
    "    load_dotenv()\n",
    "    apikey = os.getenv(\"APIKEY\")\n",
    "    fred = Fred(api_key=apikey)\n",
    "    collect_tune_and_predict('TERMCBPER24NS',fred,2*365)"
   ]
  }
 ],
 "metadata": {},
 "nbformat": 4,
 "nbformat_minor": 5
}
