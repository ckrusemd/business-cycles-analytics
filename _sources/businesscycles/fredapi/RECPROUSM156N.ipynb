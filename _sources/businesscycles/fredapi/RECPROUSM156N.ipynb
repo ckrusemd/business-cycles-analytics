{
 "cells": [
  {
   "cell_type": "markdown",
   "id": "a9b480e0",
   "metadata": {},
   "source": [
    "# (RECPROUSM156N): Smoothed U.S. Recession Probabilities"
   ]
  },
  {
   "cell_type": "code",
   "execution_count": null,
   "id": "1fff5c30",
   "metadata": {},
   "outputs": [],
   "source": [
    "    from functions import *\n",
    "    import os\n",
    "    from dotenv import load_dotenv\n",
    "    load_dotenv()\n",
    "    apikey = os.getenv(\"APIKEY\")\n",
    "    fred = Fred(api_key=apikey)\n",
    "    collect_tune_and_predict('RECPROUSM156N',fred,2*365)"
   ]
  }
 ],
 "metadata": {},
 "nbformat": 4,
 "nbformat_minor": 5
}
