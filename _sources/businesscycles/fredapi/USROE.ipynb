{
 "cells": [
  {
   "cell_type": "markdown",
   "id": "fbf47c88",
   "metadata": {},
   "source": [
    "# (USROE): Return on Average Equity for all U.S. Banks (DISCONTINUED)"
   ]
  },
  {
   "cell_type": "code",
   "execution_count": null,
   "id": "9693f77d",
   "metadata": {},
   "outputs": [],
   "source": [
    "    from functions import *\n",
    "    import os\n",
    "    from dotenv import load_dotenv\n",
    "    load_dotenv()\n",
    "    apikey = os.getenv(\"APIKEY\")\n",
    "    fred = Fred(api_key=apikey)\n",
    "    collect_tune_and_predict('USROE',fred,2*365)"
   ]
  }
 ],
 "metadata": {},
 "nbformat": 4,
 "nbformat_minor": 5
}
