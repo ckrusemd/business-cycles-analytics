{
 "cells": [
  {
   "cell_type": "markdown",
   "id": "ca5465c3",
   "metadata": {},
   "source": [
    "# (IPUHN441110L000000000): Labor Productivity for Retail Trade: New Car Dealers (NAICS 441110) in the United States"
   ]
  },
  {
   "cell_type": "code",
   "execution_count": null,
   "id": "d521d85f",
   "metadata": {},
   "outputs": [],
   "source": [
    "    from functions import *\n",
    "    import os\n",
    "    from dotenv import load_dotenv\n",
    "    load_dotenv()\n",
    "    apikey = os.getenv(\"APIKEY\")\n",
    "    fred = Fred(api_key=apikey)\n",
    "    collect_tune_and_predict('IPUHN441110L000000000',fred,2*365)"
   ]
  }
 ],
 "metadata": {},
 "nbformat": 4,
 "nbformat_minor": 5
}
