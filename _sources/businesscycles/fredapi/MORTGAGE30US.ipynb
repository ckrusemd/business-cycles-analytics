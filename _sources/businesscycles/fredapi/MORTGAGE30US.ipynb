{
 "cells": [
  {
   "cell_type": "markdown",
   "id": "b2692493",
   "metadata": {},
   "source": [
    "# (MORTGAGE30US): 30-Year Fixed Rate Mortgage Average in the United States"
   ]
  },
  {
   "cell_type": "code",
   "execution_count": null,
   "id": "83ccc983",
   "metadata": {},
   "outputs": [],
   "source": [
    "    from functions import *\n",
    "    import os\n",
    "    from dotenv import load_dotenv\n",
    "    load_dotenv()\n",
    "    apikey = os.getenv(\"APIKEY\")\n",
    "    fred = Fred(api_key=apikey)\n",
    "    collect_tune_and_predict('MORTGAGE30US',fred,2*365)"
   ]
  }
 ],
 "metadata": {},
 "nbformat": 4,
 "nbformat_minor": 5
}
