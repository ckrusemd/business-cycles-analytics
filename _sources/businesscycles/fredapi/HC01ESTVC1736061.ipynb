{
 "cells": [
  {
   "cell_type": "markdown",
   "id": "da3d4acb",
   "metadata": {},
   "source": [
    "# (HC01ESTVC1736061): Bachelor's Degree or Higher (5-year estimate) in New York County, NY"
   ]
  },
  {
   "cell_type": "code",
   "execution_count": null,
   "id": "47790fe0",
   "metadata": {},
   "outputs": [],
   "source": [
    "    from functions import *\n",
    "    import os\n",
    "    from dotenv import load_dotenv\n",
    "    load_dotenv()\n",
    "    apikey = os.getenv(\"APIKEY\")\n",
    "    fred = Fred(api_key=apikey)\n",
    "    collect_tune_and_predict('HC01ESTVC1736061',fred,2*365)"
   ]
  }
 ],
 "metadata": {},
 "nbformat": 4,
 "nbformat_minor": 5
}
