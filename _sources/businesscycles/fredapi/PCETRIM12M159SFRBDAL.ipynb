{
 "cells": [
  {
   "cell_type": "markdown",
   "id": "13f436af",
   "metadata": {},
   "source": [
    "# (PCETRIM12M159SFRBDAL): Trimmed Mean PCE Inflation Rate"
   ]
  },
  {
   "cell_type": "code",
   "execution_count": null,
   "id": "3c1a8e2d",
   "metadata": {},
   "outputs": [],
   "source": [
    "    from functions import *\n",
    "    import os\n",
    "    from dotenv import load_dotenv\n",
    "    load_dotenv()\n",
    "    apikey = os.getenv(\"APIKEY\")\n",
    "    fred = Fred(api_key=apikey)\n",
    "    collect_tune_and_predict('PCETRIM12M159SFRBDAL',fred,2*365)"
   ]
  }
 ],
 "metadata": {},
 "nbformat": 4,
 "nbformat_minor": 5
}
