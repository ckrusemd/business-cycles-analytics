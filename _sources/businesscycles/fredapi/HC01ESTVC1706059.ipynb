{
 "cells": [
  {
   "cell_type": "markdown",
   "id": "6faacd39",
   "metadata": {},
   "source": [
    "# (HC01ESTVC1706059): Bachelor's Degree or Higher (5-year estimate) in Orange County, CA"
   ]
  },
  {
   "cell_type": "code",
   "execution_count": null,
   "id": "c8a1088f",
   "metadata": {},
   "outputs": [],
   "source": [
    "    from functions import *\n",
    "    import os\n",
    "    from dotenv import load_dotenv\n",
    "    load_dotenv()\n",
    "    apikey = os.getenv(\"APIKEY\")\n",
    "    fred = Fred(api_key=apikey)\n",
    "    collect_tune_and_predict('HC01ESTVC1706059',fred,2*365)"
   ]
  }
 ],
 "metadata": {},
 "nbformat": 4,
 "nbformat_minor": 5
}
