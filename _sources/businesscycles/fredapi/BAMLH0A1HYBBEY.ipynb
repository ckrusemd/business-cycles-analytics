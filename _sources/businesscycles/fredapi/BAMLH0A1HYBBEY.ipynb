{
 "cells": [
  {
   "cell_type": "markdown",
   "id": "ac8a75a2",
   "metadata": {},
   "source": [
    "# (BAMLH0A1HYBBEY): ICE BofA BB US High Yield Index Effective Yield"
   ]
  },
  {
   "cell_type": "code",
   "execution_count": null,
   "id": "36514851",
   "metadata": {},
   "outputs": [],
   "source": [
    "    from functions import *\n",
    "    import os\n",
    "    from dotenv import load_dotenv\n",
    "    load_dotenv()\n",
    "    apikey = os.getenv(\"APIKEY\")\n",
    "    fred = Fred(api_key=apikey)\n",
    "    collect_tune_and_predict('BAMLH0A1HYBBEY',fred,2*365)"
   ]
  }
 ],
 "metadata": {},
 "nbformat": 4,
 "nbformat_minor": 5
}
