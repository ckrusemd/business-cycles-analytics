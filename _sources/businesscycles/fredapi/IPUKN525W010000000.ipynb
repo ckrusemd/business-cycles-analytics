{
 "cells": [
  {
   "cell_type": "markdown",
   "id": "d8a11356",
   "metadata": {},
   "source": [
    "# (IPUKN525W010000000): Employment for Finance and Insurance: Funds, Trusts, and Other Financial Vehicles (NAICS 525) in the United States"
   ]
  },
  {
   "cell_type": "code",
   "execution_count": null,
   "id": "6eaf9377",
   "metadata": {},
   "outputs": [],
   "source": [
    "    from functions import *\n",
    "    import os\n",
    "    from dotenv import load_dotenv\n",
    "    load_dotenv()\n",
    "    apikey = os.getenv(\"APIKEY\")\n",
    "    fred = Fred(api_key=apikey)\n",
    "    collect_tune_and_predict('IPUKN525W010000000',fred,2*365)"
   ]
  }
 ],
 "metadata": {},
 "nbformat": 4,
 "nbformat_minor": 5
}
