{
 "cells": [
  {
   "cell_type": "markdown",
   "id": "299eb36e",
   "metadata": {},
   "source": [
    "# (HC01ESTVC1724031): Bachelor's Degree or Higher (5-year estimate) in Montgomery County, MD"
   ]
  },
  {
   "cell_type": "code",
   "execution_count": null,
   "id": "c3b52e18",
   "metadata": {},
   "outputs": [],
   "source": [
    "    from functions import *\n",
    "    import os\n",
    "    from dotenv import load_dotenv\n",
    "    load_dotenv()\n",
    "    apikey = os.getenv(\"APIKEY\")\n",
    "    fred = Fred(api_key=apikey)\n",
    "    collect_tune_and_predict('HC01ESTVC1724031',fred,2*365)"
   ]
  }
 ],
 "metadata": {},
 "nbformat": 4,
 "nbformat_minor": 5
}
