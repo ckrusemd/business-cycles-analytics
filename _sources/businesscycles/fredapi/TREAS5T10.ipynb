{
 "cells": [
  {
   "cell_type": "markdown",
   "id": "2245c281",
   "metadata": {},
   "source": [
    "# (TREAS5T10): Assets: Securities Held Outright: U.S. Treasury Securities: Maturing in Over 5 Years to 10 Years: Wednesday Level"
   ]
  },
  {
   "cell_type": "code",
   "execution_count": null,
   "id": "160c5ef3",
   "metadata": {},
   "outputs": [],
   "source": [
    "    from functions import *\n",
    "    import os\n",
    "    from dotenv import load_dotenv\n",
    "    load_dotenv()\n",
    "    apikey = os.getenv(\"APIKEY\")\n",
    "    fred = Fred(api_key=apikey)\n",
    "    collect_tune_and_predict('TREAS5T10',fred,2*365)"
   ]
  }
 ],
 "metadata": {},
 "nbformat": 4,
 "nbformat_minor": 5
}
