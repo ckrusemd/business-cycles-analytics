{
 "cells": [
  {
   "cell_type": "markdown",
   "id": "421012a6",
   "metadata": {},
   "source": [
    "# (OBMMIC30YFLVLE80FGE740): 30-Year Fixed Rate Conforming Mortgage Index: Loan-to-Value Less Than or Equal to 80, FICO Score Greater Than 740"
   ]
  },
  {
   "cell_type": "code",
   "execution_count": null,
   "id": "56fd63e7",
   "metadata": {},
   "outputs": [],
   "source": [
    "    from functions import *\n",
    "    import os\n",
    "    from dotenv import load_dotenv\n",
    "    load_dotenv()\n",
    "    apikey = os.getenv(\"APIKEY\")\n",
    "    fred = Fred(api_key=apikey)\n",
    "    collect_tune_and_predict('OBMMIC30YFLVLE80FGE740',fred,2*365)"
   ]
  }
 ],
 "metadata": {},
 "nbformat": 4,
 "nbformat_minor": 5
}
