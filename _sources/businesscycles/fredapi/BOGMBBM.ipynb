{
 "cells": [
  {
   "cell_type": "markdown",
   "id": "023786f2",
   "metadata": {},
   "source": [
    "# (BOGMBBM): Monetary Base; Reserve Balances"
   ]
  },
  {
   "cell_type": "code",
   "execution_count": null,
   "id": "dd7be017",
   "metadata": {},
   "outputs": [],
   "source": [
    "    from functions import *\n",
    "    import os\n",
    "    from dotenv import load_dotenv\n",
    "    load_dotenv()\n",
    "    apikey = os.getenv(\"APIKEY\")\n",
    "    fred = Fred(api_key=apikey)\n",
    "    collect_tune_and_predict('BOGMBBM',fred,2*365)"
   ]
  }
 ],
 "metadata": {},
 "nbformat": 4,
 "nbformat_minor": 5
}
