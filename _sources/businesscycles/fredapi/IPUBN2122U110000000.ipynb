{
 "cells": [
  {
   "cell_type": "markdown",
   "id": "2a2242e6",
   "metadata": {},
   "source": [
    "# (IPUBN2122U110000000): Labor Compensation for Mining: Metal Ore Mining (NAICS 2122) in the United States"
   ]
  },
  {
   "cell_type": "code",
   "execution_count": null,
   "id": "6f944f03",
   "metadata": {},
   "outputs": [],
   "source": [
    "    from functions import *\n",
    "    import os\n",
    "    from dotenv import load_dotenv\n",
    "    load_dotenv()\n",
    "    apikey = os.getenv(\"APIKEY\")\n",
    "    fred = Fred(api_key=apikey)\n",
    "    collect_tune_and_predict('IPUBN2122U110000000',fred,2*365)"
   ]
  }
 ],
 "metadata": {},
 "nbformat": 4,
 "nbformat_minor": 5
}
