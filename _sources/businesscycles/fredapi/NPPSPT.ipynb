{
 "cells": [
  {
   "cell_type": "markdown",
   "id": "adb0b236",
   "metadata": {},
   "source": [
    "# (NPPSPT): Nonfarm Private Service - Providing Payroll Employment"
   ]
  },
  {
   "cell_type": "code",
   "execution_count": null,
   "id": "f8b206d6",
   "metadata": {},
   "outputs": [],
   "source": [
    "    from functions import *\n",
    "    import os\n",
    "    from dotenv import load_dotenv\n",
    "    load_dotenv()\n",
    "    apikey = os.getenv(\"APIKEY\")\n",
    "    fred = Fred(api_key=apikey)\n",
    "    collect_tune_and_predict('NPPSPT',fred,2*365)"
   ]
  }
 ],
 "metadata": {},
 "nbformat": 4,
 "nbformat_minor": 5
}
