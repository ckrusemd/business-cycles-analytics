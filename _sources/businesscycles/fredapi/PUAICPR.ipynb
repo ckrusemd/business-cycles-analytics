{
 "cells": [
  {
   "cell_type": "markdown",
   "id": "3d936b48",
   "metadata": {},
   "source": [
    "# (PUAICPR): Pandemic Unemployment Assistance Initial Claims in Puerto Rico"
   ]
  },
  {
   "cell_type": "code",
   "execution_count": null,
   "id": "12001e2b",
   "metadata": {},
   "outputs": [],
   "source": [
    "    from functions import *\n",
    "    import os\n",
    "    from dotenv import load_dotenv\n",
    "    load_dotenv()\n",
    "    apikey = os.getenv(\"APIKEY\")\n",
    "    fred = Fred(api_key=apikey)\n",
    "    collect_tune_and_predict('PUAICPR',fred,2*365)"
   ]
  }
 ],
 "metadata": {},
 "nbformat": 4,
 "nbformat_minor": 5
}
