{
 "cells": [
  {
   "cell_type": "markdown",
   "id": "4077c781",
   "metadata": {},
   "source": [
    "# (WILL5000IND): Wilshire 5000 Total Market Index"
   ]
  },
  {
   "cell_type": "code",
   "execution_count": null,
   "id": "47403534",
   "metadata": {},
   "outputs": [],
   "source": [
    "    from functions import *\n",
    "    import os\n",
    "    from dotenv import load_dotenv\n",
    "    load_dotenv()\n",
    "    apikey = os.getenv(\"APIKEY\")\n",
    "    fred = Fred(api_key=apikey)\n",
    "    collect_tune_and_predict('WILL5000IND',fred,2*365)"
   ]
  }
 ],
 "metadata": {},
 "nbformat": 4,
 "nbformat_minor": 5
}
