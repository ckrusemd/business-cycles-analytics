{
 "cells": [
  {
   "cell_type": "markdown",
   "id": "8cf532c2",
   "metadata": {},
   "source": [
    "# (CFNAIDIFF): Chicago Fed National Activity Index: Diffusion Index"
   ]
  },
  {
   "cell_type": "code",
   "execution_count": null,
   "id": "5ea45331",
   "metadata": {},
   "outputs": [],
   "source": [
    "    from functions import *\n",
    "    import os\n",
    "    from dotenv import load_dotenv\n",
    "    load_dotenv()\n",
    "    apikey = os.getenv(\"APIKEY\")\n",
    "    fred = Fred(api_key=apikey)\n",
    "    collect_tune_and_predict('CFNAIDIFF',fred,2*365)"
   ]
  }
 ],
 "metadata": {},
 "nbformat": 4,
 "nbformat_minor": 5
}
