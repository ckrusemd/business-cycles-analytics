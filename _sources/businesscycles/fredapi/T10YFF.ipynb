{
 "cells": [
  {
   "cell_type": "markdown",
   "id": "e94f6a39",
   "metadata": {},
   "source": [
    "# (T10YFF): 10-Year Treasury Constant Maturity Minus Federal Funds Rate"
   ]
  },
  {
   "cell_type": "code",
   "execution_count": null,
   "id": "4e68eed1",
   "metadata": {},
   "outputs": [],
   "source": [
    "    from functions import *\n",
    "    import os\n",
    "    from dotenv import load_dotenv\n",
    "    load_dotenv()\n",
    "    apikey = os.getenv(\"APIKEY\")\n",
    "    fred = Fred(api_key=apikey)\n",
    "    collect_tune_and_predict('T10YFF',fred,2*365)"
   ]
  }
 ],
 "metadata": {},
 "nbformat": 4,
 "nbformat_minor": 5
}
