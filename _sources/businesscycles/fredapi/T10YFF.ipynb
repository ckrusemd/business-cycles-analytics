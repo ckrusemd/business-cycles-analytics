{
 "cells": [
  {
   "cell_type": "markdown",
   "id": "d886e6ce",
   "metadata": {},
   "source": [
    "# (T10YFF): 10-Year Treasury Constant Maturity Minus Federal Funds Rate"
   ]
  },
  {
   "cell_type": "code",
   "execution_count": null,
   "id": "d49b6da7",
   "metadata": {},
   "outputs": [],
   "source": [
    "    from functions import *\n",
    "    import os\n",
    "    from dotenv import load_dotenv\n",
    "    load_dotenv()\n",
    "    apikey = os.getenv(\"APIKEY\")\n",
    "    fred = Fred(api_key=apikey)\n",
    "    collect_tune_and_predict('T10YFF',fred,2*365)"
   ]
  }
 ],
 "metadata": {},
 "nbformat": 4,
 "nbformat_minor": 5
}
