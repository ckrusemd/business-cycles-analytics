{
 "cells": [
  {
   "cell_type": "markdown",
   "id": "863e2bf7",
   "metadata": {},
   "source": [
    "# (IPUBN211T300000000): Value of Production for Mining: Oil and Gas Extraction (NAICS 211) in the United States"
   ]
  },
  {
   "cell_type": "code",
   "execution_count": null,
   "id": "34062fab",
   "metadata": {},
   "outputs": [],
   "source": [
    "    from functions import *\n",
    "    import os\n",
    "    from dotenv import load_dotenv\n",
    "    load_dotenv()\n",
    "    apikey = os.getenv(\"APIKEY\")\n",
    "    fred = Fred(api_key=apikey)\n",
    "    collect_tune_and_predict('IPUBN211T300000000',fred,2*365)"
   ]
  }
 ],
 "metadata": {},
 "nbformat": 4,
 "nbformat_minor": 5
}
