{
 "cells": [
  {
   "cell_type": "markdown",
   "id": "283f929b",
   "metadata": {},
   "source": [
    "# (WFRBST01108): Share of Total Assets Held by the Top 1% (99th to 100th Wealth Percentiles)"
   ]
  },
  {
   "cell_type": "code",
   "execution_count": null,
   "id": "dcc8f42b",
   "metadata": {},
   "outputs": [],
   "source": [
    "    from functions import *\n",
    "    import os\n",
    "    from dotenv import load_dotenv\n",
    "    load_dotenv()\n",
    "    apikey = os.getenv(\"APIKEY\")\n",
    "    fred = Fred(api_key=apikey)\n",
    "    collect_tune_and_predict('WFRBST01108',fred,2*365)"
   ]
  }
 ],
 "metadata": {},
 "nbformat": 4,
 "nbformat_minor": 5
}
