{
 "cells": [
  {
   "cell_type": "markdown",
   "id": "6b173eae",
   "metadata": {},
   "source": [
    "# (IPULN53121L200000000): Hours Worked for Real Estate and Rental and Leasing: Offices of Real Estate Agents and Brokers (NAICS 53121) in the United States"
   ]
  },
  {
   "cell_type": "code",
   "execution_count": null,
   "id": "f6c307a0",
   "metadata": {},
   "outputs": [],
   "source": [
    "    from functions import *\n",
    "    import os\n",
    "    from dotenv import load_dotenv\n",
    "    load_dotenv()\n",
    "    apikey = os.getenv(\"APIKEY\")\n",
    "    fred = Fred(api_key=apikey)\n",
    "    collect_tune_and_predict('IPULN53121L200000000',fred,2*365)"
   ]
  }
 ],
 "metadata": {},
 "nbformat": 4,
 "nbformat_minor": 5
}
