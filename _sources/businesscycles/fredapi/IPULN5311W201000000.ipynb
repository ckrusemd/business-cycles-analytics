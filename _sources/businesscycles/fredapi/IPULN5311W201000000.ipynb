{
 "cells": [
  {
   "cell_type": "markdown",
   "id": "ef9c4b44",
   "metadata": {},
   "source": [
    "# (IPULN5311W201000000): Employment for Real Estate and Rental and Leasing: Lessors of Real Estate (NAICS 5311) in the United States"
   ]
  },
  {
   "cell_type": "code",
   "execution_count": null,
   "id": "f839f9d7",
   "metadata": {},
   "outputs": [],
   "source": [
    "    from functions import *\n",
    "    import os\n",
    "    from dotenv import load_dotenv\n",
    "    load_dotenv()\n",
    "    apikey = os.getenv(\"APIKEY\")\n",
    "    fred = Fred(api_key=apikey)\n",
    "    collect_tune_and_predict('IPULN5311W201000000',fred,2*365)"
   ]
  }
 ],
 "metadata": {},
 "nbformat": 4,
 "nbformat_minor": 5
}
