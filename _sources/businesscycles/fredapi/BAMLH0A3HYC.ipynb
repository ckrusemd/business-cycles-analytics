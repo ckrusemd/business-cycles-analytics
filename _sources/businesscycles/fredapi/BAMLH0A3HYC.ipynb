{
 "cells": [
  {
   "cell_type": "markdown",
   "id": "46aef9ed",
   "metadata": {},
   "source": [
    "# (BAMLH0A3HYC): ICE BofA CCC & Lower US High Yield Index Option-Adjusted Spread"
   ]
  },
  {
   "cell_type": "code",
   "execution_count": null,
   "id": "a5876d77",
   "metadata": {},
   "outputs": [],
   "source": [
    "    from functions import *\n",
    "    import os\n",
    "    from dotenv import load_dotenv\n",
    "    load_dotenv()\n",
    "    apikey = os.getenv(\"APIKEY\")\n",
    "    fred = Fred(api_key=apikey)\n",
    "    collect_tune_and_predict('BAMLH0A3HYC',fred,2*365)"
   ]
  }
 ],
 "metadata": {},
 "nbformat": 4,
 "nbformat_minor": 5
}
