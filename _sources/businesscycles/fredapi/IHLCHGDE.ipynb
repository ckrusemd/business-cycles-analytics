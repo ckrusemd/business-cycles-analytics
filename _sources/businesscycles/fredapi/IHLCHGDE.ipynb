{
 "cells": [
  {
   "cell_type": "markdown",
   "id": "aaa29d27",
   "metadata": {},
   "source": [
    "# (IHLCHGDE): Job Postings on Indeed in Germany"
   ]
  },
  {
   "cell_type": "code",
   "execution_count": null,
   "id": "e6f8a119",
   "metadata": {},
   "outputs": [],
   "source": [
    "    from functions import *\n",
    "    import os\n",
    "    from dotenv import load_dotenv\n",
    "    load_dotenv()\n",
    "    apikey = os.getenv(\"APIKEY\")\n",
    "    fred = Fred(api_key=apikey)\n",
    "    collect_tune_and_predict('IHLCHGDE',fred,2*365)"
   ]
  }
 ],
 "metadata": {},
 "nbformat": 4,
 "nbformat_minor": 5
}
