{
 "cells": [
  {
   "cell_type": "markdown",
   "id": "42e1e7c4",
   "metadata": {},
   "source": [
    "# (TERMCBAUTO48NS): Finance Rate on Consumer Installment Loans at Commercial Banks, New Autos 48 Month Loan"
   ]
  },
  {
   "cell_type": "code",
   "execution_count": null,
   "id": "ed3f1cd4",
   "metadata": {},
   "outputs": [],
   "source": [
    "    from functions import *\n",
    "    import os\n",
    "    from dotenv import load_dotenv\n",
    "    load_dotenv()\n",
    "    apikey = os.getenv(\"APIKEY\")\n",
    "    fred = Fred(api_key=apikey)\n",
    "    collect_tune_and_predict('TERMCBAUTO48NS',fred,2*365)"
   ]
  }
 ],
 "metadata": {},
 "nbformat": 4,
 "nbformat_minor": 5
}
