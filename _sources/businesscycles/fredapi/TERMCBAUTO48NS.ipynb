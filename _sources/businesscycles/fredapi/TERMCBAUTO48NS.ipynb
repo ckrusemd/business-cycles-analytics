{
 "cells": [
  {
   "cell_type": "markdown",
   "id": "7a5a64ea",
   "metadata": {},
   "source": [
    "# (TERMCBAUTO48NS): Finance Rate on Consumer Installment Loans at Commercial Banks, New Autos 48 Month Loan"
   ]
  },
  {
   "cell_type": "code",
   "execution_count": null,
   "id": "0c1d3cef",
   "metadata": {},
   "outputs": [],
   "source": [
    "    from functions import *\n",
    "    import os\n",
    "    from dotenv import load_dotenv\n",
    "    load_dotenv()\n",
    "    apikey = os.getenv(\"APIKEY\")\n",
    "    fred = Fred(api_key=apikey)\n",
    "    collect_tune_and_predict('TERMCBAUTO48NS',fred,2*365)"
   ]
  }
 ],
 "metadata": {},
 "nbformat": 4,
 "nbformat_minor": 5
}
