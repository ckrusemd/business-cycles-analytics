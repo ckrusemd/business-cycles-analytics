{
 "cells": [
  {
   "cell_type": "markdown",
   "id": "b98b3ce1",
   "metadata": {},
   "source": [
    "# (IPUBN21211L200000000): Hours Worked for Mining: Coal Mining (NAICS 21211) in the United States"
   ]
  },
  {
   "cell_type": "code",
   "execution_count": null,
   "id": "51e046de",
   "metadata": {},
   "outputs": [],
   "source": [
    "    from functions import *\n",
    "    import os\n",
    "    from dotenv import load_dotenv\n",
    "    load_dotenv()\n",
    "    apikey = os.getenv(\"APIKEY\")\n",
    "    fred = Fred(api_key=apikey)\n",
    "    collect_tune_and_predict('IPUBN21211L200000000',fred,2*365)"
   ]
  }
 ],
 "metadata": {},
 "nbformat": 4,
 "nbformat_minor": 5
}
