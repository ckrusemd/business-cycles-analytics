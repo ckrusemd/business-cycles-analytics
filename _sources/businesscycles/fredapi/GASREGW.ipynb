{
 "cells": [
  {
   "cell_type": "markdown",
   "id": "910a451c",
   "metadata": {},
   "source": [
    "# (GASREGW): US Regular All Formulations Gas Price"
   ]
  },
  {
   "cell_type": "code",
   "execution_count": null,
   "id": "242c6d85",
   "metadata": {},
   "outputs": [],
   "source": [
    "    from functions import *\n",
    "    import os\n",
    "    from dotenv import load_dotenv\n",
    "    load_dotenv()\n",
    "    apikey = os.getenv(\"APIKEY\")\n",
    "    fred = Fred(api_key=apikey)\n",
    "    collect_tune_and_predict('GASREGW',fred,2*365)"
   ]
  }
 ],
 "metadata": {},
 "nbformat": 4,
 "nbformat_minor": 5
}
