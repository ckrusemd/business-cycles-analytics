{
 "cells": [
  {
   "cell_type": "markdown",
   "id": "0ffc8392",
   "metadata": {},
   "source": [
    "# (HC01ESTVC1637063): High School Graduate or Higher (5-year estimate) in Durham County, NC"
   ]
  },
  {
   "cell_type": "code",
   "execution_count": null,
   "id": "ef6bae06",
   "metadata": {},
   "outputs": [],
   "source": [
    "    from functions import *\n",
    "    import os\n",
    "    from dotenv import load_dotenv\n",
    "    load_dotenv()\n",
    "    apikey = os.getenv(\"APIKEY\")\n",
    "    fred = Fred(api_key=apikey)\n",
    "    collect_tune_and_predict('HC01ESTVC1637063',fred,2*365)"
   ]
  }
 ],
 "metadata": {},
 "nbformat": 4,
 "nbformat_minor": 5
}
