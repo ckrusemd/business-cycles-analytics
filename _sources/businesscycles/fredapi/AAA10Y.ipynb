{
 "cells": [
  {
   "cell_type": "markdown",
   "id": "342ea052",
   "metadata": {},
   "source": [
    "# (AAA10Y): Moody's Seasoned Aaa Corporate Bond Yield Relative to Yield on 10-Year Treasury Constant Maturity"
   ]
  },
  {
   "cell_type": "code",
   "execution_count": null,
   "id": "ba3893a7",
   "metadata": {},
   "outputs": [],
   "source": [
    "    from functions import *\n",
    "    import os\n",
    "    from dotenv import load_dotenv\n",
    "    load_dotenv()\n",
    "    apikey = os.getenv(\"APIKEY\")\n",
    "    fred = Fred(api_key=apikey)\n",
    "    collect_tune_and_predict('AAA10Y',fred,2*365)"
   ]
  }
 ],
 "metadata": {},
 "nbformat": 4,
 "nbformat_minor": 5
}
