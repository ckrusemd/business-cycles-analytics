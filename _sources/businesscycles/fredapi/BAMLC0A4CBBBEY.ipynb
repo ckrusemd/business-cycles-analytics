{
 "cells": [
  {
   "cell_type": "markdown",
   "id": "1ff2319f",
   "metadata": {},
   "source": [
    "# (BAMLC0A4CBBBEY): ICE BofA BBB US Corporate Index Effective Yield"
   ]
  },
  {
   "cell_type": "code",
   "execution_count": null,
   "id": "76c934be",
   "metadata": {},
   "outputs": [],
   "source": [
    "    from functions import *\n",
    "    import os\n",
    "    from dotenv import load_dotenv\n",
    "    load_dotenv()\n",
    "    apikey = os.getenv(\"APIKEY\")\n",
    "    fred = Fred(api_key=apikey)\n",
    "    collect_tune_and_predict('BAMLC0A4CBBBEY',fred,2*365)"
   ]
  }
 ],
 "metadata": {},
 "nbformat": 4,
 "nbformat_minor": 5
}
