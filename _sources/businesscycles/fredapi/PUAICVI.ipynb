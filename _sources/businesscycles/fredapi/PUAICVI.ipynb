{
 "cells": [
  {
   "cell_type": "markdown",
   "id": "45f1e6e9",
   "metadata": {},
   "source": [
    "# (PUAICVI): Pandemic Unemployment Assistance Initial Claims in Virgin Islands"
   ]
  },
  {
   "cell_type": "code",
   "execution_count": null,
   "id": "7fd91d84",
   "metadata": {},
   "outputs": [],
   "source": [
    "    from functions import *\n",
    "    import os\n",
    "    from dotenv import load_dotenv\n",
    "    load_dotenv()\n",
    "    apikey = os.getenv(\"APIKEY\")\n",
    "    fred = Fred(api_key=apikey)\n",
    "    collect_tune_and_predict('PUAICVI',fred,2*365)"
   ]
  }
 ],
 "metadata": {},
 "nbformat": 4,
 "nbformat_minor": 5
}
