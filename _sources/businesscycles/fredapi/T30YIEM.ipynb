{
 "cells": [
  {
   "cell_type": "markdown",
   "id": "7697ad82",
   "metadata": {},
   "source": [
    "# (T30YIEM): 30-year Breakeven Inflation Rate"
   ]
  },
  {
   "cell_type": "code",
   "execution_count": null,
   "id": "417c7a11",
   "metadata": {},
   "outputs": [],
   "source": [
    "    from functions import *\n",
    "    import os\n",
    "    from dotenv import load_dotenv\n",
    "    load_dotenv()\n",
    "    apikey = os.getenv(\"APIKEY\")\n",
    "    fred = Fred(api_key=apikey)\n",
    "    collect_tune_and_predict('T30YIEM',fred,2*365)"
   ]
  }
 ],
 "metadata": {},
 "nbformat": 4,
 "nbformat_minor": 5
}
