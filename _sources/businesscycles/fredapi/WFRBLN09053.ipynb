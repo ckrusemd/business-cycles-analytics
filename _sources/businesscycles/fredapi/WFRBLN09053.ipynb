{
 "cells": [
  {
   "cell_type": "markdown",
   "id": "aada0526",
   "metadata": {},
   "source": [
    "# (WFRBLN09053): Total Net Worth Held by the 90th to 99th Wealth Percentiles"
   ]
  },
  {
   "cell_type": "code",
   "execution_count": null,
   "id": "3a938c10",
   "metadata": {},
   "outputs": [],
   "source": [
    "    from functions import *\n",
    "    import os\n",
    "    from dotenv import load_dotenv\n",
    "    load_dotenv()\n",
    "    apikey = os.getenv(\"APIKEY\")\n",
    "    fred = Fred(api_key=apikey)\n",
    "    collect_tune_and_predict('WFRBLN09053',fred,2*365)"
   ]
  }
 ],
 "metadata": {},
 "nbformat": 4,
 "nbformat_minor": 5
}
