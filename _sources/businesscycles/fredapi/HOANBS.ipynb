{
 "cells": [
  {
   "cell_type": "markdown",
   "id": "6f4e1e82",
   "metadata": {},
   "source": [
    "# (HOANBS): Nonfarm Business Sector: Hours of All Persons"
   ]
  },
  {
   "cell_type": "code",
   "execution_count": null,
   "id": "26e94d0a",
   "metadata": {},
   "outputs": [],
   "source": [
    "    from functions import *\n",
    "    import os\n",
    "    from dotenv import load_dotenv\n",
    "    load_dotenv()\n",
    "    apikey = os.getenv(\"APIKEY\")\n",
    "    fred = Fred(api_key=apikey)\n",
    "    collect_tune_and_predict('HOANBS',fred,2*365)"
   ]
  }
 ],
 "metadata": {},
 "nbformat": 4,
 "nbformat_minor": 5
}
