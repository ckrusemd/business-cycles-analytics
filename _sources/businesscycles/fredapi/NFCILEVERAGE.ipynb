{
 "cells": [
  {
   "cell_type": "markdown",
   "id": "22e460cf",
   "metadata": {},
   "source": [
    "# (NFCILEVERAGE): Chicago Fed National Financial Conditions Leverage Subindex"
   ]
  },
  {
   "cell_type": "code",
   "execution_count": null,
   "id": "e268f040",
   "metadata": {},
   "outputs": [],
   "source": [
    "    from functions import *\n",
    "    import os\n",
    "    from dotenv import load_dotenv\n",
    "    load_dotenv()\n",
    "    apikey = os.getenv(\"APIKEY\")\n",
    "    fred = Fred(api_key=apikey)\n",
    "    collect_tune_and_predict('NFCILEVERAGE',fred,2*365)"
   ]
  }
 ],
 "metadata": {},
 "nbformat": 4,
 "nbformat_minor": 5
}
