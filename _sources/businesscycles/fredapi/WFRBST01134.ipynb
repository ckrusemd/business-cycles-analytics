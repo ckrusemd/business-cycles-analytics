{
 "cells": [
  {
   "cell_type": "markdown",
   "id": "85ba7910",
   "metadata": {},
   "source": [
    "# (WFRBST01134): Share of Total Net Worth Held by the Top 1% (99th to 100th Wealth Percentiles)"
   ]
  },
  {
   "cell_type": "code",
   "execution_count": null,
   "id": "f74a55f4",
   "metadata": {},
   "outputs": [],
   "source": [
    "    from functions import *\n",
    "    import os\n",
    "    from dotenv import load_dotenv\n",
    "    load_dotenv()\n",
    "    apikey = os.getenv(\"APIKEY\")\n",
    "    fred = Fred(api_key=apikey)\n",
    "    collect_tune_and_predict('WFRBST01134',fred,2*365)"
   ]
  }
 ],
 "metadata": {},
 "nbformat": 4,
 "nbformat_minor": 5
}
