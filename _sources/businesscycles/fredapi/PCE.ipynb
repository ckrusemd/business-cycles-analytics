{
 "cells": [
  {
   "cell_type": "markdown",
   "id": "fe6adb06",
   "metadata": {},
   "source": [
    "# (PCE): Personal Consumption Expenditures"
   ]
  },
  {
   "cell_type": "code",
   "execution_count": null,
   "id": "605d94f9",
   "metadata": {},
   "outputs": [],
   "source": [
    "    from functions import *\n",
    "    import os\n",
    "    from dotenv import load_dotenv\n",
    "    load_dotenv()\n",
    "    apikey = os.getenv(\"APIKEY\")\n",
    "    fred = Fred(api_key=apikey)\n",
    "    collect_tune_and_predict('PCE',fred,2*365)"
   ]
  }
 ],
 "metadata": {},
 "nbformat": 4,
 "nbformat_minor": 5
}
