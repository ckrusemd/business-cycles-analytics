{
 "cells": [
  {
   "cell_type": "markdown",
   "id": "91c1a27d",
   "metadata": {},
   "source": [
    "# (WILL5000INDFC): Wilshire 5000 Total Market Full Cap Index"
   ]
  },
  {
   "cell_type": "code",
   "execution_count": null,
   "id": "9312a6e9",
   "metadata": {},
   "outputs": [],
   "source": [
    "    from functions import *\n",
    "    import os\n",
    "    from dotenv import load_dotenv\n",
    "    load_dotenv()\n",
    "    apikey = os.getenv(\"APIKEY\")\n",
    "    fred = Fred(api_key=apikey)\n",
    "    collect_tune_and_predict('WILL5000INDFC',fred,2*365)"
   ]
  }
 ],
 "metadata": {},
 "nbformat": 4,
 "nbformat_minor": 5
}
