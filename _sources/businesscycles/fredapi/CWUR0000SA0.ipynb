{
 "cells": [
  {
   "cell_type": "markdown",
   "id": "5e0ef020",
   "metadata": {},
   "source": [
    "# (CWUR0000SA0): Consumer Price Index for All Urban Wage Earners and Clerical Workers: All Items in U.S. City Average"
   ]
  },
  {
   "cell_type": "code",
   "execution_count": null,
   "id": "e4d9f928",
   "metadata": {},
   "outputs": [],
   "source": [
    "    from functions import *\n",
    "    import os\n",
    "    from dotenv import load_dotenv\n",
    "    load_dotenv()\n",
    "    apikey = os.getenv(\"APIKEY\")\n",
    "    fred = Fred(api_key=apikey)\n",
    "    collect_tune_and_predict('CWUR0000SA0',fred,2*365)"
   ]
  }
 ],
 "metadata": {},
 "nbformat": 4,
 "nbformat_minor": 5
}
