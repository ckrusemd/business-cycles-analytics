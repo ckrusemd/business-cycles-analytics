{
 "cells": [
  {
   "cell_type": "markdown",
   "id": "de0529ca",
   "metadata": {},
   "source": [
    "# (CWUR0000SA0): Consumer Price Index for All Urban Wage Earners and Clerical Workers: All Items in U.S. City Average"
   ]
  },
  {
   "cell_type": "code",
   "execution_count": null,
   "id": "86985a1a",
   "metadata": {},
   "outputs": [],
   "source": [
    "    from functions import *\n",
    "    import os\n",
    "    from dotenv import load_dotenv\n",
    "    load_dotenv()\n",
    "    apikey = os.getenv(\"APIKEY\")\n",
    "    fred = Fred(api_key=apikey)\n",
    "    collect_tune_and_predict('CWUR0000SA0',fred,2*365)"
   ]
  }
 ],
 "metadata": {},
 "nbformat": 4,
 "nbformat_minor": 5
}
