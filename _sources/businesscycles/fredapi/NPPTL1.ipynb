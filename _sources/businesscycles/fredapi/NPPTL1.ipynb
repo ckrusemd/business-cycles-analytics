{
 "cells": [
  {
   "cell_type": "markdown",
   "id": "a81a23aa",
   "metadata": {},
   "source": [
    "# (NPPTL1): Nonfarm Private Large Payroll Employment (500 - 999)"
   ]
  },
  {
   "cell_type": "code",
   "execution_count": null,
   "id": "ef773b72",
   "metadata": {},
   "outputs": [],
   "source": [
    "    from functions import *\n",
    "    import os\n",
    "    from dotenv import load_dotenv\n",
    "    load_dotenv()\n",
    "    apikey = os.getenv(\"APIKEY\")\n",
    "    fred = Fred(api_key=apikey)\n",
    "    collect_tune_and_predict('NPPTL1',fred,2*365)"
   ]
  }
 ],
 "metadata": {},
 "nbformat": 4,
 "nbformat_minor": 5
}
