{
 "cells": [
  {
   "cell_type": "markdown",
   "id": "a318039b",
   "metadata": {},
   "source": [
    "# (WILL5000PR): Wilshire 5000 Price Index"
   ]
  },
  {
   "cell_type": "code",
   "execution_count": null,
   "id": "17ffc8bd",
   "metadata": {},
   "outputs": [],
   "source": [
    "    from functions import *\n",
    "    import os\n",
    "    from dotenv import load_dotenv\n",
    "    load_dotenv()\n",
    "    apikey = os.getenv(\"APIKEY\")\n",
    "    fred = Fred(api_key=apikey)\n",
    "    collect_tune_and_predict('WILL5000PR',fred,2*365)"
   ]
  }
 ],
 "metadata": {},
 "nbformat": 4,
 "nbformat_minor": 5
}
