{
 "cells": [
  {
   "cell_type": "markdown",
   "id": "c5b8f128",
   "metadata": {},
   "source": [
    "# (DRCCLT100S): Delinquency Rate on Credit Card Loans, Top 100 Banks Ranked by Assets"
   ]
  },
  {
   "cell_type": "code",
   "execution_count": null,
   "id": "97637b52",
   "metadata": {},
   "outputs": [],
   "source": [
    "    from functions import *\n",
    "    import os\n",
    "    from dotenv import load_dotenv\n",
    "    load_dotenv()\n",
    "    apikey = os.getenv(\"APIKEY\")\n",
    "    fred = Fred(api_key=apikey)\n",
    "    collect_tune_and_predict('DRCCLT100S',fred,2*365)"
   ]
  }
 ],
 "metadata": {},
 "nbformat": 4,
 "nbformat_minor": 5
}
