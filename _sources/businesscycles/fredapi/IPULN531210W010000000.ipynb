{
 "cells": [
  {
   "cell_type": "markdown",
   "id": "f21e4874",
   "metadata": {},
   "source": [
    "# (IPULN531210W010000000): Employment for Real Estate and Rental and Leasing: Offices of Real Estate Agents and Brokers (NAICS 531210) in the United States"
   ]
  },
  {
   "cell_type": "code",
   "execution_count": null,
   "id": "50c9dcd8",
   "metadata": {},
   "outputs": [],
   "source": [
    "    from functions import *\n",
    "    import os\n",
    "    from dotenv import load_dotenv\n",
    "    load_dotenv()\n",
    "    apikey = os.getenv(\"APIKEY\")\n",
    "    fred = Fred(api_key=apikey)\n",
    "    collect_tune_and_predict('IPULN531210W010000000',fred,2*365)"
   ]
  }
 ],
 "metadata": {},
 "nbformat": 4,
 "nbformat_minor": 5
}
