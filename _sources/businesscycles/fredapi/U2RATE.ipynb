{
 "cells": [
  {
   "cell_type": "markdown",
   "id": "264e5c78",
   "metadata": {},
   "source": [
    "# (U2RATE): Unemployment Rate - Job Losers (U-2)"
   ]
  },
  {
   "cell_type": "code",
   "execution_count": null,
   "id": "d463d4b1",
   "metadata": {},
   "outputs": [],
   "source": [
    "    from functions import *\n",
    "    import os\n",
    "    from dotenv import load_dotenv\n",
    "    load_dotenv()\n",
    "    apikey = os.getenv(\"APIKEY\")\n",
    "    fred = Fred(api_key=apikey)\n",
    "    collect_tune_and_predict('U2RATE',fred,2*365)"
   ]
  }
 ],
 "metadata": {},
 "nbformat": 4,
 "nbformat_minor": 5
}
