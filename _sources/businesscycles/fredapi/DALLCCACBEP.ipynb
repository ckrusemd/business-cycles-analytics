{
 "cells": [
  {
   "cell_type": "markdown",
   "id": "92f09e1b",
   "metadata": {},
   "source": [
    "# (DALLCCACBEP): Delinquencies on All Loans and Leases, to Consumers, Credit Cards, All Commercial Banks"
   ]
  },
  {
   "cell_type": "code",
   "execution_count": null,
   "id": "9a873bfc",
   "metadata": {},
   "outputs": [],
   "source": [
    "    from functions import *\n",
    "    import os\n",
    "    from dotenv import load_dotenv\n",
    "    load_dotenv()\n",
    "    apikey = os.getenv(\"APIKEY\")\n",
    "    fred = Fred(api_key=apikey)\n",
    "    collect_tune_and_predict('DALLCCACBEP',fred,2*365)"
   ]
  }
 ],
 "metadata": {},
 "nbformat": 4,
 "nbformat_minor": 5
}
