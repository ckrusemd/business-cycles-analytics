{
 "cells": [
  {
   "cell_type": "markdown",
   "id": "c827156e",
   "metadata": {},
   "source": [
    "# (GINIALLRH): Income Gini Ratio for Households by Race of Householder, All Races"
   ]
  },
  {
   "cell_type": "code",
   "execution_count": null,
   "id": "da3207cc",
   "metadata": {},
   "outputs": [],
   "source": [
    "    from functions import *\n",
    "    import os\n",
    "    from dotenv import load_dotenv\n",
    "    load_dotenv()\n",
    "    apikey = os.getenv(\"APIKEY\")\n",
    "    fred = Fred(api_key=apikey)\n",
    "    collect_tune_and_predict('GINIALLRH',fred,2*365)"
   ]
  }
 ],
 "metadata": {},
 "nbformat": 4,
 "nbformat_minor": 5
}
