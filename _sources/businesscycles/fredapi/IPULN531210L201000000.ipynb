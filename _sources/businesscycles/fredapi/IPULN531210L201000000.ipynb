{
 "cells": [
  {
   "cell_type": "markdown",
   "id": "45029c95",
   "metadata": {},
   "source": [
    "# (IPULN531210L201000000): Hours Worked for Real Estate and Rental and Leasing: Offices of Real Estate Agents and Brokers (NAICS 531210) in the United States"
   ]
  },
  {
   "cell_type": "code",
   "execution_count": null,
   "id": "dd19c486",
   "metadata": {},
   "outputs": [],
   "source": [
    "    from functions import *\n",
    "    import os\n",
    "    from dotenv import load_dotenv\n",
    "    load_dotenv()\n",
    "    apikey = os.getenv(\"APIKEY\")\n",
    "    fred = Fred(api_key=apikey)\n",
    "    collect_tune_and_predict('IPULN531210L201000000',fred,2*365)"
   ]
  }
 ],
 "metadata": {},
 "nbformat": 4,
 "nbformat_minor": 5
}
