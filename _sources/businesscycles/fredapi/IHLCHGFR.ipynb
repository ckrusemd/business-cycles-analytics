{
 "cells": [
  {
   "cell_type": "markdown",
   "id": "e68b0ae5",
   "metadata": {},
   "source": [
    "# (IHLCHGFR): Job Postings on Indeed in France"
   ]
  },
  {
   "cell_type": "code",
   "execution_count": null,
   "id": "77200e21",
   "metadata": {},
   "outputs": [],
   "source": [
    "    from functions import *\n",
    "    import os\n",
    "    from dotenv import load_dotenv\n",
    "    load_dotenv()\n",
    "    apikey = os.getenv(\"APIKEY\")\n",
    "    fred = Fred(api_key=apikey)\n",
    "    collect_tune_and_predict('IHLCHGFR',fred,2*365)"
   ]
  }
 ],
 "metadata": {},
 "nbformat": 4,
 "nbformat_minor": 5
}
