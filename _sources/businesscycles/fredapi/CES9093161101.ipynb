{
 "cells": [
  {
   "cell_type": "markdown",
   "id": "fecf51ec",
   "metadata": {},
   "source": [
    "# (CES9093161101): All Employees, Local Government Education"
   ]
  },
  {
   "cell_type": "code",
   "execution_count": null,
   "id": "cb53b977",
   "metadata": {},
   "outputs": [],
   "source": [
    "    from functions import *\n",
    "    import os\n",
    "    from dotenv import load_dotenv\n",
    "    load_dotenv()\n",
    "    apikey = os.getenv(\"APIKEY\")\n",
    "    fred = Fred(api_key=apikey)\n",
    "    collect_tune_and_predict('CES9093161101',fred,2*365)"
   ]
  }
 ],
 "metadata": {},
 "nbformat": 4,
 "nbformat_minor": 5
}
