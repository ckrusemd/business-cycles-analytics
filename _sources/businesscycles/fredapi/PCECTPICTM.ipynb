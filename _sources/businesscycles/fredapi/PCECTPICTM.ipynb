{
 "cells": [
  {
   "cell_type": "markdown",
   "id": "f6f4bedd",
   "metadata": {},
   "source": [
    "# (PCECTPICTM): FOMC Summary of Economic Projections for the Personal Consumption Expenditures Inflation Rate, Central Tendency, Midpoint"
   ]
  },
  {
   "cell_type": "code",
   "execution_count": null,
   "id": "94e98f94",
   "metadata": {},
   "outputs": [],
   "source": [
    "    from functions import *\n",
    "    import os\n",
    "    from dotenv import load_dotenv\n",
    "    load_dotenv()\n",
    "    apikey = os.getenv(\"APIKEY\")\n",
    "    fred = Fred(api_key=apikey)\n",
    "    collect_tune_and_predict('PCECTPICTM',fred,2*365)"
   ]
  }
 ],
 "metadata": {},
 "nbformat": 4,
 "nbformat_minor": 5
}
