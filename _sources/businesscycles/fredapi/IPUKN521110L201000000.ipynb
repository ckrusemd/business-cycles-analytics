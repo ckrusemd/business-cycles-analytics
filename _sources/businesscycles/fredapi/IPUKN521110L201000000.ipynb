{
 "cells": [
  {
   "cell_type": "markdown",
   "id": "87267c85",
   "metadata": {},
   "source": [
    "# (IPUKN521110L201000000): Hours Worked for Finance and Insurance: Monetary Authorities-Central Bank (NAICS 521110) in the United States"
   ]
  },
  {
   "cell_type": "code",
   "execution_count": null,
   "id": "8547503e",
   "metadata": {},
   "outputs": [],
   "source": [
    "    from functions import *\n",
    "    import os\n",
    "    from dotenv import load_dotenv\n",
    "    load_dotenv()\n",
    "    apikey = os.getenv(\"APIKEY\")\n",
    "    fred = Fred(api_key=apikey)\n",
    "    collect_tune_and_predict('IPUKN521110L201000000',fred,2*365)"
   ]
  }
 ],
 "metadata": {},
 "nbformat": 4,
 "nbformat_minor": 5
}
