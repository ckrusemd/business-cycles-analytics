{
 "cells": [
  {
   "cell_type": "markdown",
   "id": "60c9732b",
   "metadata": {},
   "source": [
    "# (POILBREUSDM): Global price of Brent Crude"
   ]
  },
  {
   "cell_type": "code",
   "execution_count": null,
   "id": "17b69f84",
   "metadata": {},
   "outputs": [],
   "source": [
    "    from functions import *\n",
    "    import os\n",
    "    from dotenv import load_dotenv\n",
    "    load_dotenv()\n",
    "    apikey = os.getenv(\"APIKEY\")\n",
    "    fred = Fred(api_key=apikey)\n",
    "    collect_tune_and_predict('POILBREUSDM',fred,2*365)"
   ]
  }
 ],
 "metadata": {},
 "nbformat": 4,
 "nbformat_minor": 5
}
