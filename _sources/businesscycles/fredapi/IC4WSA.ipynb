{
 "cells": [
  {
   "cell_type": "markdown",
   "id": "e6a1ab3d",
   "metadata": {},
   "source": [
    "# (IC4WSA): 4-Week Moving Average of Initial Claims"
   ]
  },
  {
   "cell_type": "code",
   "execution_count": null,
   "id": "20d3ec6c",
   "metadata": {},
   "outputs": [],
   "source": [
    "    from functions import *\n",
    "    import os\n",
    "    from dotenv import load_dotenv\n",
    "    load_dotenv()\n",
    "    apikey = os.getenv(\"APIKEY\")\n",
    "    fred = Fred(api_key=apikey)\n",
    "    collect_tune_and_predict('IC4WSA',fred,2*365)"
   ]
  }
 ],
 "metadata": {},
 "nbformat": 4,
 "nbformat_minor": 5
}
