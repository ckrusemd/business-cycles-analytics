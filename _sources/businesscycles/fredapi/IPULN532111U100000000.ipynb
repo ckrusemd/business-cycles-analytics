{
 "cells": [
  {
   "cell_type": "markdown",
   "id": "2c31c02e",
   "metadata": {},
   "source": [
    "# (IPULN532111U100000000): Unit Labor Costs for Real Estate and Rental and Leasing: Passenger Car Rental (NAICS 532111) in the United States"
   ]
  },
  {
   "cell_type": "code",
   "execution_count": null,
   "id": "599c706e",
   "metadata": {},
   "outputs": [],
   "source": [
    "    from functions import *\n",
    "    import os\n",
    "    from dotenv import load_dotenv\n",
    "    load_dotenv()\n",
    "    apikey = os.getenv(\"APIKEY\")\n",
    "    fred = Fred(api_key=apikey)\n",
    "    collect_tune_and_predict('IPULN532111U100000000',fred,2*365)"
   ]
  }
 ],
 "metadata": {},
 "nbformat": 4,
 "nbformat_minor": 5
}
