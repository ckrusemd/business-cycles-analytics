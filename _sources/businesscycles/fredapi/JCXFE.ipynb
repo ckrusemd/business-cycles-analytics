{
 "cells": [
  {
   "cell_type": "markdown",
   "id": "6a59e9d0",
   "metadata": {},
   "source": [
    "# (JCXFE): Personal Consumption Expenditures: Chain-type Price Index Less Food and Energy"
   ]
  },
  {
   "cell_type": "code",
   "execution_count": null,
   "id": "579242cf",
   "metadata": {},
   "outputs": [],
   "source": [
    "    from functions import *\n",
    "    import os\n",
    "    from dotenv import load_dotenv\n",
    "    load_dotenv()\n",
    "    apikey = os.getenv(\"APIKEY\")\n",
    "    fred = Fred(api_key=apikey)\n",
    "    collect_tune_and_predict('JCXFE',fred,2*365)"
   ]
  }
 ],
 "metadata": {},
 "nbformat": 4,
 "nbformat_minor": 5
}
