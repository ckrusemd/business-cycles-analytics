{
 "cells": [
  {
   "cell_type": "markdown",
   "id": "bdcc421e",
   "metadata": {},
   "source": [
    "# (BAMLH0A0HYM2): ICE BofA US High Yield Index Option-Adjusted Spread"
   ]
  },
  {
   "cell_type": "code",
   "execution_count": null,
   "id": "b4aa7c54",
   "metadata": {},
   "outputs": [],
   "source": [
    "    from functions import *\n",
    "    import os\n",
    "    from dotenv import load_dotenv\n",
    "    load_dotenv()\n",
    "    apikey = os.getenv(\"APIKEY\")\n",
    "    fred = Fred(api_key=apikey)\n",
    "    collect_tune_and_predict('BAMLH0A0HYM2',fred,2*365)"
   ]
  }
 ],
 "metadata": {},
 "nbformat": 4,
 "nbformat_minor": 5
}
