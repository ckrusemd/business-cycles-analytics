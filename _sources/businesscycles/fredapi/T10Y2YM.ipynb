{
 "cells": [
  {
   "cell_type": "markdown",
   "id": "5e5c1713",
   "metadata": {},
   "source": [
    "# (T10Y2YM): 10-Year Treasury Constant Maturity Minus 2-Year Treasury Constant Maturity"
   ]
  },
  {
   "cell_type": "code",
   "execution_count": null,
   "id": "14ff385b",
   "metadata": {},
   "outputs": [],
   "source": [
    "    from functions import *\n",
    "    import os\n",
    "    from dotenv import load_dotenv\n",
    "    load_dotenv()\n",
    "    apikey = os.getenv(\"APIKEY\")\n",
    "    fred = Fred(api_key=apikey)\n",
    "    collect_tune_and_predict('T10Y2YM',fred,2*365)"
   ]
  }
 ],
 "metadata": {},
 "nbformat": 4,
 "nbformat_minor": 5
}
