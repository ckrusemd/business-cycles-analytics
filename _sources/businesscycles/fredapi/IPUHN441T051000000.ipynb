{
 "cells": [
  {
   "cell_type": "markdown",
   "id": "f3ea071b",
   "metadata": {},
   "source": [
    "# (IPUHN441T051000000): Implicit Output Deflator for Retail Trade: Motor Vehicle and Parts Dealers (NAICS 441) in the United States"
   ]
  },
  {
   "cell_type": "code",
   "execution_count": null,
   "id": "929b0471",
   "metadata": {},
   "outputs": [],
   "source": [
    "    from functions import *\n",
    "    import os\n",
    "    from dotenv import load_dotenv\n",
    "    load_dotenv()\n",
    "    apikey = os.getenv(\"APIKEY\")\n",
    "    fred = Fred(api_key=apikey)\n",
    "    collect_tune_and_predict('IPUHN441T051000000',fred,2*365)"
   ]
  }
 ],
 "metadata": {},
 "nbformat": 4,
 "nbformat_minor": 5
}
