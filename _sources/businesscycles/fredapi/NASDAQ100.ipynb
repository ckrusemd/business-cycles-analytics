{
 "cells": [
  {
   "cell_type": "markdown",
   "id": "16a82bf3",
   "metadata": {},
   "source": [
    "# (NASDAQ100): NASDAQ 100 Index"
   ]
  },
  {
   "cell_type": "code",
   "execution_count": null,
   "id": "96a82bb1",
   "metadata": {},
   "outputs": [],
   "source": [
    "    from functions import *\n",
    "    import os\n",
    "    from dotenv import load_dotenv\n",
    "    load_dotenv()\n",
    "    apikey = os.getenv(\"APIKEY\")\n",
    "    fred = Fred(api_key=apikey)\n",
    "    collect_tune_and_predict('NASDAQ100',fred,2*365)"
   ]
  }
 ],
 "metadata": {},
 "nbformat": 4,
 "nbformat_minor": 5
}
