{
 "cells": [
  {
   "cell_type": "markdown",
   "id": "951a61d6",
   "metadata": {},
   "source": [
    "# (VXVCLS): CBOE S&P 500 3-Month Volatility Index"
   ]
  },
  {
   "cell_type": "code",
   "execution_count": null,
   "id": "3891b772",
   "metadata": {},
   "outputs": [],
   "source": [
    "    from functions import *\n",
    "    import os\n",
    "    from dotenv import load_dotenv\n",
    "    load_dotenv()\n",
    "    apikey = os.getenv(\"APIKEY\")\n",
    "    fred = Fred(api_key=apikey)\n",
    "    collect_tune_and_predict('VXVCLS',fred,2*365)"
   ]
  }
 ],
 "metadata": {},
 "nbformat": 4,
 "nbformat_minor": 5
}
