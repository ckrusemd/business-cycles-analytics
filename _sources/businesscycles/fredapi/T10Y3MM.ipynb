{
 "cells": [
  {
   "cell_type": "markdown",
   "id": "210a5b07",
   "metadata": {},
   "source": [
    "# (T10Y3MM): 10-Year Treasury Constant Maturity Minus 3-Month Treasury Constant Maturity"
   ]
  },
  {
   "cell_type": "code",
   "execution_count": null,
   "id": "f44b9c7d",
   "metadata": {},
   "outputs": [],
   "source": [
    "    from functions import *\n",
    "    import os\n",
    "    from dotenv import load_dotenv\n",
    "    load_dotenv()\n",
    "    apikey = os.getenv(\"APIKEY\")\n",
    "    fred = Fred(api_key=apikey)\n",
    "    collect_tune_and_predict('T10Y3MM',fred,2*365)"
   ]
  }
 ],
 "metadata": {},
 "nbformat": 4,
 "nbformat_minor": 5
}
