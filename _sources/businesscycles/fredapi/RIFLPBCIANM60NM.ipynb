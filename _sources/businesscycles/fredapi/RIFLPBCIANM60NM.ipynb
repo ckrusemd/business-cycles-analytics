{
 "cells": [
  {
   "cell_type": "markdown",
   "id": "2dca780a",
   "metadata": {},
   "source": [
    "# (RIFLPBCIANM60NM): Finance Rate on Consumer Installment Loans at Commercial Banks, New Autos 60 Month Loan"
   ]
  },
  {
   "cell_type": "code",
   "execution_count": null,
   "id": "b1fb3804",
   "metadata": {},
   "outputs": [],
   "source": [
    "    from functions import *\n",
    "    import os\n",
    "    from dotenv import load_dotenv\n",
    "    load_dotenv()\n",
    "    apikey = os.getenv(\"APIKEY\")\n",
    "    fred = Fred(api_key=apikey)\n",
    "    collect_tune_and_predict('RIFLPBCIANM60NM',fred,2*365)"
   ]
  }
 ],
 "metadata": {},
 "nbformat": 4,
 "nbformat_minor": 5
}
