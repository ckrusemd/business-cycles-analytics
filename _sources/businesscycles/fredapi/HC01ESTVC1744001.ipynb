{
 "cells": [
  {
   "cell_type": "markdown",
   "id": "326e25e3",
   "metadata": {},
   "source": [
    "# (HC01ESTVC1744001): Bachelor's Degree or Higher (5-year estimate) in Bristol County, RI"
   ]
  },
  {
   "cell_type": "code",
   "execution_count": null,
   "id": "ea951f7e",
   "metadata": {},
   "outputs": [],
   "source": [
    "    from functions import *\n",
    "    import os\n",
    "    from dotenv import load_dotenv\n",
    "    load_dotenv()\n",
    "    apikey = os.getenv(\"APIKEY\")\n",
    "    fred = Fred(api_key=apikey)\n",
    "    collect_tune_and_predict('HC01ESTVC1744001',fred,2*365)"
   ]
  }
 ],
 "metadata": {},
 "nbformat": 4,
 "nbformat_minor": 5
}
