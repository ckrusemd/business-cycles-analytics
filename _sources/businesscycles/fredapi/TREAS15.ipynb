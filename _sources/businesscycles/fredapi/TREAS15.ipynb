{
 "cells": [
  {
   "cell_type": "markdown",
   "id": "82ef2990",
   "metadata": {},
   "source": [
    "# (TREAS15): Assets: Securities Held Outright: U.S. Treasury Securities: Maturing Within 15 Days: Wednesday Level"
   ]
  },
  {
   "cell_type": "code",
   "execution_count": null,
   "id": "f0831c7e",
   "metadata": {},
   "outputs": [],
   "source": [
    "    from functions import *\n",
    "    import os\n",
    "    from dotenv import load_dotenv\n",
    "    load_dotenv()\n",
    "    apikey = os.getenv(\"APIKEY\")\n",
    "    fred = Fred(api_key=apikey)\n",
    "    collect_tune_and_predict('TREAS15',fred,2*365)"
   ]
  }
 ],
 "metadata": {},
 "nbformat": 4,
 "nbformat_minor": 5
}
