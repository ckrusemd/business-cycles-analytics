{
 "cells": [
  {
   "cell_type": "markdown",
   "id": "168b1fbb",
   "metadata": {},
   "source": [
    "# (HC01ESTVC1732003): Bachelor's Degree or Higher (5-year estimate) in Clark County, NV"
   ]
  },
  {
   "cell_type": "code",
   "execution_count": null,
   "id": "1637a013",
   "metadata": {},
   "outputs": [],
   "source": [
    "    from functions import *\n",
    "    import os\n",
    "    from dotenv import load_dotenv\n",
    "    load_dotenv()\n",
    "    apikey = os.getenv(\"APIKEY\")\n",
    "    fred = Fred(api_key=apikey)\n",
    "    collect_tune_and_predict('HC01ESTVC1732003',fred,2*365)"
   ]
  }
 ],
 "metadata": {},
 "nbformat": 4,
 "nbformat_minor": 5
}
