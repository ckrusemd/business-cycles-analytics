{
 "cells": [
  {
   "cell_type": "markdown",
   "id": "7c8def5c",
   "metadata": {},
   "source": [
    "# (UEMP27OV): Number Unemployed for 27 Weeks & Over"
   ]
  },
  {
   "cell_type": "code",
   "execution_count": null,
   "id": "ef6b46f8",
   "metadata": {},
   "outputs": [],
   "source": [
    "    from functions import *\n",
    "    import os\n",
    "    from dotenv import load_dotenv\n",
    "    load_dotenv()\n",
    "    apikey = os.getenv(\"APIKEY\")\n",
    "    fred = Fred(api_key=apikey)\n",
    "    collect_tune_and_predict('UEMP27OV',fred,2*365)"
   ]
  }
 ],
 "metadata": {},
 "nbformat": 4,
 "nbformat_minor": 5
}
