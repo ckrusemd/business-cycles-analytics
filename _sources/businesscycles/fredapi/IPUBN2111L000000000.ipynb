{
 "cells": [
  {
   "cell_type": "markdown",
   "id": "1df6a694",
   "metadata": {},
   "source": [
    "# (IPUBN2111L000000000): Labor Productivity for Mining: Oil and Gas Extraction (NAICS 2111) in the United States"
   ]
  },
  {
   "cell_type": "code",
   "execution_count": null,
   "id": "c380e442",
   "metadata": {},
   "outputs": [],
   "source": [
    "    from functions import *\n",
    "    import os\n",
    "    from dotenv import load_dotenv\n",
    "    load_dotenv()\n",
    "    apikey = os.getenv(\"APIKEY\")\n",
    "    fred = Fred(api_key=apikey)\n",
    "    collect_tune_and_predict('IPUBN2111L000000000',fred,2*365)"
   ]
  }
 ],
 "metadata": {},
 "nbformat": 4,
 "nbformat_minor": 5
}
