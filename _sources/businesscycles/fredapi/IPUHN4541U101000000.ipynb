{
 "cells": [
  {
   "cell_type": "markdown",
   "id": "5d8f10ec",
   "metadata": {},
   "source": [
    "# (IPUHN4541U101000000): Unit Labor Costs for Retail Trade: Electronic Shopping and Mail-Order Houses (NAICS 4541) in the United States"
   ]
  },
  {
   "cell_type": "code",
   "execution_count": null,
   "id": "d270a8f5",
   "metadata": {},
   "outputs": [],
   "source": [
    "    from functions import *\n",
    "    import os\n",
    "    from dotenv import load_dotenv\n",
    "    load_dotenv()\n",
    "    apikey = os.getenv(\"APIKEY\")\n",
    "    fred = Fred(api_key=apikey)\n",
    "    collect_tune_and_predict('IPUHN4541U101000000',fred,2*365)"
   ]
  }
 ],
 "metadata": {},
 "nbformat": 4,
 "nbformat_minor": 5
}
