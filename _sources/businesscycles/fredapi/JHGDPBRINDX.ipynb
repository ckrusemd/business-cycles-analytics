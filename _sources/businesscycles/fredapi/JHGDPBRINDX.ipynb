{
 "cells": [
  {
   "cell_type": "markdown",
   "id": "7acb2e91",
   "metadata": {},
   "source": [
    "# (JHGDPBRINDX): GDP-Based Recession Indicator Index"
   ]
  },
  {
   "cell_type": "code",
   "execution_count": null,
   "id": "c51e35a0",
   "metadata": {},
   "outputs": [],
   "source": [
    "    from functions import *\n",
    "    import os\n",
    "    from dotenv import load_dotenv\n",
    "    load_dotenv()\n",
    "    apikey = os.getenv(\"APIKEY\")\n",
    "    fred = Fred(api_key=apikey)\n",
    "    collect_tune_and_predict('JHGDPBRINDX',fred,2*365)"
   ]
  }
 ],
 "metadata": {},
 "nbformat": 4,
 "nbformat_minor": 5
}
