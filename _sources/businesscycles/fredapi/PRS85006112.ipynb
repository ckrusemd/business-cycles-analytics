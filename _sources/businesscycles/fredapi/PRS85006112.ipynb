{
 "cells": [
  {
   "cell_type": "markdown",
   "id": "e90822e3",
   "metadata": {},
   "source": [
    "# (PRS85006112): Nonfarm Business Sector: Unit Labor Cost"
   ]
  },
  {
   "cell_type": "code",
   "execution_count": null,
   "id": "e1aa381c",
   "metadata": {},
   "outputs": [],
   "source": [
    "    from functions import *\n",
    "    import os\n",
    "    from dotenv import load_dotenv\n",
    "    load_dotenv()\n",
    "    apikey = os.getenv(\"APIKEY\")\n",
    "    fred = Fred(api_key=apikey)\n",
    "    collect_tune_and_predict('PRS85006112',fred,2*365)"
   ]
  }
 ],
 "metadata": {},
 "nbformat": 4,
 "nbformat_minor": 5
}
