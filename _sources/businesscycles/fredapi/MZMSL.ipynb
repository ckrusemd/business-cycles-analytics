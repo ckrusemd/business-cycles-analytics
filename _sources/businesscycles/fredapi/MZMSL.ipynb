{
 "cells": [
  {
   "cell_type": "markdown",
   "id": "05f6bd65",
   "metadata": {},
   "source": [
    "# (MZMSL): MZM Money Stock (DISCONTINUED)"
   ]
  },
  {
   "cell_type": "code",
   "execution_count": null,
   "id": "737fe0bf",
   "metadata": {},
   "outputs": [],
   "source": [
    "    from functions import *\n",
    "    import os\n",
    "    from dotenv import load_dotenv\n",
    "    load_dotenv()\n",
    "    apikey = os.getenv(\"APIKEY\")\n",
    "    fred = Fred(api_key=apikey)\n",
    "    collect_tune_and_predict('MZMSL',fred,2*365)"
   ]
  }
 ],
 "metadata": {},
 "nbformat": 4,
 "nbformat_minor": 5
}
