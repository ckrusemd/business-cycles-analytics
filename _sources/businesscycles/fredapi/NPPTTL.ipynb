{
 "cells": [
  {
   "cell_type": "markdown",
   "id": "b5d27f16",
   "metadata": {},
   "source": [
    "# (NPPTTL): Total Nonfarm Private Payroll Employment"
   ]
  },
  {
   "cell_type": "code",
   "execution_count": null,
   "id": "34ddc51d",
   "metadata": {},
   "outputs": [],
   "source": [
    "    from functions import *\n",
    "    import os\n",
    "    from dotenv import load_dotenv\n",
    "    load_dotenv()\n",
    "    apikey = os.getenv(\"APIKEY\")\n",
    "    fred = Fred(api_key=apikey)\n",
    "    collect_tune_and_predict('NPPTTL',fred,2*365)"
   ]
  }
 ],
 "metadata": {},
 "nbformat": 4,
 "nbformat_minor": 5
}
