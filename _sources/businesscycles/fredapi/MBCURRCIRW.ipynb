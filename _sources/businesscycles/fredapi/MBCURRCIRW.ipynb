{
 "cells": [
  {
   "cell_type": "markdown",
   "id": "a8dfb75d",
   "metadata": {},
   "source": [
    "# (MBCURRCIRW): Monetary Base; Currency in Circulation (DISCONTINUED)"
   ]
  },
  {
   "cell_type": "code",
   "execution_count": null,
   "id": "9d0d5d77",
   "metadata": {},
   "outputs": [],
   "source": [
    "    from functions import *\n",
    "    import os\n",
    "    from dotenv import load_dotenv\n",
    "    load_dotenv()\n",
    "    apikey = os.getenv(\"APIKEY\")\n",
    "    fred = Fred(api_key=apikey)\n",
    "    collect_tune_and_predict('MBCURRCIRW',fred,2*365)"
   ]
  }
 ],
 "metadata": {},
 "nbformat": 4,
 "nbformat_minor": 5
}
