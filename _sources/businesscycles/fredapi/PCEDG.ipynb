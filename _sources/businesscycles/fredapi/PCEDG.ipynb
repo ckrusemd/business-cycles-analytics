{
 "cells": [
  {
   "cell_type": "markdown",
   "id": "72d2914f",
   "metadata": {},
   "source": [
    "# (PCEDG): Personal Consumption Expenditures: Durable Goods"
   ]
  },
  {
   "cell_type": "code",
   "execution_count": null,
   "id": "f0c901fe",
   "metadata": {},
   "outputs": [],
   "source": [
    "    from functions import *\n",
    "    import os\n",
    "    from dotenv import load_dotenv\n",
    "    load_dotenv()\n",
    "    apikey = os.getenv(\"APIKEY\")\n",
    "    fred = Fred(api_key=apikey)\n",
    "    collect_tune_and_predict('PCEDG',fred,2*365)"
   ]
  }
 ],
 "metadata": {},
 "nbformat": 4,
 "nbformat_minor": 5
}
