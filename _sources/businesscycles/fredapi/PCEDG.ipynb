{
 "cells": [
  {
   "cell_type": "markdown",
   "id": "9f332cd4",
   "metadata": {},
   "source": [
    "# (PCEDG): Personal Consumption Expenditures: Durable Goods"
   ]
  },
  {
   "cell_type": "code",
   "execution_count": null,
   "id": "e4d06a4a",
   "metadata": {},
   "outputs": [],
   "source": [
    "    from functions import *\n",
    "    import os\n",
    "    from dotenv import load_dotenv\n",
    "    load_dotenv()\n",
    "    apikey = os.getenv(\"APIKEY\")\n",
    "    fred = Fred(api_key=apikey)\n",
    "    collect_tune_and_predict('PCEDG',fred,2*365)"
   ]
  }
 ],
 "metadata": {},
 "nbformat": 4,
 "nbformat_minor": 5
}
