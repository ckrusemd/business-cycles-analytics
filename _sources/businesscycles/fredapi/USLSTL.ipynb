{
 "cells": [
  {
   "cell_type": "markdown",
   "id": "f5dd7b59",
   "metadata": {},
   "source": [
    "# (USLSTL): Net Loan Losses to Average Total Loans for all U.S. Banks (DISCONTINUED)"
   ]
  },
  {
   "cell_type": "code",
   "execution_count": null,
   "id": "b2ef2178",
   "metadata": {},
   "outputs": [],
   "source": [
    "    from functions import *\n",
    "    import os\n",
    "    from dotenv import load_dotenv\n",
    "    load_dotenv()\n",
    "    apikey = os.getenv(\"APIKEY\")\n",
    "    fred = Fred(api_key=apikey)\n",
    "    collect_tune_and_predict('USLSTL',fred,2*365)"
   ]
  }
 ],
 "metadata": {},
 "nbformat": 4,
 "nbformat_minor": 5
}
