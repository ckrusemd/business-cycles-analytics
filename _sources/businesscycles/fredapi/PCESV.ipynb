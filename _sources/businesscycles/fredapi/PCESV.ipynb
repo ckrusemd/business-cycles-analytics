{
 "cells": [
  {
   "cell_type": "markdown",
   "id": "b0f8b654",
   "metadata": {},
   "source": [
    "# (PCESV): Personal Consumption Expenditures: Services"
   ]
  },
  {
   "cell_type": "code",
   "execution_count": null,
   "id": "b1d7d9d0",
   "metadata": {},
   "outputs": [],
   "source": [
    "    from functions import *\n",
    "    import os\n",
    "    from dotenv import load_dotenv\n",
    "    load_dotenv()\n",
    "    apikey = os.getenv(\"APIKEY\")\n",
    "    fred = Fred(api_key=apikey)\n",
    "    collect_tune_and_predict('PCESV',fred,2*365)"
   ]
  }
 ],
 "metadata": {},
 "nbformat": 4,
 "nbformat_minor": 5
}
