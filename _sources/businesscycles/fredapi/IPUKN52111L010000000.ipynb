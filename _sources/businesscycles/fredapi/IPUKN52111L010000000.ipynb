{
 "cells": [
  {
   "cell_type": "markdown",
   "id": "39333563",
   "metadata": {},
   "source": [
    "# (IPUKN52111L010000000): Hours Worked for Finance and Insurance: Monetary Authorities-Central Bank (NAICS 52111) in the United States"
   ]
  },
  {
   "cell_type": "code",
   "execution_count": null,
   "id": "2aa1a2fe",
   "metadata": {},
   "outputs": [],
   "source": [
    "    from functions import *\n",
    "    import os\n",
    "    from dotenv import load_dotenv\n",
    "    load_dotenv()\n",
    "    apikey = os.getenv(\"APIKEY\")\n",
    "    fred = Fred(api_key=apikey)\n",
    "    collect_tune_and_predict('IPUKN52111L010000000',fred,2*365)"
   ]
  }
 ],
 "metadata": {},
 "nbformat": 4,
 "nbformat_minor": 5
}
