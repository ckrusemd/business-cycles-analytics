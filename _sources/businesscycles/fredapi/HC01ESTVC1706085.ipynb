{
 "cells": [
  {
   "cell_type": "markdown",
   "id": "d45ab888",
   "metadata": {},
   "source": [
    "# (HC01ESTVC1706085): Bachelor's Degree or Higher (5-year estimate) in Santa Clara County, CA"
   ]
  },
  {
   "cell_type": "code",
   "execution_count": null,
   "id": "d786af32",
   "metadata": {},
   "outputs": [],
   "source": [
    "    from functions import *\n",
    "    import os\n",
    "    from dotenv import load_dotenv\n",
    "    load_dotenv()\n",
    "    apikey = os.getenv(\"APIKEY\")\n",
    "    fred = Fred(api_key=apikey)\n",
    "    collect_tune_and_predict('HC01ESTVC1706085',fred,2*365)"
   ]
  }
 ],
 "metadata": {},
 "nbformat": 4,
 "nbformat_minor": 5
}
