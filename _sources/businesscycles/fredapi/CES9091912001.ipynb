{
 "cells": [
  {
   "cell_type": "markdown",
   "id": "cb170592",
   "metadata": {},
   "source": [
    "# (CES9091912001): All Employees, U.S. Postal Service"
   ]
  },
  {
   "cell_type": "code",
   "execution_count": null,
   "id": "b5035644",
   "metadata": {},
   "outputs": [],
   "source": [
    "    from functions import *\n",
    "    import os\n",
    "    from dotenv import load_dotenv\n",
    "    load_dotenv()\n",
    "    apikey = os.getenv(\"APIKEY\")\n",
    "    fred = Fred(api_key=apikey)\n",
    "    collect_tune_and_predict('CES9091912001',fred,2*365)"
   ]
  }
 ],
 "metadata": {},
 "nbformat": 4,
 "nbformat_minor": 5
}
