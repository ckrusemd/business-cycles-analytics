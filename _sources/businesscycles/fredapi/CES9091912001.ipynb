{
 "cells": [
  {
   "cell_type": "markdown",
   "id": "c6a7e9f3",
   "metadata": {},
   "source": [
    "# (CES9091912001): All Employees, U.S. Postal Service"
   ]
  },
  {
   "cell_type": "code",
   "execution_count": null,
   "id": "34450918",
   "metadata": {},
   "outputs": [],
   "source": [
    "    from functions import *\n",
    "    import os\n",
    "    from dotenv import load_dotenv\n",
    "    load_dotenv()\n",
    "    apikey = os.getenv(\"APIKEY\")\n",
    "    fred = Fred(api_key=apikey)\n",
    "    collect_tune_and_predict('CES9091912001',fred,2*365)"
   ]
  }
 ],
 "metadata": {},
 "nbformat": 4,
 "nbformat_minor": 5
}
