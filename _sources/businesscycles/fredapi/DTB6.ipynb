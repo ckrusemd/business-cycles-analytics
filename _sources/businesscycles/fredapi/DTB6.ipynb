{
 "cells": [
  {
   "cell_type": "markdown",
   "id": "e8759b5e",
   "metadata": {},
   "source": [
    "# (DTB6): 6-Month Treasury Bill: Secondary Market Rate"
   ]
  },
  {
   "cell_type": "code",
   "execution_count": null,
   "id": "b2d05274",
   "metadata": {},
   "outputs": [],
   "source": [
    "    from functions import *\n",
    "    import os\n",
    "    from dotenv import load_dotenv\n",
    "    load_dotenv()\n",
    "    apikey = os.getenv(\"APIKEY\")\n",
    "    fred = Fred(api_key=apikey)\n",
    "    collect_tune_and_predict('DTB6',fred,2*365)"
   ]
  }
 ],
 "metadata": {},
 "nbformat": 4,
 "nbformat_minor": 5
}
