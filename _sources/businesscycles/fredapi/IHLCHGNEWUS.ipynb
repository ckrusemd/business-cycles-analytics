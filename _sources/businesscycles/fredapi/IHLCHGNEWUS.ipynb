{
 "cells": [
  {
   "cell_type": "markdown",
   "id": "86f7f879",
   "metadata": {},
   "source": [
    "# (IHLCHGNEWUS): New Job Postings on Indeed in the United States"
   ]
  },
  {
   "cell_type": "code",
   "execution_count": null,
   "id": "cdf0a6ce",
   "metadata": {},
   "outputs": [],
   "source": [
    "    from functions import *\n",
    "    import os\n",
    "    from dotenv import load_dotenv\n",
    "    load_dotenv()\n",
    "    apikey = os.getenv(\"APIKEY\")\n",
    "    fred = Fred(api_key=apikey)\n",
    "    collect_tune_and_predict('IHLCHGNEWUS',fred,2*365)"
   ]
  }
 ],
 "metadata": {},
 "nbformat": 4,
 "nbformat_minor": 5
}
