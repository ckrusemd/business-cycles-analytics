{
 "cells": [
  {
   "cell_type": "markdown",
   "id": "a589a2ca",
   "metadata": {},
   "source": [
    "# (DALLSRESFRMACBEP): Delinquencies on All Loans and Leases, Secured by Real Estate, Single-Family Residential Mortgages, Booked in Domestic Offices, All Commercial Banks"
   ]
  },
  {
   "cell_type": "code",
   "execution_count": null,
   "id": "a1ae1170",
   "metadata": {},
   "outputs": [],
   "source": [
    "    from functions import *\n",
    "    import os\n",
    "    from dotenv import load_dotenv\n",
    "    load_dotenv()\n",
    "    apikey = os.getenv(\"APIKEY\")\n",
    "    fred = Fred(api_key=apikey)\n",
    "    collect_tune_and_predict('DALLSRESFRMACBEP',fred,2*365)"
   ]
  }
 ],
 "metadata": {},
 "nbformat": 4,
 "nbformat_minor": 5
}
