{
 "cells": [
  {
   "cell_type": "markdown",
   "id": "5cef4abd",
   "metadata": {},
   "source": [
    "# (DCOILBRENTEU): Crude Oil Prices: Brent - Europe"
   ]
  },
  {
   "cell_type": "code",
   "execution_count": null,
   "id": "fae4944d",
   "metadata": {},
   "outputs": [],
   "source": [
    "    from functions import *\n",
    "    import os\n",
    "    from dotenv import load_dotenv\n",
    "    load_dotenv()\n",
    "    apikey = os.getenv(\"APIKEY\")\n",
    "    fred = Fred(api_key=apikey)\n",
    "    collect_tune_and_predict('DCOILBRENTEU',fred,2*365)"
   ]
  }
 ],
 "metadata": {},
 "nbformat": 4,
 "nbformat_minor": 5
}
