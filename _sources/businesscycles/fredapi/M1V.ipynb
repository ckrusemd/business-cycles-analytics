{
 "cells": [
  {
   "cell_type": "markdown",
   "id": "5d77824e",
   "metadata": {},
   "source": [
    "# (M1V): Velocity of M1 Money Stock"
   ]
  },
  {
   "cell_type": "code",
   "execution_count": null,
   "id": "3c3265e9",
   "metadata": {},
   "outputs": [],
   "source": [
    "    from functions import *\n",
    "    import os\n",
    "    from dotenv import load_dotenv\n",
    "    load_dotenv()\n",
    "    apikey = os.getenv(\"APIKEY\")\n",
    "    fred = Fred(api_key=apikey)\n",
    "    collect_tune_and_predict('M1V',fred,2*365)"
   ]
  }
 ],
 "metadata": {},
 "nbformat": 4,
 "nbformat_minor": 5
}
