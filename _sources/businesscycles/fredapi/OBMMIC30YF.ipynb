{
 "cells": [
  {
   "cell_type": "markdown",
   "id": "f35925e3",
   "metadata": {},
   "source": [
    "# (OBMMIC30YF): 30-Year Fixed Rate Conforming Mortgage Index"
   ]
  },
  {
   "cell_type": "code",
   "execution_count": null,
   "id": "9b57e64b",
   "metadata": {},
   "outputs": [],
   "source": [
    "    from functions import *\n",
    "    import os\n",
    "    from dotenv import load_dotenv\n",
    "    load_dotenv()\n",
    "    apikey = os.getenv(\"APIKEY\")\n",
    "    fred = Fred(api_key=apikey)\n",
    "    collect_tune_and_predict('OBMMIC30YF',fred,2*365)"
   ]
  }
 ],
 "metadata": {},
 "nbformat": 4,
 "nbformat_minor": 5
}
