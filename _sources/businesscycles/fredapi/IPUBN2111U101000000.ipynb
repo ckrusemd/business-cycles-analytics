{
 "cells": [
  {
   "cell_type": "markdown",
   "id": "db3bba64",
   "metadata": {},
   "source": [
    "# (IPUBN2111U101000000): Unit Labor Costs for Mining: Oil and Gas Extraction (NAICS 2111) in the United States"
   ]
  },
  {
   "cell_type": "code",
   "execution_count": null,
   "id": "c8bb8217",
   "metadata": {},
   "outputs": [],
   "source": [
    "    from functions import *\n",
    "    import os\n",
    "    from dotenv import load_dotenv\n",
    "    load_dotenv()\n",
    "    apikey = os.getenv(\"APIKEY\")\n",
    "    fred = Fred(api_key=apikey)\n",
    "    collect_tune_and_predict('IPUBN2111U101000000',fred,2*365)"
   ]
  }
 ],
 "metadata": {},
 "nbformat": 4,
 "nbformat_minor": 5
}
