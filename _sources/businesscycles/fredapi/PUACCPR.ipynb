{
 "cells": [
  {
   "cell_type": "markdown",
   "id": "83cd5e1b",
   "metadata": {},
   "source": [
    "# (PUACCPR): Pandemic Unemployment Assistance Continued Claims in Puerto Rico"
   ]
  },
  {
   "cell_type": "code",
   "execution_count": null,
   "id": "ff9117c3",
   "metadata": {},
   "outputs": [],
   "source": [
    "    from functions import *\n",
    "    import os\n",
    "    from dotenv import load_dotenv\n",
    "    load_dotenv()\n",
    "    apikey = os.getenv(\"APIKEY\")\n",
    "    fred = Fred(api_key=apikey)\n",
    "    collect_tune_and_predict('PUACCPR',fred,2*365)"
   ]
  }
 ],
 "metadata": {},
 "nbformat": 4,
 "nbformat_minor": 5
}
