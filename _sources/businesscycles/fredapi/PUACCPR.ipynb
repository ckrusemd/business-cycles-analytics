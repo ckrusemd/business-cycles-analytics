{
 "cells": [
  {
   "cell_type": "markdown",
   "id": "4c80a5a1",
   "metadata": {},
   "source": [
    "# (PUACCPR): Pandemic Unemployment Assistance Continued Claims in Puerto Rico"
   ]
  },
  {
   "cell_type": "code",
   "execution_count": null,
   "id": "71c89894",
   "metadata": {},
   "outputs": [],
   "source": [
    "    from functions import *\n",
    "    import os\n",
    "    from dotenv import load_dotenv\n",
    "    load_dotenv()\n",
    "    apikey = os.getenv(\"APIKEY\")\n",
    "    fred = Fred(api_key=apikey)\n",
    "    collect_tune_and_predict('PUACCPR',fred,2*365)"
   ]
  }
 ],
 "metadata": {},
 "nbformat": 4,
 "nbformat_minor": 5
}
