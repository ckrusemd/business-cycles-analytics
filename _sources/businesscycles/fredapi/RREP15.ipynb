{
 "cells": [
  {
   "cell_type": "markdown",
   "id": "715732e4",
   "metadata": {},
   "source": [
    "# (RREP15): Liabilities and Capital: Liabilities: Reverse Repurchase Agreements: Maturing Within 15 Days: Wednesday Level"
   ]
  },
  {
   "cell_type": "code",
   "execution_count": null,
   "id": "7f8d58bf",
   "metadata": {},
   "outputs": [],
   "source": [
    "    from functions import *\n",
    "    import os\n",
    "    from dotenv import load_dotenv\n",
    "    load_dotenv()\n",
    "    apikey = os.getenv(\"APIKEY\")\n",
    "    fred = Fred(api_key=apikey)\n",
    "    collect_tune_and_predict('RREP15',fred,2*365)"
   ]
  }
 ],
 "metadata": {},
 "nbformat": 4,
 "nbformat_minor": 5
}
