{
 "cells": [
  {
   "cell_type": "markdown",
   "id": "db446e9b",
   "metadata": {},
   "source": [
    "# (TOTALGOV): Total Consumer Loans Owned by Federal Government, Outstanding"
   ]
  },
  {
   "cell_type": "code",
   "execution_count": null,
   "id": "45c17aef",
   "metadata": {},
   "outputs": [],
   "source": [
    "    from functions import *\n",
    "    import os\n",
    "    from dotenv import load_dotenv\n",
    "    load_dotenv()\n",
    "    apikey = os.getenv(\"APIKEY\")\n",
    "    fred = Fred(api_key=apikey)\n",
    "    collect_tune_and_predict('TOTALGOV',fred,2*365)"
   ]
  }
 ],
 "metadata": {},
 "nbformat": 4,
 "nbformat_minor": 5
}
