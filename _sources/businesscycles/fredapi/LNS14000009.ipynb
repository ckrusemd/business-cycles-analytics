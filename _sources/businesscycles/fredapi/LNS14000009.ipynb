{
 "cells": [
  {
   "cell_type": "markdown",
   "id": "c6180c89",
   "metadata": {},
   "source": [
    "# (LNS14000009): Unemployment Rate - Hispanic or Latino"
   ]
  },
  {
   "cell_type": "code",
   "execution_count": null,
   "id": "bc42d365",
   "metadata": {},
   "outputs": [],
   "source": [
    "    from functions import *\n",
    "    import os\n",
    "    from dotenv import load_dotenv\n",
    "    load_dotenv()\n",
    "    apikey = os.getenv(\"APIKEY\")\n",
    "    fred = Fred(api_key=apikey)\n",
    "    collect_tune_and_predict('LNS14000009',fred,2*365)"
   ]
  }
 ],
 "metadata": {},
 "nbformat": 4,
 "nbformat_minor": 5
}
