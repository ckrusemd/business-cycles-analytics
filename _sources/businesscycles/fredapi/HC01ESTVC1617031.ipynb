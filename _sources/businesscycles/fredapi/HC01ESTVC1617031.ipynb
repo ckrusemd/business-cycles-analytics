{
 "cells": [
  {
   "cell_type": "markdown",
   "id": "cfab8d71",
   "metadata": {},
   "source": [
    "# (HC01ESTVC1617031): High School Graduate or Higher (5-year estimate) in Cook County, IL"
   ]
  },
  {
   "cell_type": "code",
   "execution_count": null,
   "id": "9db205ca",
   "metadata": {},
   "outputs": [],
   "source": [
    "    from functions import *\n",
    "    import os\n",
    "    from dotenv import load_dotenv\n",
    "    load_dotenv()\n",
    "    apikey = os.getenv(\"APIKEY\")\n",
    "    fred = Fred(api_key=apikey)\n",
    "    collect_tune_and_predict('HC01ESTVC1617031',fred,2*365)"
   ]
  }
 ],
 "metadata": {},
 "nbformat": 4,
 "nbformat_minor": 5
}
