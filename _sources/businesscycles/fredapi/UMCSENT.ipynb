{
 "cells": [
  {
   "cell_type": "markdown",
   "id": "ec1d1340",
   "metadata": {},
   "source": [
    "# (UMCSENT): University of Michigan: Consumer Sentiment"
   ]
  },
  {
   "cell_type": "code",
   "execution_count": null,
   "id": "ead482ef",
   "metadata": {},
   "outputs": [],
   "source": [
    "    from functions import *\n",
    "    import os\n",
    "    from dotenv import load_dotenv\n",
    "    load_dotenv()\n",
    "    apikey = os.getenv(\"APIKEY\")\n",
    "    fred = Fred(api_key=apikey)\n",
    "    collect_tune_and_predict('UMCSENT',fred,2*365)"
   ]
  }
 ],
 "metadata": {},
 "nbformat": 4,
 "nbformat_minor": 5
}
