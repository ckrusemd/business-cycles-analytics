{
 "cells": [
  {
   "cell_type": "markdown",
   "id": "3ee916cd",
   "metadata": {},
   "source": [
    "# (PRUBBUSDM): Global price of Rubber"
   ]
  },
  {
   "cell_type": "code",
   "execution_count": null,
   "id": "9a8c3dcc",
   "metadata": {},
   "outputs": [],
   "source": [
    "    from functions import *\n",
    "    import os\n",
    "    from dotenv import load_dotenv\n",
    "    load_dotenv()\n",
    "    apikey = os.getenv(\"APIKEY\")\n",
    "    fred = Fred(api_key=apikey)\n",
    "    collect_tune_and_predict('PRUBBUSDM',fred,2*365)"
   ]
  }
 ],
 "metadata": {},
 "nbformat": 4,
 "nbformat_minor": 5
}
