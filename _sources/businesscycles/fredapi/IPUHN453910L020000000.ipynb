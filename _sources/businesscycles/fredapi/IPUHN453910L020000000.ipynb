{
 "cells": [
  {
   "cell_type": "markdown",
   "id": "f4adb78f",
   "metadata": {},
   "source": [
    "# (IPUHN453910L020000000): Labor Compensation for Retail Trade: Pet and Pet Supplies Stores (NAICS 453910) in the United States"
   ]
  },
  {
   "cell_type": "code",
   "execution_count": null,
   "id": "ae2c6c48",
   "metadata": {},
   "outputs": [],
   "source": [
    "    from functions import *\n",
    "    import os\n",
    "    from dotenv import load_dotenv\n",
    "    load_dotenv()\n",
    "    apikey = os.getenv(\"APIKEY\")\n",
    "    fred = Fred(api_key=apikey)\n",
    "    collect_tune_and_predict('IPUHN453910L020000000',fred,2*365)"
   ]
  }
 ],
 "metadata": {},
 "nbformat": 4,
 "nbformat_minor": 5
}
