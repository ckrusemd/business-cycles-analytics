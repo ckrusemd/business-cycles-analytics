{
 "cells": [
  {
   "cell_type": "markdown",
   "id": "85279916",
   "metadata": {},
   "source": [
    "# (WILLRESIPR): Wilshire US Real Estate Securities Price Index (Wilshire US RESI)"
   ]
  },
  {
   "cell_type": "code",
   "execution_count": null,
   "id": "2dfbf00f",
   "metadata": {},
   "outputs": [],
   "source": [
    "    from functions import *\n",
    "    import os\n",
    "    from dotenv import load_dotenv\n",
    "    load_dotenv()\n",
    "    apikey = os.getenv(\"APIKEY\")\n",
    "    fred = Fred(api_key=apikey)\n",
    "    collect_tune_and_predict('WILLRESIPR',fred,2*365)"
   ]
  }
 ],
 "metadata": {},
 "nbformat": 4,
 "nbformat_minor": 5
}
