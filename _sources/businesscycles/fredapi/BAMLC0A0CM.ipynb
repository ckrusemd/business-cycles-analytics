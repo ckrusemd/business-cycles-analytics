{
 "cells": [
  {
   "cell_type": "markdown",
   "id": "3929a51e",
   "metadata": {},
   "source": [
    "# (BAMLC0A0CM): ICE BofA US Corporate Index Option-Adjusted Spread"
   ]
  },
  {
   "cell_type": "code",
   "execution_count": null,
   "id": "bb0d50df",
   "metadata": {},
   "outputs": [],
   "source": [
    "    from functions import *\n",
    "    import os\n",
    "    from dotenv import load_dotenv\n",
    "    load_dotenv()\n",
    "    apikey = os.getenv(\"APIKEY\")\n",
    "    fred = Fred(api_key=apikey)\n",
    "    collect_tune_and_predict('BAMLC0A0CM',fred,2*365)"
   ]
  }
 ],
 "metadata": {},
 "nbformat": 4,
 "nbformat_minor": 5
}
