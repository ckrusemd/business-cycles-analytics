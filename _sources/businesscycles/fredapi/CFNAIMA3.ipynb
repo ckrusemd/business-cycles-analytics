{
 "cells": [
  {
   "cell_type": "markdown",
   "id": "f63a94b8",
   "metadata": {},
   "source": [
    "# (CFNAIMA3): Chicago Fed National Activity Index: Three Month Moving Average"
   ]
  },
  {
   "cell_type": "code",
   "execution_count": null,
   "id": "4b0f2d42",
   "metadata": {},
   "outputs": [],
   "source": [
    "    from functions import *\n",
    "    import os\n",
    "    from dotenv import load_dotenv\n",
    "    load_dotenv()\n",
    "    apikey = os.getenv(\"APIKEY\")\n",
    "    fred = Fred(api_key=apikey)\n",
    "    collect_tune_and_predict('CFNAIMA3',fred,2*365)"
   ]
  }
 ],
 "metadata": {},
 "nbformat": 4,
 "nbformat_minor": 5
}
