{
 "cells": [
  {
   "cell_type": "markdown",
   "id": "8aac7f24",
   "metadata": {},
   "source": [
    "# (NPPTM): Nonfarm Private Medium Payroll Employment (50 - 499)"
   ]
  },
  {
   "cell_type": "code",
   "execution_count": null,
   "id": "c4ff8ff2",
   "metadata": {},
   "outputs": [],
   "source": [
    "    from functions import *\n",
    "    import os\n",
    "    from dotenv import load_dotenv\n",
    "    load_dotenv()\n",
    "    apikey = os.getenv(\"APIKEY\")\n",
    "    fred = Fred(api_key=apikey)\n",
    "    collect_tune_and_predict('NPPTM',fred,2*365)"
   ]
  }
 ],
 "metadata": {},
 "nbformat": 4,
 "nbformat_minor": 5
}
