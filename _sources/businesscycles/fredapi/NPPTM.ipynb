{
 "cells": [
  {
   "cell_type": "markdown",
   "id": "a53c7234",
   "metadata": {},
   "source": [
    "# (NPPTM): Nonfarm Private Medium Payroll Employment (50 - 499)"
   ]
  },
  {
   "cell_type": "code",
   "execution_count": null,
   "id": "2e918e02",
   "metadata": {},
   "outputs": [],
   "source": [
    "    from functions import *\n",
    "    import os\n",
    "    from dotenv import load_dotenv\n",
    "    load_dotenv()\n",
    "    apikey = os.getenv(\"APIKEY\")\n",
    "    fred = Fred(api_key=apikey)\n",
    "    collect_tune_and_predict('NPPTM',fred,2*365)"
   ]
  }
 ],
 "metadata": {},
 "nbformat": 4,
 "nbformat_minor": 5
}
