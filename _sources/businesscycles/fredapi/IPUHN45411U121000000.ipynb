{
 "cells": [
  {
   "cell_type": "markdown",
   "id": "0efb8d72",
   "metadata": {},
   "source": [
    "# (IPUHN45411U121000000): Hourly Compensation for Retail Trade: Electronic Shopping and Mail-Order Houses (NAICS 45411) in the United States"
   ]
  },
  {
   "cell_type": "code",
   "execution_count": null,
   "id": "adf9fbf2",
   "metadata": {},
   "outputs": [],
   "source": [
    "    from functions import *\n",
    "    import os\n",
    "    from dotenv import load_dotenv\n",
    "    load_dotenv()\n",
    "    apikey = os.getenv(\"APIKEY\")\n",
    "    fred = Fred(api_key=apikey)\n",
    "    collect_tune_and_predict('IPUHN45411U121000000',fred,2*365)"
   ]
  }
 ],
 "metadata": {},
 "nbformat": 4,
 "nbformat_minor": 5
}
