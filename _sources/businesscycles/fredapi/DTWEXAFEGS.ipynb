{
 "cells": [
  {
   "cell_type": "markdown",
   "id": "b3cb2922",
   "metadata": {},
   "source": [
    "# (DTWEXAFEGS): Trade Weighted U.S. Dollar Index: Advanced Foreign Economies, Goods and Services"
   ]
  },
  {
   "cell_type": "code",
   "execution_count": null,
   "id": "939c15e8",
   "metadata": {},
   "outputs": [],
   "source": [
    "    from functions import *\n",
    "    import os\n",
    "    from dotenv import load_dotenv\n",
    "    load_dotenv()\n",
    "    apikey = os.getenv(\"APIKEY\")\n",
    "    fred = Fred(api_key=apikey)\n",
    "    collect_tune_and_predict('DTWEXAFEGS',fred,2*365)"
   ]
  }
 ],
 "metadata": {},
 "nbformat": 4,
 "nbformat_minor": 5
}
