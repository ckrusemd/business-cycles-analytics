{
 "cells": [
  {
   "cell_type": "markdown",
   "id": "5c56eb1e",
   "metadata": {},
   "source": [
    "# (MORTGAGE15US): 15-Year Fixed Rate Mortgage Average in the United States"
   ]
  },
  {
   "cell_type": "code",
   "execution_count": null,
   "id": "684bdb0b",
   "metadata": {},
   "outputs": [],
   "source": [
    "    from functions import *\n",
    "    import os\n",
    "    from dotenv import load_dotenv\n",
    "    load_dotenv()\n",
    "    apikey = os.getenv(\"APIKEY\")\n",
    "    fred = Fred(api_key=apikey)\n",
    "    collect_tune_and_predict('MORTGAGE15US',fred,2*365)"
   ]
  }
 ],
 "metadata": {},
 "nbformat": 4,
 "nbformat_minor": 5
}
