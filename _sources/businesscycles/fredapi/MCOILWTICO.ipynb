{
 "cells": [
  {
   "cell_type": "markdown",
   "id": "c1be1d4b",
   "metadata": {},
   "source": [
    "# (MCOILWTICO): Crude Oil Prices: West Texas Intermediate (WTI) - Cushing, Oklahoma"
   ]
  },
  {
   "cell_type": "code",
   "execution_count": null,
   "id": "b8b6019c",
   "metadata": {},
   "outputs": [],
   "source": [
    "    from functions import *\n",
    "    import os\n",
    "    from dotenv import load_dotenv\n",
    "    load_dotenv()\n",
    "    apikey = os.getenv(\"APIKEY\")\n",
    "    fred = Fred(api_key=apikey)\n",
    "    collect_tune_and_predict('MCOILWTICO',fred,2*365)"
   ]
  }
 ],
 "metadata": {},
 "nbformat": 4,
 "nbformat_minor": 5
}
