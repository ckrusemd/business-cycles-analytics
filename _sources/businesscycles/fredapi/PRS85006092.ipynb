{
 "cells": [
  {
   "cell_type": "markdown",
   "id": "2f84c038",
   "metadata": {},
   "source": [
    "# (PRS85006092): Nonfarm Business Sector: Real Output Per Hour of All Persons"
   ]
  },
  {
   "cell_type": "code",
   "execution_count": null,
   "id": "b11401e9",
   "metadata": {},
   "outputs": [],
   "source": [
    "    from functions import *\n",
    "    import os\n",
    "    from dotenv import load_dotenv\n",
    "    load_dotenv()\n",
    "    apikey = os.getenv(\"APIKEY\")\n",
    "    fred = Fred(api_key=apikey)\n",
    "    collect_tune_and_predict('PRS85006092',fred,2*365)"
   ]
  }
 ],
 "metadata": {},
 "nbformat": 4,
 "nbformat_minor": 5
}
