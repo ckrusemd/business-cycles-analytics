{
 "cells": [
  {
   "cell_type": "markdown",
   "id": "8c92fbd2",
   "metadata": {},
   "source": [
    "# (IPULN531210W201000000): Employment for Real Estate and Rental and Leasing: Offices of Real Estate Agents and Brokers (NAICS 531210) in the United States"
   ]
  },
  {
   "cell_type": "code",
   "execution_count": null,
   "id": "65464a4f",
   "metadata": {},
   "outputs": [],
   "source": [
    "    from functions import *\n",
    "    import os\n",
    "    from dotenv import load_dotenv\n",
    "    load_dotenv()\n",
    "    apikey = os.getenv(\"APIKEY\")\n",
    "    fred = Fred(api_key=apikey)\n",
    "    collect_tune_and_predict('IPULN531210W201000000',fred,2*365)"
   ]
  }
 ],
 "metadata": {},
 "nbformat": 4,
 "nbformat_minor": 5
}
