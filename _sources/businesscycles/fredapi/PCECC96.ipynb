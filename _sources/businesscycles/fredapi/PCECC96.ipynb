{
 "cells": [
  {
   "cell_type": "markdown",
   "id": "004cfd42",
   "metadata": {},
   "source": [
    "# (PCECC96): Real Personal Consumption Expenditures"
   ]
  },
  {
   "cell_type": "code",
   "execution_count": null,
   "id": "2362940e",
   "metadata": {},
   "outputs": [],
   "source": [
    "    from functions import *\n",
    "    import os\n",
    "    from dotenv import load_dotenv\n",
    "    load_dotenv()\n",
    "    apikey = os.getenv(\"APIKEY\")\n",
    "    fred = Fred(api_key=apikey)\n",
    "    collect_tune_and_predict('PCECC96',fred,2*365)"
   ]
  }
 ],
 "metadata": {},
 "nbformat": 4,
 "nbformat_minor": 5
}
