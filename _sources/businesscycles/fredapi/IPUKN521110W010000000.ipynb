{
 "cells": [
  {
   "cell_type": "markdown",
   "id": "b0d72ebd",
   "metadata": {},
   "source": [
    "# (IPUKN521110W010000000): Employment for Finance and Insurance: Monetary Authorities-Central Bank (NAICS 521110) in the United States"
   ]
  },
  {
   "cell_type": "code",
   "execution_count": null,
   "id": "53c06273",
   "metadata": {},
   "outputs": [],
   "source": [
    "    from functions import *\n",
    "    import os\n",
    "    from dotenv import load_dotenv\n",
    "    load_dotenv()\n",
    "    apikey = os.getenv(\"APIKEY\")\n",
    "    fred = Fred(api_key=apikey)\n",
    "    collect_tune_and_predict('IPUKN521110W010000000',fred,2*365)"
   ]
  }
 ],
 "metadata": {},
 "nbformat": 4,
 "nbformat_minor": 5
}
