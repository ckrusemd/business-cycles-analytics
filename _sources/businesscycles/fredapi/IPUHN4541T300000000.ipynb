{
 "cells": [
  {
   "cell_type": "markdown",
   "id": "b9f8e9b6",
   "metadata": {},
   "source": [
    "# (IPUHN4541T300000000): Value of Production for Retail Trade: Electronic Shopping and Mail-Order Houses (NAICS 4541) in the United States"
   ]
  },
  {
   "cell_type": "code",
   "execution_count": null,
   "id": "21db1908",
   "metadata": {},
   "outputs": [],
   "source": [
    "    from functions import *\n",
    "    import os\n",
    "    from dotenv import load_dotenv\n",
    "    load_dotenv()\n",
    "    apikey = os.getenv(\"APIKEY\")\n",
    "    fred = Fred(api_key=apikey)\n",
    "    collect_tune_and_predict('IPUHN4541T300000000',fred,2*365)"
   ]
  }
 ],
 "metadata": {},
 "nbformat": 4,
 "nbformat_minor": 5
}
