{
 "cells": [
  {
   "cell_type": "markdown",
   "id": "5ba424e8",
   "metadata": {},
   "source": [
    "# (WILLLRGCAPGR): Wilshire US Large-Cap Growth Total Market Index"
   ]
  },
  {
   "cell_type": "code",
   "execution_count": null,
   "id": "abbd32b1",
   "metadata": {},
   "outputs": [],
   "source": [
    "    from functions import *\n",
    "    import os\n",
    "    from dotenv import load_dotenv\n",
    "    load_dotenv()\n",
    "    apikey = os.getenv(\"APIKEY\")\n",
    "    fred = Fred(api_key=apikey)\n",
    "    collect_tune_and_predict('WILLLRGCAPGR',fred,2*365)"
   ]
  }
 ],
 "metadata": {},
 "nbformat": 4,
 "nbformat_minor": 5
}
