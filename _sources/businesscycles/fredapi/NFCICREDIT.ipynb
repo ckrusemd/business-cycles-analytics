{
 "cells": [
  {
   "cell_type": "markdown",
   "id": "005df5a2",
   "metadata": {},
   "source": [
    "# (NFCICREDIT): Chicago Fed National Financial Conditions Credit Subindex"
   ]
  },
  {
   "cell_type": "code",
   "execution_count": null,
   "id": "8662ea3e",
   "metadata": {},
   "outputs": [],
   "source": [
    "    from functions import *\n",
    "    import os\n",
    "    from dotenv import load_dotenv\n",
    "    load_dotenv()\n",
    "    apikey = os.getenv(\"APIKEY\")\n",
    "    fred = Fred(api_key=apikey)\n",
    "    collect_tune_and_predict('NFCICREDIT',fred,2*365)"
   ]
  }
 ],
 "metadata": {},
 "nbformat": 4,
 "nbformat_minor": 5
}
