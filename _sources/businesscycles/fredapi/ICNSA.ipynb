{
 "cells": [
  {
   "cell_type": "markdown",
   "id": "98f0d3e3",
   "metadata": {},
   "source": [
    "# (ICNSA): Initial Claims"
   ]
  },
  {
   "cell_type": "code",
   "execution_count": null,
   "id": "20074af1",
   "metadata": {},
   "outputs": [],
   "source": [
    "    from functions import *\n",
    "    import os\n",
    "    from dotenv import load_dotenv\n",
    "    load_dotenv()\n",
    "    apikey = os.getenv(\"APIKEY\")\n",
    "    fred = Fred(api_key=apikey)\n",
    "    collect_tune_and_predict('ICNSA',fred,2*365)"
   ]
  }
 ],
 "metadata": {},
 "nbformat": 4,
 "nbformat_minor": 5
}
