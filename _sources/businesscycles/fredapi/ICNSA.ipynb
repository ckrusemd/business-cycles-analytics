{
 "cells": [
  {
   "cell_type": "markdown",
   "id": "8393d7ce",
   "metadata": {},
   "source": [
    "# (ICNSA): Initial Claims"
   ]
  },
  {
   "cell_type": "code",
   "execution_count": null,
   "id": "dc4737f0",
   "metadata": {},
   "outputs": [],
   "source": [
    "    from functions import *\n",
    "    import os\n",
    "    from dotenv import load_dotenv\n",
    "    load_dotenv()\n",
    "    apikey = os.getenv(\"APIKEY\")\n",
    "    fred = Fred(api_key=apikey)\n",
    "    collect_tune_and_predict('ICNSA',fred,2*365)"
   ]
  }
 ],
 "metadata": {},
 "nbformat": 4,
 "nbformat_minor": 5
}
