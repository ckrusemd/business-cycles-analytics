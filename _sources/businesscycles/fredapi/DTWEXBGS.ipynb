{
 "cells": [
  {
   "cell_type": "markdown",
   "id": "2e08d743",
   "metadata": {},
   "source": [
    "# (DTWEXBGS): Trade Weighted U.S. Dollar Index: Broad, Goods and Services"
   ]
  },
  {
   "cell_type": "code",
   "execution_count": null,
   "id": "831ffec5",
   "metadata": {},
   "outputs": [],
   "source": [
    "    from functions import *\n",
    "    import os\n",
    "    from dotenv import load_dotenv\n",
    "    load_dotenv()\n",
    "    apikey = os.getenv(\"APIKEY\")\n",
    "    fred = Fred(api_key=apikey)\n",
    "    collect_tune_and_predict('DTWEXBGS',fred,2*365)"
   ]
  }
 ],
 "metadata": {},
 "nbformat": 4,
 "nbformat_minor": 5
}
