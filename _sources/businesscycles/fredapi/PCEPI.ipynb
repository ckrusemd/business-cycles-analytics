{
 "cells": [
  {
   "cell_type": "markdown",
   "id": "0aced9d7",
   "metadata": {},
   "source": [
    "# (PCEPI): Personal Consumption Expenditures: Chain-type Price Index"
   ]
  },
  {
   "cell_type": "code",
   "execution_count": null,
   "id": "7602101d",
   "metadata": {},
   "outputs": [],
   "source": [
    "    from functions import *\n",
    "    import os\n",
    "    from dotenv import load_dotenv\n",
    "    load_dotenv()\n",
    "    apikey = os.getenv(\"APIKEY\")\n",
    "    fred = Fred(api_key=apikey)\n",
    "    collect_tune_and_predict('PCEPI',fred,2*365)"
   ]
  }
 ],
 "metadata": {},
 "nbformat": 4,
 "nbformat_minor": 5
}
