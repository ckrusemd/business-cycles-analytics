{
 "cells": [
  {
   "cell_type": "markdown",
   "id": "22ff698f",
   "metadata": {},
   "source": [
    "# (IPUKN52111W201000000): Employment for Finance and Insurance: Monetary Authorities-Central Bank (NAICS 52111) in the United States"
   ]
  },
  {
   "cell_type": "code",
   "execution_count": null,
   "id": "7c901c21",
   "metadata": {},
   "outputs": [],
   "source": [
    "    from functions import *\n",
    "    import os\n",
    "    from dotenv import load_dotenv\n",
    "    load_dotenv()\n",
    "    apikey = os.getenv(\"APIKEY\")\n",
    "    fred = Fred(api_key=apikey)\n",
    "    collect_tune_and_predict('IPUKN52111W201000000',fred,2*365)"
   ]
  }
 ],
 "metadata": {},
 "nbformat": 4,
 "nbformat_minor": 5
}
