{
 "cells": [
  {
   "cell_type": "markdown",
   "id": "321d1e9d",
   "metadata": {},
   "source": [
    "# (IPUKN521110L200000000): Hours Worked for Finance and Insurance: Monetary Authorities-Central Bank (NAICS 521110) in the United States"
   ]
  },
  {
   "cell_type": "code",
   "execution_count": null,
   "id": "bd76d58e",
   "metadata": {},
   "outputs": [],
   "source": [
    "    from functions import *\n",
    "    import os\n",
    "    from dotenv import load_dotenv\n",
    "    load_dotenv()\n",
    "    apikey = os.getenv(\"APIKEY\")\n",
    "    fred = Fred(api_key=apikey)\n",
    "    collect_tune_and_predict('IPUKN521110L200000000',fred,2*365)"
   ]
  }
 ],
 "metadata": {},
 "nbformat": 4,
 "nbformat_minor": 5
}
