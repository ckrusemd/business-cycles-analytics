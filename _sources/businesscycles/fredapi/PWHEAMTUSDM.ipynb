{
 "cells": [
  {
   "cell_type": "markdown",
   "id": "ccf030aa",
   "metadata": {},
   "source": [
    "# (PWHEAMTUSDM): Global price of Wheat"
   ]
  },
  {
   "cell_type": "code",
   "execution_count": null,
   "id": "6ca31f3c",
   "metadata": {},
   "outputs": [],
   "source": [
    "    from functions import *\n",
    "    import os\n",
    "    from dotenv import load_dotenv\n",
    "    load_dotenv()\n",
    "    apikey = os.getenv(\"APIKEY\")\n",
    "    fred = Fred(api_key=apikey)\n",
    "    collect_tune_and_predict('PWHEAMTUSDM',fred,2*365)"
   ]
  }
 ],
 "metadata": {},
 "nbformat": 4,
 "nbformat_minor": 5
}
