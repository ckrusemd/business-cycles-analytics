{
 "cells": [
  {
   "cell_type": "markdown",
   "id": "51d29287",
   "metadata": {},
   "source": [
    "# (MORTPTS30US): Origination Fees and Discount Points for 30-Year Fixed Rate Mortgage in the United States"
   ]
  },
  {
   "cell_type": "code",
   "execution_count": null,
   "id": "0d9e6ce9",
   "metadata": {},
   "outputs": [],
   "source": [
    "    from functions import *\n",
    "    import os\n",
    "    from dotenv import load_dotenv\n",
    "    load_dotenv()\n",
    "    apikey = os.getenv(\"APIKEY\")\n",
    "    fred = Fred(api_key=apikey)\n",
    "    collect_tune_and_predict('MORTPTS30US',fred,2*365)"
   ]
  }
 ],
 "metadata": {},
 "nbformat": 4,
 "nbformat_minor": 5
}
