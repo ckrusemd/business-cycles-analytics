{
 "cells": [
  {
   "cell_type": "markdown",
   "id": "fc6731f5",
   "metadata": {},
   "source": [
    "# (MORTPTS30US): Origination Fees and Discount Points for 30-Year Fixed Rate Mortgage in the United States"
   ]
  },
  {
   "cell_type": "code",
   "execution_count": null,
   "id": "b05380ff",
   "metadata": {},
   "outputs": [],
   "source": [
    "    from functions import *\n",
    "    import os\n",
    "    from dotenv import load_dotenv\n",
    "    load_dotenv()\n",
    "    apikey = os.getenv(\"APIKEY\")\n",
    "    fred = Fred(api_key=apikey)\n",
    "    collect_tune_and_predict('MORTPTS30US',fred,2*365)"
   ]
  }
 ],
 "metadata": {},
 "nbformat": 4,
 "nbformat_minor": 5
}
