{
 "cells": [
  {
   "cell_type": "markdown",
   "id": "0c64134f",
   "metadata": {},
   "source": [
    "# (DSPIC96): Real Disposable Personal Income"
   ]
  },
  {
   "cell_type": "code",
   "execution_count": null,
   "id": "cabd4471",
   "metadata": {},
   "outputs": [],
   "source": [
    "    from functions import *\n",
    "    import os\n",
    "    from dotenv import load_dotenv\n",
    "    load_dotenv()\n",
    "    apikey = os.getenv(\"APIKEY\")\n",
    "    fred = Fred(api_key=apikey)\n",
    "    collect_tune_and_predict('DSPIC96',fred,2*365)"
   ]
  }
 ],
 "metadata": {},
 "nbformat": 4,
 "nbformat_minor": 5
}
