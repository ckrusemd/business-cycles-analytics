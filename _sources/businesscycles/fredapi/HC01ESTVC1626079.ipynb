{
 "cells": [
  {
   "cell_type": "markdown",
   "id": "0122b4eb",
   "metadata": {},
   "source": [
    "# (HC01ESTVC1626079): High School Graduate or Higher (5-year estimate) in Kalkaska County, MI"
   ]
  },
  {
   "cell_type": "code",
   "execution_count": null,
   "id": "6e2eb821",
   "metadata": {},
   "outputs": [],
   "source": [
    "    from functions import *\n",
    "    import os\n",
    "    from dotenv import load_dotenv\n",
    "    load_dotenv()\n",
    "    apikey = os.getenv(\"APIKEY\")\n",
    "    fred = Fred(api_key=apikey)\n",
    "    collect_tune_and_predict('HC01ESTVC1626079',fred,2*365)"
   ]
  }
 ],
 "metadata": {},
 "nbformat": 4,
 "nbformat_minor": 5
}
