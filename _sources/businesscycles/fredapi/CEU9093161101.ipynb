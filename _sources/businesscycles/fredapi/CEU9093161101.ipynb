{
 "cells": [
  {
   "cell_type": "markdown",
   "id": "de44d13d",
   "metadata": {},
   "source": [
    "# (CEU9093161101): All Employees, Local Government Education"
   ]
  },
  {
   "cell_type": "code",
   "execution_count": null,
   "id": "528e5395",
   "metadata": {},
   "outputs": [],
   "source": [
    "    from functions import *\n",
    "    import os\n",
    "    from dotenv import load_dotenv\n",
    "    load_dotenv()\n",
    "    apikey = os.getenv(\"APIKEY\")\n",
    "    fred = Fred(api_key=apikey)\n",
    "    collect_tune_and_predict('CEU9093161101',fred,2*365)"
   ]
  }
 ],
 "metadata": {},
 "nbformat": 4,
 "nbformat_minor": 5
}
