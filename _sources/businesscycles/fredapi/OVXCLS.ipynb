{
 "cells": [
  {
   "cell_type": "markdown",
   "id": "47e60fb4",
   "metadata": {},
   "source": [
    "# (OVXCLS): CBOE Crude Oil ETF Volatility Index"
   ]
  },
  {
   "cell_type": "code",
   "execution_count": null,
   "id": "6281d3ef",
   "metadata": {},
   "outputs": [],
   "source": [
    "    from functions import *\n",
    "    import os\n",
    "    from dotenv import load_dotenv\n",
    "    load_dotenv()\n",
    "    apikey = os.getenv(\"APIKEY\")\n",
    "    fred = Fred(api_key=apikey)\n",
    "    collect_tune_and_predict('OVXCLS',fred,2*365)"
   ]
  }
 ],
 "metadata": {},
 "nbformat": 4,
 "nbformat_minor": 5
}
